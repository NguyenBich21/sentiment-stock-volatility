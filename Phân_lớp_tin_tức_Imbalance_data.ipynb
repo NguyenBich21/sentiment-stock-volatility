{
  "cells": [
    {
      "cell_type": "markdown",
      "metadata": {
        "id": "KD3mnac0yYRJ"
      },
      "source": [
        "# Bước 1: Chuẩn bị và xử lý dữ liệu"
      ]
    },
    {
      "cell_type": "code",
      "execution_count": null,
      "metadata": {
        "id": "pd5dIT6B1Hkl"
      },
      "outputs": [],
      "source": [
        "import pandas as pd\n",
        "import re\n",
        "from nltk.tokenize import word_tokenize\n",
        "from nltk.corpus import stopwords\n",
        "from nltk.stem import WordNetLemmatizer\n",
        "import nltk\n",
        "from sklearn.model_selection import train_test_split\n",
        "from sklearn.feature_extraction.text import TfidfVectorizer\n",
        "from gensim.models import Word2Vec\n"
      ]
    },
    {
      "cell_type": "code",
      "execution_count": null,
      "metadata": {
        "colab": {
          "base_uri": "https://localhost:8080/"
        },
        "id": "7ym_D32Q0038",
        "outputId": "66719f60-cb6d-4f56-8c20-9fda95ce3226"
      },
      "outputs": [
        {
          "output_type": "stream",
          "name": "stdout",
          "text": [
            "Dữ liệu đầu vào:\n",
            "     Bank                                               Link  \\\n",
            "0  ABBank  https://cafef.vn/abbank-giam-toi-15-nam-lai-su...   \n",
            "1  ABBank  https://cafef.vn/abbank-va-maybank-tang-cuong-...   \n",
            "2  ABBank  https://cafef.vn/16-ca-nhan-3-to-chuc-so-huu-g...   \n",
            "3  ABBank  https://cafef.vn/abbank-dat-558-ty-dong-loi-nh...   \n",
            "4  ABBank  https://cafef.vn/nhieu-uu-dai-danh-cho-khach-h...   \n",
            "\n",
            "                                               Title  \\\n",
            "0  ABBank giảm tới 1,5%/năm lãi suất cho vay khác...   \n",
            "1  Maybank tăng cường quan hệ hợp tác chiến lược,...   \n",
            "2  16 cá nhân, 3 tổ chức sở hữu gần 67% vốn điều ...   \n",
            "3  ABBANK đạt 558 tỷ đồng lợi nhuận trước thuế tr...   \n",
            "4  Nhiều ưu đãi dành cho khách hàng ABBANK nhân s...   \n",
            "\n",
            "                                         Description         Time_published  \\\n",
            "0  Với mong muốn cùng chung tay tiếp sức, hỗ trợ ...  25-09-2024 - 15:14 PM   \n",
            "1  Vừa qua tại Hà Nội, Ngân hàng TMCP An Bình (AB...  11-09-2024 - 13:04 PM   \n",
            "2  Ngân hàng TMCP An Bình (ABBank - ABB) vừa công...  08-08-2024 - 17:02 PM   \n",
            "3  Kết thúc quý II/2024, Ngân hàng TMCP An Bình (...  01-08-2024 - 08:08 AM   \n",
            "4  Mừng sinh nhật 31 năm, ABBANK đã triển khai nh...  07-06-2024 - 15:30 PM   \n",
            "\n",
            "  Evaluate( Human)  \n",
            "0         Positive  \n",
            "1         Positive  \n",
            "2          Neutral  \n",
            "3         Positive  \n",
            "4         Positive  \n"
          ]
        }
      ],
      "source": [
        "# Đọc dữ liệu từ file Excel và giữ lại các cột cần thiết\n",
        "file_path = 'News.xlsx'  # Đường dẫn tới file Excel\n",
        "df = pd.read_excel(file_path, usecols=['Bank', 'Link', 'Title', 'Description', 'Time_published', 'Evaluate( Human)'])\n",
        "\n",
        "# Kiểm tra dữ liệu\n",
        "print(\"Dữ liệu đầu vào:\")\n",
        "print(df.head())"
      ]
    },
    {
      "cell_type": "markdown",
      "metadata": {
        "id": "WBi8AWGn4FY9"
      },
      "source": [
        "## 1.1. Làm sạch văn bản"
      ]
    },
    {
      "cell_type": "code",
      "execution_count": null,
      "metadata": {
        "colab": {
          "base_uri": "https://localhost:8080/"
        },
        "id": "Fwr9YkFSgGj5",
        "outputId": "c210a6c3-becb-450d-d2d4-4ea087e3d570"
      },
      "outputs": [
        {
          "output_type": "stream",
          "name": "stdout",
          "text": [
            "Dữ liệu sau khi làm sạch:\n",
            "                                               Title  \\\n",
            "0  abbank giảm tới năm lãi suất cho vay khách hàn...   \n",
            "1  maybank tăng cường quan hệ hợp tác chiến lược ...   \n",
            "2   cá nhân  tổ chức sở hữu gần  vốn điều lệ ngân...   \n",
            "3  abbank đạt  tỷ đồng lợi nhuận trước thuế trong...   \n",
            "4  nhiều ưu đãi dành cho khách hàng abbank nhân s...   \n",
            "\n",
            "                                         Description  \n",
            "0  với mong muốn cùng chung tay tiếp sức hỗ trợ n...  \n",
            "1  vừa qua tại hà nội ngân hàng tmcp an bình abba...  \n",
            "2  ngân hàng tmcp an bình abbank  abb vừa công bố...  \n",
            "3  kết thúc quý ii ngân hàng tmcp an bình abbank ...  \n",
            "4  mừng sinh nhật  năm abbank đã triển khai nhiều...  \n"
          ]
        }
      ],
      "source": [
        "# Làm sạch văn bản: loại bỏ ký tự đặc biệt, dấu câu và chuyển về chữ thường\n",
        "def clean_text(text):\n",
        "    # Kiểm tra xem text có phải là kiểu string hay không, nếu không thì chuyển đổi thành string\n",
        "    if not isinstance(text, str):\n",
        "        text = str(text)\n",
        "    text = re.sub(r'[^a-zA-Záàảãạăắằẳẵặâấầẩẫậéèẻẽẹêếềểễệíìỉĩịóòỏõọôốồổỗộơớờởỡợúùủũụưứừửữựýỳỷỹỵđ\\s]', '', text)  # Loại bỏ ký tự đặc biệt và số\n",
        "    text = text.lower()  # Chuyển thành chữ thường\n",
        "    return text\n",
        "\n",
        "# Áp dụng hàm làm sạch cho cột 'Title' và 'Description'\n",
        "df['Title'] = df['Title'].apply(clean_text)\n",
        "df['Description'] = df['Description'].apply(clean_text)\n",
        "\n",
        "print(\"Dữ liệu sau khi làm sạch:\")\n",
        "print(df[['Title', 'Description']].head())"
      ]
    },
    {
      "cell_type": "markdown",
      "metadata": {
        "id": "M_8aXNZf1YQE"
      },
      "source": [
        "## 1.2: Tiền xử lý văn bản\n",
        "- Tokenization: Chúng ta sẽ tách các câu thành các từ nhỏ hơn.\n",
        "- Lemmatization/Stemming: Giảm từ về dạng gốc để giảm thiểu sự đa dạng.\n",
        "- Loại bỏ Stop Words: Loại bỏ các từ không mang nhiều ý nghĩa (ví dụ: “và,” “của,”...)."
      ]
    },
    {
      "cell_type": "code",
      "execution_count": null,
      "metadata": {
        "id": "NOD6qiSU1it-"
      },
      "outputs": [],
      "source": [
        "#Tạo danh sách stop words tiếng Việt từ một file công khai:\n",
        "\n",
        "import requests\n",
        "\n",
        "url = \"https://raw.githubusercontent.com/stopwords-iso/stopwords-vi/master/stopwords-vi.txt\"\n",
        "response = requests.get(url)\n",
        "vietnamese_stopwords = set(response.text.splitlines())\n"
      ]
    },
    {
      "cell_type": "code",
      "execution_count": null,
      "metadata": {
        "colab": {
          "base_uri": "https://localhost:8080/"
        },
        "id": "eJvHRW4S21zY",
        "outputId": "fd296a98-78c0-424f-93e7-30b3e24c07e1"
      },
      "outputs": [
        {
          "output_type": "stream",
          "name": "stderr",
          "text": [
            "[nltk_data] Downloading package punkt to /root/nltk_data...\n",
            "[nltk_data]   Package punkt is already up-to-date!\n",
            "[nltk_data] Downloading package wordnet to /root/nltk_data...\n",
            "[nltk_data]   Package wordnet is already up-to-date!\n",
            "[nltk_data] Downloading package punkt_tab to /root/nltk_data...\n",
            "[nltk_data]   Unzipping tokenizers/punkt_tab.zip.\n"
          ]
        },
        {
          "output_type": "stream",
          "name": "stdout",
          "text": [
            "Dữ liệu sau khi tiền xử lý:\n",
            "                                               Title  \\\n",
            "0  [abbank, giảm, lãi, suất, vay, khách, hàng, ản...   \n",
            "1  [maybank, tăng, cường, quan, hệ, hợp, tác, chi...   \n",
            "2  [cá, nhân, tổ, chức, sở, hữu, gần, vốn, lệ, ng...   \n",
            "3  [abbank, đạt, tỷ, đồng, lợi, nhuận, thuế, hoàn...   \n",
            "4  [ưu, đãi, dành, khách, hàng, abbank, nhân, sin...   \n",
            "\n",
            "                                         Description  \n",
            "0  [mong, chung, tay, tiếp, sức, hỗ, trợ, dân, ph...  \n",
            "1  [hà, nội, ngân, hàng, tmcp, an, bình, abbank, ...  \n",
            "2  [ngân, hàng, tmcp, an, bình, abbank, abb, công...  \n",
            "3  [kết, thúc, quý, ii, ngân, hàng, tmcp, an, bìn...  \n",
            "4  [mừng, sinh, nhật, abbank, triển, khai, ưu, đã...  \n"
          ]
        }
      ],
      "source": [
        "# Cập nhật mã tiền xử lý văn bản bằng cách sử dụng danh sách vietnamese_stopwords:\n",
        "\n",
        "# Tải xuống tài nguyên cần thiết từ NLTK\n",
        "nltk.download('punkt')\n",
        "nltk.download('wordnet')\n",
        "nltk.download('punkt_tab') # Download the missing punkt_tab resource\n",
        "\n",
        "# Khởi tạo công cụ lemmatizer\n",
        "lemmatizer = WordNetLemmatizer()\n",
        "\n",
        "# Hàm tiền xử lý\n",
        "def preprocess_text(text):\n",
        "    tokens = word_tokenize(text)  # Tokenization\n",
        "    tokens = [word for word in tokens if word not in vietnamese_stopwords]  # Loại bỏ stop words\n",
        "    tokens = [lemmatizer.lemmatize(word) for word in tokens]  # Lemmatization\n",
        "    return tokens\n",
        "\n",
        "# Áp dụng tiền xử lý cho cột 'Title' và 'Description'\n",
        "df['Title'] = df['Title'].apply(preprocess_text)\n",
        "df['Description'] = df['Description'].apply(preprocess_text)\n",
        "\n",
        "print(\"Dữ liệu sau khi tiền xử lý:\")\n",
        "print(df[['Title', 'Description']].head())"
      ]
    },
    {
      "cell_type": "markdown",
      "source": [
        "## 1.3 Mã hóa đánh giá"
      ],
      "metadata": {
        "id": "R9gF2XIfcc5v"
      }
    },
    {
      "cell_type": "code",
      "source": [
        "def encode_evaluation(evaluation):\n",
        "    # Kiểm tra nếu giá trị là float và chuyển đổi thành string trước khi xử lý\n",
        "    if isinstance(evaluation, float):\n",
        "        evaluation = str(evaluation)\n",
        "\n",
        "    if evaluation.lower() == 'positive':\n",
        "        return 1\n",
        "    elif evaluation.lower() == 'negative':\n",
        "        return 0\n",
        "    else:\n",
        "        return 2  # Neutral\n",
        "\n",
        "# Áp dụng mã hóa\n",
        "df['Evaluate(Human)'] = df['Evaluate( Human)'].apply(encode_evaluation)\n",
        "\n",
        "# Hiển thị dữ liệu đã mã hóa\n",
        "print(df['Evaluate(Human)'].head())"
      ],
      "metadata": {
        "colab": {
          "base_uri": "https://localhost:8080/"
        },
        "id": "YF1WPpVNcdio",
        "outputId": "289e5df3-8575-464a-df2c-c24b915568dd"
      },
      "execution_count": null,
      "outputs": [
        {
          "output_type": "stream",
          "name": "stdout",
          "text": [
            "0    1\n",
            "1    1\n",
            "2    2\n",
            "3    1\n",
            "4    1\n",
            "Name: Evaluate(Human), dtype: int64\n"
          ]
        }
      ]
    },
    {
      "cell_type": "code",
      "source": [
        "print(df.head())"
      ],
      "metadata": {
        "colab": {
          "base_uri": "https://localhost:8080/"
        },
        "id": "PU4YHjVAehJG",
        "outputId": "df5bdfe6-5c25-4dcb-dcc0-71deef8489b0"
      },
      "execution_count": null,
      "outputs": [
        {
          "output_type": "stream",
          "name": "stdout",
          "text": [
            "     Bank                                               Link  \\\n",
            "0  ABBank  https://cafef.vn/abbank-giam-toi-15-nam-lai-su...   \n",
            "1  ABBank  https://cafef.vn/abbank-va-maybank-tang-cuong-...   \n",
            "2  ABBank  https://cafef.vn/16-ca-nhan-3-to-chuc-so-huu-g...   \n",
            "3  ABBank  https://cafef.vn/abbank-dat-558-ty-dong-loi-nh...   \n",
            "4  ABBank  https://cafef.vn/nhieu-uu-dai-danh-cho-khach-h...   \n",
            "\n",
            "                                               Title  \\\n",
            "0  [abbank, giảm, lãi, suất, vay, khách, hàng, ản...   \n",
            "1  [maybank, tăng, cường, quan, hệ, hợp, tác, chi...   \n",
            "2  [cá, nhân, tổ, chức, sở, hữu, gần, vốn, lệ, ng...   \n",
            "3  [abbank, đạt, tỷ, đồng, lợi, nhuận, thuế, hoàn...   \n",
            "4  [ưu, đãi, dành, khách, hàng, abbank, nhân, sin...   \n",
            "\n",
            "                                         Description         Time_published  \\\n",
            "0  [mong, chung, tay, tiếp, sức, hỗ, trợ, dân, ph...  25-09-2024 - 15:14 PM   \n",
            "1  [hà, nội, ngân, hàng, tmcp, an, bình, abbank, ...  11-09-2024 - 13:04 PM   \n",
            "2  [ngân, hàng, tmcp, an, bình, abbank, abb, công...  08-08-2024 - 17:02 PM   \n",
            "3  [kết, thúc, quý, ii, ngân, hàng, tmcp, an, bìn...  01-08-2024 - 08:08 AM   \n",
            "4  [mừng, sinh, nhật, abbank, triển, khai, ưu, đã...  07-06-2024 - 15:30 PM   \n",
            "\n",
            "  Evaluate( Human)  Evaluate(Human)  \n",
            "0         Positive                1  \n",
            "1         Positive                1  \n",
            "2          Neutral                2  \n",
            "3         Positive                1  \n",
            "4         Positive                1  \n"
          ]
        }
      ]
    },
    {
      "cell_type": "markdown",
      "metadata": {
        "id": "r9uakzBp3iI5"
      },
      "source": [
        "\n",
        "## 1.4. Chia dữ liệu\n",
        "\n",
        "\n"
      ]
    },
    {
      "cell_type": "code",
      "execution_count": null,
      "metadata": {
        "colab": {
          "base_uri": "https://localhost:8080/"
        },
        "id": "5VDVFd2avZG-",
        "outputId": "6521102e-d488-4ef6-c35e-92cb9f4965fc"
      },
      "outputs": [
        {
          "output_type": "stream",
          "name": "stdout",
          "text": [
            "Kích thước dữ liệu huấn luyện: (4800, 2)\n",
            "Kích thước dữ liệu kiểm tra: (1200, 2)\n",
            "Số lượng dòng không có nhãn để phân loại sau: 0\n"
          ]
        }
      ],
      "source": [
        "# Lọc ra các dòng có nhãn (cột 'Evaluate( Human)' không bị NaN)\n",
        "df_labeled = df[df['Evaluate(Human)'].notna()]\n",
        "\n",
        "# Đảm bảo rằng df_labeled chỉ có 6,000 dòng dữ liệu có nhãn\n",
        "df_labeled = df_labeled.sample(n=6000, random_state=42)\n",
        "\n",
        "# Tách các cột đặc trưng (Title, Description) và nhãn (Evaluate( Human))\n",
        "X = df_labeled[['Title', 'Description']]\n",
        "y = df_labeled['Evaluate(Human)']\n",
        "\n",
        "# Chia dữ liệu thành tập huấn luyện và kiểm tra (80%-20%)\n",
        "X_train, X_test, y_train, y_test = train_test_split(X, y, test_size=0.2, random_state=42)\n",
        "\n",
        "# Phần dữ liệu không có nhãn để dự đoán sau\n",
        "df_unlabeled = df[df['Evaluate(Human)'].isna()]\n",
        "\n",
        "# Kết quả\n",
        "print(\"Kích thước dữ liệu huấn luyện:\", X_train.shape)\n",
        "print(\"Kích thước dữ liệu kiểm tra:\", X_test.shape)\n",
        "print(\"Số lượng dòng không có nhãn để phân loại sau:\", df_unlabeled.shape[0])"
      ]
    },
    {
      "cell_type": "markdown",
      "metadata": {
        "id": "ddFHnuSW5C9y"
      },
      "source": [
        "# Bước 2: Trích Xuất Tính Năng\n",
        "\n",
        "## 2.1. Tính toán TF-IDF\n",
        "TF-IDF là một kỹ thuật trích xuất tính năng để đo mức độ quan trọng của một từ trong một văn bản so với toàn bộ tập văn bản"
      ]
    },
    {
      "cell_type": "code",
      "execution_count": null,
      "metadata": {
        "colab": {
          "base_uri": "https://localhost:8080/"
        },
        "id": "SFn4clk632to",
        "outputId": "0fb34be0-1a8e-4bd2-d3a7-39b7f3499ff9"
      },
      "outputs": [
        {
          "output_type": "stream",
          "name": "stdout",
          "text": [
            "Shape of TF-IDF matrix for Title: (18233, 5009)\n",
            "Shape of TF-IDF matrix for Description: (18233, 6529)\n"
          ]
        }
      ],
      "source": [
        "# Khởi tạo TfidfVectorizer\n",
        "tfidf_vectorizer = TfidfVectorizer()\n",
        "\n",
        "# Áp dụng TF-IDF cho cột văn bản 'Title' và 'Description'\n",
        "tfidf_title = tfidf_vectorizer.fit_transform(df['Title'].apply(lambda x: ' '.join(x)))\n",
        "tfidf_description = tfidf_vectorizer.fit_transform(df['Description'].apply(lambda x: ' '.join(x)))\n",
        "\n",
        "print(\"Shape of TF-IDF matrix for Title:\", tfidf_title.shape)\n",
        "print(\"Shape of TF-IDF matrix for Description:\", tfidf_description.shape)"
      ]
    },
    {
      "cell_type": "markdown",
      "source": [],
      "metadata": {
        "id": "izj5h4G4h7dH"
      }
    },
    {
      "cell_type": "markdown",
      "metadata": {
        "id": "dp5Q1lx65-eX"
      },
      "source": [
        "## 2.2. Chuyển đổi từ ngữ thành vector số sử dụng Word2Vec, GloVe, hoặc BERT"
      ]
    },
    {
      "cell_type": "markdown",
      "metadata": {
        "id": "WA1JO7hV6G6B"
      },
      "source": [
        "Các mô hình này tạo ra vector nhúng (embedding) để biểu diễn từ ngữ với ngữ cảnh:\n",
        "\n",
        "### 2.2.1Sử dụng Word2Vec (với gensim)\n",
        "Word2Vec là một kỹ thuật để chuyển đổi từ thành vector dựa trên ngữ cảnh trong văn bản."
      ]
    },
    {
      "cell_type": "code",
      "execution_count": null,
      "metadata": {
        "id": "eAAYlkiT5tMY"
      },
      "outputs": [],
      "source": [
        "#pip install gensim"
      ]
    },
    {
      "cell_type": "code",
      "execution_count": null,
      "metadata": {
        "id": "zjwsL5AS6MgZ"
      },
      "outputs": [],
      "source": [
        "# # Giả sử bạn đã thực hiện tiền xử lý và có danh sách từ\n",
        "# titles_tokens = df['Title'].tolist()\n",
        "# descriptions_tokens = df['Description'].tolist()\n",
        "\n",
        "# # Tạo model Word2Vec\n",
        "# model_w2v = Word2Vec(sentences=titles_tokens + descriptions_tokens, vector_size=100, window=5, min_count=1, workers=4)\n",
        "\n",
        "# # # Lấy vector cho một từ\n",
        "# # vector = model_w2v.wv['từ_bất_kỳ']\n",
        "# # print(\"Vector cho từ 'từ_bất_kỳ':\", vector)"
      ]
    },
    {
      "cell_type": "markdown",
      "metadata": {
        "id": "V0b4TNlHBBLi"
      },
      "source": [
        "### 2.2.2. Sử dụng GloVe\n",
        "GloVe (Global Vectors for Word Representation) là một kỹ thuật khác để chuyển đổi từ thành vector."
      ]
    },
    {
      "cell_type": "code",
      "execution_count": null,
      "metadata": {
        "id": "-_jnFec_Awvr"
      },
      "outputs": [],
      "source": [
        "# import numpy as np\n",
        "\n",
        "# # Tải GloVe từ file\n",
        "# def load_glove_model(glove_file):\n",
        "#     glove_model = {}\n",
        "#     with open(glove_file, 'r', encoding='utf-8') as f:\n",
        "#         for line in f:\n",
        "#             split_line = line.split()\n",
        "#             word = split_line[0]\n",
        "#             embedding = np.array(split_line[1:], dtype='float32')\n",
        "#             glove_model[word] = embedding\n",
        "#     return glove_model\n",
        "\n",
        "# glove_model = load_glove_model(\"glove.6B.100d.txt\")  # Thay đổi đường dẫn tới file GloVe\n",
        "\n",
        "# # # Lấy vector cho một từ\n",
        "# # vector_glove = glove_model.get('từ_bất_kỳ')\n",
        "# # print(\"Vector cho từ 'từ_bất_kỳ':\", vector_glove)"
      ]
    },
    {
      "cell_type": "markdown",
      "metadata": {
        "id": "Jjn_B9CLKE4z"
      },
      "source": [
        "### 2.2.3. Sử dụng BERT\n",
        "BERT (Bidirectional Encoder Representations from Transformers) là một mô hình mạnh mẽ để tạo ra vector từ ngữ trong ngữ cảnh.\n",
        "\n",
        "Cài đặt Transformers\n",
        "Cài đặt thư viện Transformers của Hugging Face:"
      ]
    },
    {
      "cell_type": "code",
      "execution_count": null,
      "metadata": {
        "id": "8Gcp9jVbBQi4"
      },
      "outputs": [],
      "source": [
        "#pip install transformers torch"
      ]
    },
    {
      "cell_type": "code",
      "execution_count": null,
      "metadata": {
        "colab": {
          "base_uri": "https://localhost:8080/",
          "height": 304,
          "referenced_widgets": [
            "55519402f62344e0b2b65cd937aac13b",
            "c63319baaaae42b98e2dab0a4f0d3606",
            "67594776c31146b5bca7a31bf0b7d4dc",
            "442ccc8cf9ae434281674cba8a65d4f5",
            "d98097431075472e8a9eac7c9ad32ef4",
            "98eaf31f043d4e8d91e91608ad6a2f4f",
            "36ce6609b24a4ced8663682adaee32f1",
            "756bab958b6949d4a9fed82d8dc97fda",
            "866df34501eb47dbbb837374359e9c5d",
            "f034df402a0a445e93b344136e723319",
            "53819582026a42fc85cb0a6c61baca1a",
            "f2071b8d69d14c1a96af911deb0fce2f",
            "702cbcbda437483f89c6d36052879dd8",
            "29f4b2fada5343c7a48132f52efefd57",
            "cee020d75f464b298d33017118376119",
            "55b19a4db9fe4b9cb274771f16ef5cd4",
            "1083c72c9b5d4330b56084c1485121e8",
            "3e52e510fdd04140bff580ea9e9f7cd5",
            "34de13f0d9bc4165b2f151742e8828c6",
            "8f0fd2cf681b467ebc8400fdec641c9c",
            "fe6a4e399d94418f8bd77645c2e7302c",
            "704944b014af4294bff1222629128067",
            "ee7d3026070a45d3af48af4a659c65bc",
            "cf5e53036da143839f36ef69daf11d9a",
            "c765c38dd6034ac3b521b6ef7108f02e",
            "d59a1d3355294304ad23832601ad35a4",
            "97084da5f4014330b86c0045b76b577d",
            "1bfe929e295b47afa987d4772bb270f6",
            "0d81087bf05f4c71963723972b5e4a1b",
            "7f58be3ad399443fb71db9c4a5e34f23",
            "ddf3d81a09c544bebb0649db23e59035",
            "267af1a5e139427a86c42ab8e14c6f63",
            "c3d36f3eaa6d4e9eb889599c078eff25",
            "8c14adcde2e443d09fbbb9c989bb167e",
            "e0c7dbb0a1ea49299f62da88b7747f96",
            "1c8661661dc942959fee4eaf3d2c1f20",
            "dc53744986a5443e84bc7aa3fffc083a",
            "38a406d253f24b968c77c98ab79a6895",
            "1c6dea7b9bd143068eb76c4a17e79df2",
            "4b3ef59920cc47ea896df2a446157af0",
            "98a4de246145412eb8bea835d97cb0ec",
            "719bc696221a4bcf8b1cd06ebee7a37c",
            "bf073c8e4dbc4e7d8721e273360c6a2b",
            "728f92b6c1d5483dbc51efbc47d12688",
            "a5e7e1a0396948018fe058a3c0576258",
            "ef1ff6c41f7343fd85f40c2f4c461244",
            "edd52966c62f42e1ac58256e76f52966",
            "96cef77e962044e1be396ca78b1a835c",
            "7cc479a07b4d48cfbb06919306e45077",
            "b63bc5efbf5f48ea89763433c827b6c3",
            "b8b41f9be84f4668bd8c344853280969",
            "39a1f609e30b466ebf2686975e8238c1",
            "e8d9eb44bc0f4e56b7e6c3b40f25bc34",
            "14783d79f7264346a81af3ec428f5f27",
            "d40dba860b5349b0adf43c4b37812ae2"
          ]
        },
        "id": "UyKkuUVhKLx4",
        "outputId": "1b068f8f-db0f-4ed0-bb8a-efdf1300a6ee"
      },
      "outputs": [
        {
          "output_type": "stream",
          "name": "stderr",
          "text": [
            "/usr/local/lib/python3.10/dist-packages/huggingface_hub/utils/_auth.py:94: UserWarning: \n",
            "The secret `HF_TOKEN` does not exist in your Colab secrets.\n",
            "To authenticate with the Hugging Face Hub, create a token in your settings tab (https://huggingface.co/settings/tokens), set it as secret in your Google Colab and restart your session.\n",
            "You will be able to reuse this secret in all of your notebooks.\n",
            "Please note that authentication is recommended but still optional to access public models or datasets.\n",
            "  warnings.warn(\n"
          ]
        },
        {
          "output_type": "display_data",
          "data": {
            "text/plain": [
              "tokenizer_config.json:   0%|          | 0.00/49.0 [00:00<?, ?B/s]"
            ],
            "application/vnd.jupyter.widget-view+json": {
              "version_major": 2,
              "version_minor": 0,
              "model_id": "55519402f62344e0b2b65cd937aac13b"
            }
          },
          "metadata": {}
        },
        {
          "output_type": "display_data",
          "data": {
            "text/plain": [
              "vocab.txt:   0%|          | 0.00/996k [00:00<?, ?B/s]"
            ],
            "application/vnd.jupyter.widget-view+json": {
              "version_major": 2,
              "version_minor": 0,
              "model_id": "f2071b8d69d14c1a96af911deb0fce2f"
            }
          },
          "metadata": {}
        },
        {
          "output_type": "display_data",
          "data": {
            "text/plain": [
              "tokenizer.json:   0%|          | 0.00/1.96M [00:00<?, ?B/s]"
            ],
            "application/vnd.jupyter.widget-view+json": {
              "version_major": 2,
              "version_minor": 0,
              "model_id": "ee7d3026070a45d3af48af4a659c65bc"
            }
          },
          "metadata": {}
        },
        {
          "output_type": "display_data",
          "data": {
            "text/plain": [
              "config.json:   0%|          | 0.00/625 [00:00<?, ?B/s]"
            ],
            "application/vnd.jupyter.widget-view+json": {
              "version_major": 2,
              "version_minor": 0,
              "model_id": "8c14adcde2e443d09fbbb9c989bb167e"
            }
          },
          "metadata": {}
        },
        {
          "output_type": "display_data",
          "data": {
            "text/plain": [
              "model.safetensors:   0%|          | 0.00/714M [00:00<?, ?B/s]"
            ],
            "application/vnd.jupyter.widget-view+json": {
              "version_major": 2,
              "version_minor": 0,
              "model_id": "a5e7e1a0396948018fe058a3c0576258"
            }
          },
          "metadata": {}
        }
      ],
      "source": [
        "from transformers import BertTokenizer, BertModel\n",
        "import torch\n",
        "\n",
        "# Tải mô hình BERT\n",
        "tokenizer = BertTokenizer.from_pretrained('bert-base-multilingual-cased')\n",
        "model = BertModel.from_pretrained('bert-base-multilingual-cased')\n",
        "\n",
        "# Chuyển đổi từ ngữ thành vector\n",
        "def get_bert_embedding(text):\n",
        "    inputs = tokenizer(text, return_tensors='pt')\n",
        "    outputs = model(**inputs)\n",
        "    # Lấy embedding từ hidden state cuối cùng\n",
        "    return outputs.last_hidden_state.mean(dim=1).detach().numpy()\n",
        "\n",
        "# # Ví dụ\n",
        "# embedding = get_bert_embedding(\"câu văn mẫu\")\n",
        "# print(\"Vector cho câu 'câu văn mẫu':\", embedding)"
      ]
    },
    {
      "cell_type": "markdown",
      "metadata": {
        "id": "c8-ms6fGA2_G"
      },
      "source": [
        "# Bước 3: Lựa Chọn và Xây Dựng Mô Hình"
      ]
    },
    {
      "cell_type": "markdown",
      "metadata": {
        "id": "1iUzzawEBYV5"
      },
      "source": [
        "## 3.1.  Chọn mô hình phù hợp:"
      ]
    },
    {
      "cell_type": "markdown",
      "metadata": {
        "id": "TL5PbvwSB3LA"
      },
      "source": [
        " ### SVM"
      ]
    },
    {
      "cell_type": "code",
      "execution_count": null,
      "metadata": {
        "colab": {
          "base_uri": "https://localhost:8080/"
        },
        "id": "IyXr-N5cBjax",
        "outputId": "e697fc8e-3ab7-4389-cc53-ea9abb8c7e79"
      },
      "outputs": [
        {
          "output_type": "stream",
          "name": "stdout",
          "text": [
            "Độ chính xác trên tập kiểm tra: 0.8658333333333333\n",
            "\n",
            "Báo cáo phân loại chi tiết:\n",
            "               precision    recall  f1-score   support\n",
            "\n",
            "           0       0.70      0.36      0.47        90\n",
            "           1       0.71      0.61      0.65       170\n",
            "           2       0.90      0.96      0.93       940\n",
            "\n",
            "    accuracy                           0.87      1200\n",
            "   macro avg       0.77      0.64      0.68      1200\n",
            "weighted avg       0.85      0.87      0.85      1200\n",
            "\n"
          ]
        }
      ],
      "source": [
        "from sklearn.feature_extraction.text import TfidfVectorizer\n",
        "from sklearn.svm import SVC\n",
        "from sklearn.pipeline import Pipeline\n",
        "from sklearn.metrics import classification_report, accuracy_score\n",
        "\n",
        "# Hàm kết hợp văn bản, xử lý cả list trong cột 'Title' và 'Description'\n",
        "def combine_text(row):\n",
        "    \"\"\"Combines 'Title' and 'Description' handling potential lists in both columns.\"\"\"\n",
        "    # Chuyển 'Title' thành chuỗi nếu có dạng list hoặc list lồng\n",
        "    title = \" \".join([str(item) for sublist in row['Title'] for item in sublist]) if isinstance(row['Title'], list) and any(isinstance(i, list) for i in row['Title']) else \" \".join(row['Title']) if isinstance(row['Title'], list) else str(row['Title'])\n",
        "\n",
        "    # Chuyển 'Description' thành chuỗi nếu có dạng list\n",
        "    description = \" \".join(row['Description']) if isinstance(row['Description'], list) else str(row['Description'])\n",
        "\n",
        "    return title + \" \" + description\n",
        "\n",
        "# Áp dụng hàm để tạo đặc trưng văn bản kết hợp\n",
        "X_train_combined = X_train.apply(combine_text, axis=1)\n",
        "X_test_combined = X_test.apply(combine_text, axis=1)\n",
        "\n",
        "# Xây dựng pipeline với TF-IDF và SVM\n",
        "pipeline = Pipeline([\n",
        "    ('tfidf', TfidfVectorizer()),  # Bước chuyển văn bản thành TF-IDF\n",
        "    ('svm', SVC(kernel='linear', random_state=42))  # Bước phân loại với SVM\n",
        "])\n",
        "\n",
        "# Huấn luyện mô hình\n",
        "pipeline.fit(X_train_combined, y_train)\n",
        "\n",
        "# Dự đoán trên tập kiểm tra\n",
        "y_pred = pipeline.predict(X_test_combined)\n",
        "\n",
        "# Đánh giá mô hình\n",
        "#test_loss, test_accuracy = model.evaluate(X_test_pad, y_test_encoded) # Change y_test to y_test_encoded\n",
        "#print(\"Độ chính xác trên tập kiểm tra:\", test_accuracy)\n",
        "print(\"Độ chính xác trên tập kiểm tra:\", accuracy_score(y_test, y_pred))\n",
        "print(\"\\nBáo cáo phân loại chi tiết:\\n\", classification_report(y_test, y_pred))"
      ]
    },
    {
      "cell_type": "markdown",
      "metadata": {
        "id": "cKPERcbtB7Lb"
      },
      "source": [
        "### CNN"
      ]
    },
    {
      "cell_type": "code",
      "execution_count": null,
      "metadata": {
        "id": "f_CvJnQSB-iR"
      },
      "outputs": [],
      "source": [
        "# pip install tensorflow keras"
      ]
    },
    {
      "cell_type": "markdown",
      "metadata": {
        "id": "nyQJvkAs5CmA"
      },
      "source": [
        "#### CNN.1 Chuyển đổi văn bản thành chuỗi số\n",
        "Để huấn luyện CNN, ta sẽ sử dụng Tokenizer từ Keras để chuyển văn bản thành chuỗi số và pad_sequences để làm cho tất cả các chuỗi có độ dài cố định."
      ]
    },
    {
      "cell_type": "code",
      "execution_count": null,
      "metadata": {
        "id": "bVkUCKsI45Fe"
      },
      "outputs": [],
      "source": [
        "from tensorflow.keras.preprocessing.text import Tokenizer\n",
        "from tensorflow.keras.preprocessing.sequence import pad_sequences\n",
        "\n",
        "# Kết hợp 'Title' và 'Description' thành văn bản duy nhất\n",
        "X_train_combined = X_train.apply(combine_text, axis=1)\n",
        "X_test_combined = X_test.apply(combine_text, axis=1)\n",
        "\n",
        "# Khởi tạo Tokenizer và fit vào dữ liệu huấn luyện\n",
        "tokenizer = Tokenizer(num_words=10000)  # Sử dụng 10,000 từ phổ biến nhất\n",
        "tokenizer.fit_on_texts(X_train_combined)\n",
        "\n",
        "# Chuyển văn bản thành chuỗi số và làm cho chúng có độ dài cố định\n",
        "X_train_seq = tokenizer.texts_to_sequences(X_train_combined)\n",
        "X_test_seq = tokenizer.texts_to_sequences(X_test_combined)\n",
        "\n",
        "# Đảm bảo tất cả chuỗi có cùng độ dài (ví dụ: maxlen=100)\n",
        "maxlen = 100\n",
        "X_train_pad = pad_sequences(X_train_seq, maxlen=maxlen, padding='post')\n",
        "X_test_pad = pad_sequences(X_test_seq, maxlen=maxlen, padding='post')"
      ]
    },
    {
      "cell_type": "markdown",
      "metadata": {
        "id": "EbY6cFKR5XGA"
      },
      "source": [
        "#### CNN.2 Xây dựng mô hình CNN\n",
        "Mô hình CNN sẽ bao gồm lớp nhúng (Embedding layer) để chuyển các từ thành vector có kích thước cố định, và sau đó là các lớp tích chập (Conv1D), lớp gộp (MaxPooling1D), và lớp kết nối hoàn toàn (Dense) để phân loại."
      ]
    },
    {
      "cell_type": "code",
      "execution_count": null,
      "metadata": {
        "colab": {
          "base_uri": "https://localhost:8080/"
        },
        "id": "Oy2LAFeG45lu",
        "outputId": "a9acc3e6-6922-4674-927d-ff072d5fb788"
      },
      "outputs": [
        {
          "output_type": "stream",
          "name": "stderr",
          "text": [
            "/usr/local/lib/python3.10/dist-packages/keras/src/layers/core/embedding.py:90: UserWarning: Argument `input_length` is deprecated. Just remove it.\n",
            "  warnings.warn(\n"
          ]
        }
      ],
      "source": [
        "from tensorflow.keras.models import Sequential\n",
        "from tensorflow.keras.layers import Embedding, Conv1D, MaxPooling1D, Flatten, Dense, Dropout\n",
        "\n",
        "# Khởi tạo tham số\n",
        "embedding_dim = 100  # Kích thước của vector nhúng\n",
        "num_classes = len(y_train.unique())  # Số lớp đầu ra (tùy vào bài toán)\n",
        "\n",
        "# Xây dựng mô hình CNN\n",
        "model = Sequential([\n",
        "    Embedding(input_dim=10000, output_dim=embedding_dim, input_length=maxlen),\n",
        "    Conv1D(filters=128, kernel_size=5, activation='relu'),\n",
        "    MaxPooling1D(pool_size=2),\n",
        "    Conv1D(filters=64, kernel_size=5, activation='relu'),\n",
        "    MaxPooling1D(pool_size=2),\n",
        "    Flatten(),\n",
        "    Dense(64, activation='relu'),\n",
        "    Dropout(0.5),\n",
        "    Dense(num_classes, activation='softmax')  # Sử dụng softmax cho phân loại nhiều lớp\n",
        "])\n",
        "\n",
        "# Biên dịch mô hình\n",
        "model.compile(optimizer='adam', loss='sparse_categorical_crossentropy', metrics=['accuracy'])"
      ]
    },
    {
      "cell_type": "markdown",
      "metadata": {
        "id": "UR1typvh5rxz"
      },
      "source": [
        "#### CNN.3 Huấn luyện mô hình\n",
        "Huấn luyện mô hình với dữ liệu đã chuẩn bị:"
      ]
    },
    {
      "cell_type": "code",
      "execution_count": null,
      "metadata": {
        "colab": {
          "base_uri": "https://localhost:8080/"
        },
        "id": "LWf1Q9OX45o_",
        "outputId": "6d6b673e-9ce8-4d7e-9a73-efddfdbd374c"
      },
      "outputs": [
        {
          "output_type": "stream",
          "name": "stdout",
          "text": [
            "Epoch 1/10\n",
            "\u001b[1m60/60\u001b[0m \u001b[32m━━━━━━━━━━━━━━━━━━━━\u001b[0m\u001b[37m\u001b[0m \u001b[1m7s\u001b[0m 20ms/step - accuracy: 0.7437 - loss: 0.7798 - val_accuracy: 0.7729 - val_loss: 0.5821\n",
            "Epoch 2/10\n",
            "\u001b[1m60/60\u001b[0m \u001b[32m━━━━━━━━━━━━━━━━━━━━\u001b[0m\u001b[37m\u001b[0m \u001b[1m0s\u001b[0m 4ms/step - accuracy: 0.7883 - loss: 0.4632 - val_accuracy: 0.8031 - val_loss: 0.4288\n",
            "Epoch 3/10\n",
            "\u001b[1m60/60\u001b[0m \u001b[32m━━━━━━━━━━━━━━━━━━━━\u001b[0m\u001b[37m\u001b[0m \u001b[1m0s\u001b[0m 5ms/step - accuracy: 0.8581 - loss: 0.3320 - val_accuracy: 0.7979 - val_loss: 0.4731\n",
            "Epoch 4/10\n",
            "\u001b[1m60/60\u001b[0m \u001b[32m━━━━━━━━━━━━━━━━━━━━\u001b[0m\u001b[37m\u001b[0m \u001b[1m0s\u001b[0m 4ms/step - accuracy: 0.8742 - loss: 0.2643 - val_accuracy: 0.7958 - val_loss: 0.5266\n",
            "Epoch 5/10\n",
            "\u001b[1m60/60\u001b[0m \u001b[32m━━━━━━━━━━━━━━━━━━━━\u001b[0m\u001b[37m\u001b[0m \u001b[1m0s\u001b[0m 4ms/step - accuracy: 0.8895 - loss: 0.2324 - val_accuracy: 0.7990 - val_loss: 0.6410\n",
            "Epoch 6/10\n",
            "\u001b[1m60/60\u001b[0m \u001b[32m━━━━━━━━━━━━━━━━━━━━\u001b[0m\u001b[37m\u001b[0m \u001b[1m0s\u001b[0m 4ms/step - accuracy: 0.9221 - loss: 0.1886 - val_accuracy: 0.8052 - val_loss: 0.6058\n",
            "Epoch 7/10\n",
            "\u001b[1m60/60\u001b[0m \u001b[32m━━━━━━━━━━━━━━━━━━━━\u001b[0m\u001b[37m\u001b[0m \u001b[1m0s\u001b[0m 4ms/step - accuracy: 0.9411 - loss: 0.1543 - val_accuracy: 0.8062 - val_loss: 0.7921\n",
            "Epoch 8/10\n",
            "\u001b[1m60/60\u001b[0m \u001b[32m━━━━━━━━━━━━━━━━━━━━\u001b[0m\u001b[37m\u001b[0m \u001b[1m0s\u001b[0m 4ms/step - accuracy: 0.9598 - loss: 0.1239 - val_accuracy: 0.8292 - val_loss: 0.7594\n",
            "Epoch 9/10\n",
            "\u001b[1m60/60\u001b[0m \u001b[32m━━━━━━━━━━━━━━━━━━━━\u001b[0m\u001b[37m\u001b[0m \u001b[1m0s\u001b[0m 4ms/step - accuracy: 0.9746 - loss: 0.0818 - val_accuracy: 0.8260 - val_loss: 0.9064\n",
            "Epoch 10/10\n",
            "\u001b[1m60/60\u001b[0m \u001b[32m━━━━━━━━━━━━━━━━━━━━\u001b[0m\u001b[37m\u001b[0m \u001b[1m0s\u001b[0m 4ms/step - accuracy: 0.9827 - loss: 0.0649 - val_accuracy: 0.8167 - val_loss: 1.0448\n"
          ]
        }
      ],
      "source": [
        "# Huấn luyện mô hình\n",
        "import numpy as np\n",
        "from sklearn.preprocessing import LabelEncoder\n",
        "\n",
        "# Khởi tạo LabelEncoder\n",
        "label_encoder = LabelEncoder()\n",
        "\n",
        "# Fit LabelEncoder vào dữ liệu huấn luyện và biến đổi\n",
        "y_train_encoded = label_encoder.fit_transform(y_train)\n",
        "y_test_encoded = label_encoder.transform(y_test)  # Sử dụng cùng LabelEncoder cho dữ liệu kiểm tra\n",
        "\n",
        "\n",
        "# ... (rest of your code) ...\n",
        "\n",
        "# Huấn luyện mô hình với y_train_encoded\n",
        "history = model.fit(X_train_pad, y_train_encoded, epochs=10, batch_size=64, validation_split=0.2)"
      ]
    },
    {
      "cell_type": "markdown",
      "metadata": {
        "id": "SFUe1qsz6WZj"
      },
      "source": [
        "#### CNN.4 Đánh giá mô hình\n",
        "Sau khi mô hình đã được huấn luyện, chúng ta sẽ đánh giá trên tập kiểm tra."
      ]
    },
    {
      "cell_type": "code",
      "execution_count": null,
      "metadata": {
        "colab": {
          "base_uri": "https://localhost:8080/"
        },
        "id": "CehfZ2hb45rs",
        "outputId": "c811cf3c-bc93-4ffa-a62c-257542d7f702"
      },
      "outputs": [
        {
          "output_type": "stream",
          "name": "stdout",
          "text": [
            "\u001b[1m38/38\u001b[0m \u001b[32m━━━━━━━━━━━━━━━━━━━━\u001b[0m\u001b[37m\u001b[0m \u001b[1m2s\u001b[0m 20ms/step - accuracy: 0.8314 - loss: 0.9696\n",
            "Độ chính xác trên tập kiểm tra: 0.8274999856948853\n"
          ]
        }
      ],
      "source": [
        "# Đánh giá trên tập kiểm tra\n",
        "# Import LabelEncoder if not already imported\n",
        "from sklearn.preprocessing import LabelEncoder\n",
        "\n",
        "# Khởi tạo LabelEncoder nếu chưa được khởi tạo\n",
        "label_encoder = LabelEncoder()\n",
        "\n",
        "# Fit LabelEncoder vào dữ liệu huấn luyện và biến đổi nếu chưa được thực hiện\n",
        "y_train_encoded = label_encoder.fit_transform(y_train)\n",
        "\n",
        "# Sử dụng cùng LabelEncoder cho dữ liệu kiểm tra\n",
        "y_test_encoded = label_encoder.transform(y_test)\n",
        "\n",
        "test_loss, test_accuracy = model.evaluate(X_test_pad, y_test_encoded) # Change y_test to y_test_encoded\n",
        "print(\"Độ chính xác trên tập kiểm tra:\", test_accuracy)"
      ]
    },
    {
      "cell_type": "code",
      "source": [],
      "metadata": {
        "id": "LsMsQjlp79OB"
      },
      "execution_count": null,
      "outputs": []
    },
    {
      "cell_type": "markdown",
      "metadata": {
        "id": "DiJpp-Fu6yzG"
      },
      "source": [
        "#### CNN.5 Dự đoán và báo cáo phân loại\n",
        "Cuối cùng, sử dụng mô hình đã huấn luyện để tạo ra dự đoán và báo cáo phân loại chi tiết."
      ]
    },
    {
      "cell_type": "code",
      "execution_count": null,
      "metadata": {
        "colab": {
          "base_uri": "https://localhost:8080/"
        },
        "id": "77JmKdJq64TC",
        "outputId": "6eab8eca-a428-47e0-94ec-c86794d388b1"
      },
      "outputs": [
        {
          "output_type": "stream",
          "name": "stdout",
          "text": [
            "\u001b[1m38/38\u001b[0m \u001b[32m━━━━━━━━━━━━━━━━━━━━\u001b[0m\u001b[37m\u001b[0m \u001b[1m1s\u001b[0m 8ms/step\n",
            "Báo cáo phân loại chi tiết:\n",
            "               precision    recall  f1-score   support\n",
            "\n",
            "           0       0.52      0.40      0.45        90\n",
            "           1       0.53      0.53      0.53       170\n",
            "           2       0.90      0.92      0.91       940\n",
            "\n",
            "    accuracy                           0.83      1200\n",
            "   macro avg       0.65      0.62      0.63      1200\n",
            "weighted avg       0.82      0.83      0.82      1200\n",
            "\n"
          ]
        }
      ],
      "source": [
        "from sklearn.metrics import classification_report\n",
        "\n",
        "# Dự đoán trên tập kiểm tra\n",
        "y_pred = model.predict(X_test_pad)\n",
        "y_pred_classes = y_pred.argmax(axis=1)  # Chuyển xác suất thành nhãn\n",
        "\n",
        "# Chuyển đổi y_pred_classes về dạng nhãn gốc trước khi tính toán báo cáo\n",
        "y_pred_classes = label_encoder.inverse_transform(y_pred_classes)\n",
        "\n",
        "# Báo cáo phân loại\n",
        "print(\"Báo cáo phân loại chi tiết:\\n\", classification_report(y_test, y_pred_classes))"
      ]
    },
    {
      "cell_type": "markdown",
      "metadata": {
        "id": "ZelrBpQlCAuo"
      },
      "source": [
        "### LSTM"
      ]
    },
    {
      "cell_type": "code",
      "execution_count": null,
      "metadata": {
        "id": "aY1MAM6FCE6V"
      },
      "outputs": [],
      "source": [
        "#pip install tensorflow keras"
      ]
    },
    {
      "cell_type": "markdown",
      "metadata": {
        "id": "RKITyQ0N89b_"
      },
      "source": [
        "#### LSTM.1 Chuẩn bị dữ liệu cho LSTM\n",
        "Sử dụng lại phần chuẩn bị dữ liệu đã thực hiện cho mô hình CNN. Ta sẽ sử dụng Tokenizer và pad_sequences từ Keras để chuyển văn bản thành chuỗi số và định dạng chiều dài."
      ]
    },
    {
      "cell_type": "code",
      "execution_count": null,
      "metadata": {
        "id": "2yclb4CA86ff"
      },
      "outputs": [],
      "source": [
        "from tensorflow.keras.preprocessing.text import Tokenizer\n",
        "from tensorflow.keras.preprocessing.sequence import pad_sequences\n",
        "\n",
        "# Kết hợp 'Title' và 'Description' thành văn bản duy nhất\n",
        "X_train_combined = X_train.apply(combine_text, axis=1)\n",
        "X_test_combined = X_test.apply(combine_text, axis=1)\n",
        "\n",
        "# Khởi tạo Tokenizer và fit vào dữ liệu huấn luyện\n",
        "tokenizer = Tokenizer(num_words=10000)  # Sử dụng 10,000 từ phổ biến nhất\n",
        "tokenizer.fit_on_texts(X_train_combined)\n",
        "\n",
        "# Chuyển văn bản thành chuỗi số và làm cho chúng có độ dài cố định\n",
        "X_train_seq = tokenizer.texts_to_sequences(X_train_combined)\n",
        "X_test_seq = tokenizer.texts_to_sequences(X_test_combined)\n",
        "\n",
        "# Đảm bảo tất cả chuỗi có cùng độ dài (ví dụ: maxlen=100)\n",
        "maxlen = 100\n",
        "X_train_pad = pad_sequences(X_train_seq, maxlen=maxlen, padding='post')\n",
        "X_test_pad = pad_sequences(X_test_seq, maxlen=maxlen, padding='post')"
      ]
    },
    {
      "cell_type": "markdown",
      "metadata": {
        "id": "aFwFhAJ89LGs"
      },
      "source": [
        "#### LSTM.2 Xây dựng mô hình LSTM\n",
        "Mô hình LSTM sẽ bao gồm lớp nhúng (Embedding layer), lớp LSTM, lớp gộp (Dropout), và lớp kết nối hoàn toàn (Dense) để phân loại."
      ]
    },
    {
      "cell_type": "code",
      "execution_count": null,
      "metadata": {
        "colab": {
          "base_uri": "https://localhost:8080/"
        },
        "id": "XsUYhoHe86iZ",
        "outputId": "063fadd5-6161-44c9-9c86-5d7b191b852a"
      },
      "outputs": [
        {
          "output_type": "stream",
          "name": "stderr",
          "text": [
            "/usr/local/lib/python3.10/dist-packages/keras/src/layers/core/embedding.py:90: UserWarning: Argument `input_length` is deprecated. Just remove it.\n",
            "  warnings.warn(\n"
          ]
        }
      ],
      "source": [
        "from tensorflow.keras.models import Sequential\n",
        "from tensorflow.keras.layers import Embedding, LSTM, Dense, Dropout\n",
        "\n",
        "# Khởi tạo tham số\n",
        "embedding_dim = 100  # Kích thước của vector nhúng\n",
        "num_classes = len(y_train.unique())  # Số lớp đầu ra (tùy vào bài toán)\n",
        "\n",
        "# Xây dựng mô hình LSTM\n",
        "model = Sequential([\n",
        "    Embedding(input_dim=10000, output_dim=embedding_dim, input_length=maxlen),\n",
        "    LSTM(128, return_sequences=False),  # LSTM với 128 đơn vị\n",
        "    Dropout(0.5),\n",
        "    Dense(num_classes, activation='softmax')  # Sử dụng softmax cho phân loại nhiều lớp\n",
        "])\n",
        "\n",
        "# Biên dịch mô hình\n",
        "model.compile(optimizer='adam', loss='sparse_categorical_crossentropy', metrics=['accuracy'])"
      ]
    },
    {
      "cell_type": "markdown",
      "metadata": {
        "id": "_1r8RXfU9WSC"
      },
      "source": [
        "#### LSTM.3 Huấn luyện mô hình\n",
        "Huấn luyện mô hình với dữ liệu đã chuẩn bị:"
      ]
    },
    {
      "cell_type": "code",
      "execution_count": null,
      "metadata": {
        "colab": {
          "base_uri": "https://localhost:8080/"
        },
        "id": "HGGIIgwk86mh",
        "outputId": "7f737e02-0ec9-46ce-f7e6-61f6a88c8b2f"
      },
      "outputs": [
        {
          "output_type": "stream",
          "name": "stdout",
          "text": [
            "Epoch 1/10\n",
            "\u001b[1m60/60\u001b[0m \u001b[32m━━━━━━━━━━━━━━━━━━━━\u001b[0m\u001b[37m\u001b[0m \u001b[1m8s\u001b[0m 13ms/step - accuracy: 0.7279 - loss: 0.7951 - val_accuracy: 0.7729 - val_loss: 0.6842\n",
            "Epoch 2/10\n",
            "\u001b[1m60/60\u001b[0m \u001b[32m━━━━━━━━━━━━━━━━━━━━\u001b[0m\u001b[37m\u001b[0m \u001b[1m5s\u001b[0m 10ms/step - accuracy: 0.7792 - loss: 0.6820 - val_accuracy: 0.7729 - val_loss: 0.6911\n",
            "Epoch 3/10\n",
            "\u001b[1m60/60\u001b[0m \u001b[32m━━━━━━━━━━━━━━━━━━━━\u001b[0m\u001b[37m\u001b[0m \u001b[1m1s\u001b[0m 8ms/step - accuracy: 0.7835 - loss: 0.6792 - val_accuracy: 0.7729 - val_loss: 0.6877\n",
            "Epoch 4/10\n",
            "\u001b[1m60/60\u001b[0m \u001b[32m━━━━━━━━━━━━━━━━━━━━\u001b[0m\u001b[37m\u001b[0m \u001b[1m1s\u001b[0m 9ms/step - accuracy: 0.7718 - loss: 0.6975 - val_accuracy: 0.7729 - val_loss: 0.6838\n",
            "Epoch 5/10\n",
            "\u001b[1m60/60\u001b[0m \u001b[32m━━━━━━━━━━━━━━━━━━━━\u001b[0m\u001b[37m\u001b[0m \u001b[1m1s\u001b[0m 10ms/step - accuracy: 0.7758 - loss: 0.6868 - val_accuracy: 0.7729 - val_loss: 0.6850\n",
            "Epoch 6/10\n",
            "\u001b[1m60/60\u001b[0m \u001b[32m━━━━━━━━━━━━━━━━━━━━\u001b[0m\u001b[37m\u001b[0m \u001b[1m1s\u001b[0m 11ms/step - accuracy: 0.7761 - loss: 0.6852 - val_accuracy: 0.7729 - val_loss: 0.6840\n",
            "Epoch 7/10\n",
            "\u001b[1m60/60\u001b[0m \u001b[32m━━━━━━━━━━━━━━━━━━━━\u001b[0m\u001b[37m\u001b[0m \u001b[1m1s\u001b[0m 11ms/step - accuracy: 0.7740 - loss: 0.6951 - val_accuracy: 0.7729 - val_loss: 0.6834\n",
            "Epoch 8/10\n",
            "\u001b[1m60/60\u001b[0m \u001b[32m━━━━━━━━━━━━━━━━━━━━\u001b[0m\u001b[37m\u001b[0m \u001b[1m1s\u001b[0m 8ms/step - accuracy: 0.7786 - loss: 0.6830 - val_accuracy: 0.7729 - val_loss: 0.6870\n",
            "Epoch 9/10\n",
            "\u001b[1m60/60\u001b[0m \u001b[32m━━━━━━━━━━━━━━━━━━━━\u001b[0m\u001b[37m\u001b[0m \u001b[1m1s\u001b[0m 8ms/step - accuracy: 0.7806 - loss: 0.6746 - val_accuracy: 0.7729 - val_loss: 0.6831\n",
            "Epoch 10/10\n",
            "\u001b[1m60/60\u001b[0m \u001b[32m━━━━━━━━━━━━━━━━━━━━\u001b[0m\u001b[37m\u001b[0m \u001b[1m1s\u001b[0m 8ms/step - accuracy: 0.7752 - loss: 0.6866 - val_accuracy: 0.7729 - val_loss: 0.6836\n"
          ]
        }
      ],
      "source": [
        "import pandas as pd\n",
        "from sklearn.preprocessing import LabelEncoder\n",
        "\n",
        "# Khởi tạo LabelEncoder\n",
        "label_encoder = LabelEncoder()\n",
        "\n",
        "# Fit và transform y_train\n",
        "y_train_encoded = label_encoder.fit_transform(y_train)\n",
        "\n",
        "# Huấn luyện mô hình\n",
        "history = model.fit(X_train_pad, y_train_encoded, epochs=10, batch_size=64, validation_split=0.2)"
      ]
    },
    {
      "cell_type": "markdown",
      "metadata": {
        "id": "1ou9iLlv-Rvy"
      },
      "source": [
        "#### LSTM.4 Đánh giá mô hình\n",
        "Sau khi mô hình đã được huấn luyện, chúng ta sẽ đánh giá trên tập kiểm tra"
      ]
    },
    {
      "cell_type": "code",
      "execution_count": null,
      "metadata": {
        "colab": {
          "base_uri": "https://localhost:8080/"
        },
        "id": "wjZ5Lu9V86pT",
        "outputId": "9155eda2-31bf-44d5-bb03-08d0a343d9c0"
      },
      "outputs": [
        {
          "output_type": "stream",
          "name": "stdout",
          "text": [
            "\u001b[1m38/38\u001b[0m \u001b[32m━━━━━━━━━━━━━━━━━━━━\u001b[0m\u001b[37m\u001b[0m \u001b[1m0s\u001b[0m 3ms/step - accuracy: 0.8041 - loss: 0.6242\n",
            "Độ chính xác trên tập kiểm tra: 0.7833333611488342\n"
          ]
        }
      ],
      "source": [
        "# Đánh giá trên tập kiểm tra\n",
        "# Khởi tạo LabelEncoder\n",
        "label_encoder = LabelEncoder()\n",
        "\n",
        "# Fit và transform y_train (đã thực hiện trước đó)\n",
        "y_train_encoded = label_encoder.fit_transform(y_train)\n",
        "\n",
        "# Huấn luyện mô hình (đã thực hiện trước đó)\n",
        "# history = model.fit(X_train_pad, y_train_encoded, epochs=10, batch_size=64, validation_split=0.2)\n",
        "\n",
        "# ----> Transform y_test using the same LabelEncoder <----\n",
        "y_test_encoded = label_encoder.transform(y_test)\n",
        "\n",
        "# Đánh giá trên tập kiểm tra\n",
        "test_loss, test_accuracy = model.evaluate(X_test_pad, y_test_encoded)  # Use y_test_encode\n",
        "print(\"Độ chính xác trên tập kiểm tra:\", test_accuracy)"
      ]
    },
    {
      "cell_type": "markdown",
      "metadata": {
        "id": "XQ7DOrYM_9iE"
      },
      "source": [
        "#### LSTM.5 Dự đoán và báo cáo phân loại"
      ]
    },
    {
      "cell_type": "code",
      "execution_count": null,
      "metadata": {
        "colab": {
          "base_uri": "https://localhost:8080/"
        },
        "id": "JUTb_6Ie86rx",
        "outputId": "a9f5e28d-6f45-44ad-b87c-dea5e8e022fe"
      },
      "outputs": [
        {
          "output_type": "stream",
          "name": "stdout",
          "text": [
            "\u001b[1m38/38\u001b[0m \u001b[32m━━━━━━━━━━━━━━━━━━━━\u001b[0m\u001b[37m\u001b[0m \u001b[1m0s\u001b[0m 5ms/step\n",
            "Báo cáo phân loại chi tiết:\n",
            "               precision    recall  f1-score   support\n",
            "\n",
            "           0       0.00      0.00      0.00        90\n",
            "           1       0.00      0.00      0.00       170\n",
            "           2       0.78      1.00      0.88       940\n",
            "\n",
            "    accuracy                           0.78      1200\n",
            "   macro avg       0.26      0.33      0.29      1200\n",
            "weighted avg       0.61      0.78      0.69      1200\n",
            "\n"
          ]
        },
        {
          "output_type": "stream",
          "name": "stderr",
          "text": [
            "/usr/local/lib/python3.10/dist-packages/sklearn/metrics/_classification.py:1531: UndefinedMetricWarning: Precision is ill-defined and being set to 0.0 in labels with no predicted samples. Use `zero_division` parameter to control this behavior.\n",
            "  _warn_prf(average, modifier, f\"{metric.capitalize()} is\", len(result))\n",
            "/usr/local/lib/python3.10/dist-packages/sklearn/metrics/_classification.py:1531: UndefinedMetricWarning: Precision is ill-defined and being set to 0.0 in labels with no predicted samples. Use `zero_division` parameter to control this behavior.\n",
            "  _warn_prf(average, modifier, f\"{metric.capitalize()} is\", len(result))\n",
            "/usr/local/lib/python3.10/dist-packages/sklearn/metrics/_classification.py:1531: UndefinedMetricWarning: Precision is ill-defined and being set to 0.0 in labels with no predicted samples. Use `zero_division` parameter to control this behavior.\n",
            "  _warn_prf(average, modifier, f\"{metric.capitalize()} is\", len(result))\n"
          ]
        }
      ],
      "source": [
        "from sklearn.metrics import classification_report\n",
        "\n",
        "# Dự đoán trên tập kiểm tra\n",
        "y_pred = model.predict(X_test_pad)\n",
        "y_pred_classes = y_pred.argmax(axis=1)  # Chuyển xác suất thành nhãn\n",
        "\n",
        "# ----> Transform y_pred_classes back to original labels <----\n",
        "y_pred_classes = label_encoder.inverse_transform(y_pred_classes)\n",
        "\n",
        "# Báo cáo phân loại\n",
        "print(\"Báo cáo phân loại chi tiết:\\n\", classification_report(y_test, y_pred_classes))"
      ]
    },
    {
      "cell_type": "markdown",
      "metadata": {
        "id": "t9NAIeibCF0h"
      },
      "source": [
        "### PhoBERT"
      ]
    },
    {
      "cell_type": "code",
      "execution_count": null,
      "metadata": {
        "id": "Wjpa6PN9CZk_"
      },
      "outputs": [],
      "source": [
        "#pip install transformers torch scikit-learn"
      ]
    },
    {
      "cell_type": "markdown",
      "metadata": {
        "id": "rgRLrQZLAOKI"
      },
      "source": [
        "#### PhoBert.1 Chuẩn bị dữ liệu\n",
        "Giống như trước, chúng ta sẽ kết hợp cột \"Title\" và \"Description\", và sau đó chuẩn bị dữ liệu cho PhoBERT.\n"
      ]
    },
    {
      "cell_type": "code",
      "execution_count": null,
      "metadata": {
        "id": "uorAkT7bAH9H"
      },
      "outputs": [],
      "source": [
        "import pandas as pd\n",
        "\n",
        "# Kết hợp 'Title' và 'Description' thành văn bản duy nhất\n",
        "X_train_combined = X_train.apply(combine_text, axis=1)\n",
        "X_test_combined = X_test.apply(combine_text, axis=1)\n",
        "\n",
        "# Đặt nhãn cho dữ liệu\n",
        "y_train = y_train.values\n",
        "y_test = y_test.values"
      ]
    },
    {
      "cell_type": "markdown",
      "metadata": {
        "id": "o87p2B-sAaOp"
      },
      "source": [
        "#### PhoBert.2 Tải mô hình PhoBERT và Tokenizer\n",
        "Tải mô hình PhoBERT từ Hugging Face."
      ]
    },
    {
      "cell_type": "code",
      "execution_count": null,
      "metadata": {
        "colab": {
          "base_uri": "https://localhost:8080/",
          "height": 233,
          "referenced_widgets": [
            "594d8301d56b432fb3a898dc9614e347",
            "590def41cdfd40a1b3d01ba1b18df65f",
            "5935de6afa30437ba629721282544bdc",
            "97e8c4fb8cdc4a4498c078ecbf37c98a",
            "2d453c850a064415bff3029094b9a823",
            "46a7fdf3f47f469c87528c32a17dc534",
            "884c86009e6d4f989ec597d702150b0e",
            "b56074a5d9984cf89d372e2af2e7028a",
            "9bcb48762cb04faab88fdfd59e7ee1dd",
            "3d19a33429f8429b8d6c0442bbf0855e",
            "91281456a63640938be8c630ee41310b",
            "1d30bb73809047718890c207731d063a",
            "ddb9b4fc8ad74e9dad5a066cfff25efa",
            "4a623242822c4243b8b072a27d2e9daa",
            "bb1f0a67c8734ce49f27f1b137bccf35",
            "bead73d7fb62483fb7343588546094c2",
            "9268a8ba63b846309a75364f2e4a384d",
            "490a40a1aa004ea89aaeefe34a38d431",
            "8adaa0204cdd41609e28635c89e28d35",
            "d851450ca2464a8d994c390691f4a590",
            "bd4bbb383f7c4333a2069f17b48ebdd2",
            "452ba55aca344ba9a6c641222ac90904",
            "7a0aa67f7e5041c4a8cc84783ad96e1b",
            "fa1c0444127c4160a4a8aea6503e3ee8",
            "6cdd63d798d741eead4645363be9e638",
            "98f2afccc3954219a1b276bb591fd813",
            "5668b665e0b641cabbee3cd422786418",
            "8c42f40e77c34d2c833149f81cb4b4e7",
            "77107628bc604f5489c1c7fcab6c11a8",
            "a0b043af353b40e9a82b8f4fa21cfd8b",
            "109462046f3b4baab0dd2d482e1370e2",
            "f7c3a9053a994820878ca60d78c7350f",
            "70394ba484a449a09964f0e149f44c2d",
            "4a80b2f7d1ba4891bd85d517cbfeb2c3",
            "cc0eef9bad6540e1b3d3f26ef5440f03",
            "548429b6a8d747acb3bc86e16b20773d",
            "460116a1e9ff485f94ee5d9b1b80d054",
            "71e26a940a7348ae8e8e5923c2b4589c",
            "e6f2cea1d1c94892b8d3ac3fe83baaf4",
            "34926599dfdb48afa1f33418c3b41350",
            "23fcedb1192a4343a393d700a1b6c245",
            "9f6fc3d74a3b4ac6a02ee4bb6869c64f",
            "4af4b90e41f84ef0bf2aa1de0183e364",
            "f7f844d059174ce88edb0ccfb86f522f",
            "a76fa8ed59e14150b1df5190886d9a90",
            "100dd667292c46c29e4b9c0fae328106",
            "8fa45db04fb249d0b9ced83eee8b721f",
            "c0e9eba6bf9d4eefa5fd728f36c1007a",
            "8df2c755f4a04d30b62a8560cbc283c8",
            "9e2947f1f29a44ba9cde1c7d80182390",
            "09cfa449728445a6a54f2fb70183c7af",
            "4f101a993c5a404995e4790d708dd934",
            "6ee657c34dea46b8b7b0c08d49631d95",
            "ddcaa89083b64916b6a45a34b01985d5",
            "a3e3b4410e5f45009238cfc5b972985d"
          ]
        },
        "id": "IIqtDgfwAV-M",
        "outputId": "fea75fa2-61f1-4e3e-994c-7bc070c5fb5d"
      },
      "outputs": [
        {
          "output_type": "display_data",
          "data": {
            "text/plain": [
              "config.json:   0%|          | 0.00/557 [00:00<?, ?B/s]"
            ],
            "application/vnd.jupyter.widget-view+json": {
              "version_major": 2,
              "version_minor": 0,
              "model_id": "594d8301d56b432fb3a898dc9614e347"
            }
          },
          "metadata": {}
        },
        {
          "output_type": "display_data",
          "data": {
            "text/plain": [
              "vocab.txt:   0%|          | 0.00/895k [00:00<?, ?B/s]"
            ],
            "application/vnd.jupyter.widget-view+json": {
              "version_major": 2,
              "version_minor": 0,
              "model_id": "1d30bb73809047718890c207731d063a"
            }
          },
          "metadata": {}
        },
        {
          "output_type": "display_data",
          "data": {
            "text/plain": [
              "bpe.codes:   0%|          | 0.00/1.14M [00:00<?, ?B/s]"
            ],
            "application/vnd.jupyter.widget-view+json": {
              "version_major": 2,
              "version_minor": 0,
              "model_id": "7a0aa67f7e5041c4a8cc84783ad96e1b"
            }
          },
          "metadata": {}
        },
        {
          "output_type": "display_data",
          "data": {
            "text/plain": [
              "tokenizer.json:   0%|          | 0.00/3.13M [00:00<?, ?B/s]"
            ],
            "application/vnd.jupyter.widget-view+json": {
              "version_major": 2,
              "version_minor": 0,
              "model_id": "4a80b2f7d1ba4891bd85d517cbfeb2c3"
            }
          },
          "metadata": {}
        },
        {
          "output_type": "display_data",
          "data": {
            "text/plain": [
              "pytorch_model.bin:   0%|          | 0.00/543M [00:00<?, ?B/s]"
            ],
            "application/vnd.jupyter.widget-view+json": {
              "version_major": 2,
              "version_minor": 0,
              "model_id": "a76fa8ed59e14150b1df5190886d9a90"
            }
          },
          "metadata": {}
        },
        {
          "output_type": "stream",
          "name": "stderr",
          "text": [
            "Some weights of RobertaForSequenceClassification were not initialized from the model checkpoint at vinai/phobert-base and are newly initialized: ['classifier.dense.bias', 'classifier.dense.weight', 'classifier.out_proj.bias', 'classifier.out_proj.weight']\n",
            "You should probably TRAIN this model on a down-stream task to be able to use it for predictions and inference.\n"
          ]
        }
      ],
      "source": [
        "from transformers import AutoTokenizer, RobertaForSequenceClassification\n",
        "from transformers import Trainer, TrainingArguments\n",
        "\n",
        "# Tải Tokenizer và Mô hình PhoBERT\n",
        "tokenizer = AutoTokenizer.from_pretrained(\"vinai/phobert-base\")\n",
        "model = RobertaForSequenceClassification.from_pretrained(\"vinai/phobert-base\", num_labels=len(set(y_train)))"
      ]
    },
    {
      "cell_type": "markdown",
      "metadata": {
        "id": "iqyIIHMrBm1q"
      },
      "source": [
        "#### PhoBert.3 Mã hóa văn bản\n",
        "Sử dụng tokenizer để mã hóa văn bản đầu vào thành định dạng mà mô hình có thể hiểu được."
      ]
    },
    {
      "cell_type": "code",
      "execution_count": null,
      "metadata": {
        "id": "Cig1vudyAgO0"
      },
      "outputs": [],
      "source": [
        "# Mã hóa dữ liệu\n",
        "train_encodings = tokenizer(list(X_train_combined), truncation=True, padding=True, max_length=128)\n",
        "test_encodings = tokenizer(list(X_test_combined), truncation=True, padding=True, max_length=128)"
      ]
    },
    {
      "cell_type": "markdown",
      "metadata": {
        "id": "QoSL1ePaCBvj"
      },
      "source": [
        "#### PhoBert.4 Tạo Dataset\n",
        "Tạo dataset cho huấn luyện mô hình."
      ]
    },
    {
      "cell_type": "code",
      "execution_count": null,
      "metadata": {
        "id": "lxVLKuT2B8qe"
      },
      "outputs": [],
      "source": [
        "import torch\n",
        "\n",
        "class CustomDataset(torch.utils.data.Dataset):\n",
        "    def __init__(self, encodings, labels):\n",
        "        self.encodings = encodings\n",
        "        self.labels = labels\n",
        "\n",
        "    def __getitem__(self, idx):\n",
        "        item = {key: torch.tensor(val[idx]) for key, val in self.encodings.items()}\n",
        "        item['labels'] = torch.tensor(self.labels[idx])\n",
        "        return item\n",
        "\n",
        "    def __len__(self):\n",
        "        return len(self.labels)\n",
        "\n",
        "# Tạo dataset cho tập huấn luyện và kiểm tra\n",
        "train_dataset = CustomDataset(train_encodings, y_train)\n",
        "test_dataset = CustomDataset(test_encodings, y_test)"
      ]
    },
    {
      "cell_type": "markdown",
      "metadata": {
        "id": "Bpp-HoyfCTiI"
      },
      "source": [
        "#### PhoBert.5 Huấn luyện mô hình\n",
        "Thiết lập các tham số huấn luyện và tiến hành huấn luyện mô hình."
      ]
    },
    {
      "cell_type": "code",
      "execution_count": null,
      "metadata": {
        "id": "l01RFf-wCcNY",
        "colab": {
          "base_uri": "https://localhost:8080/",
          "height": 491
        },
        "outputId": "2a03e6ec-9a95-450a-d86a-ab441d7ab656"
      },
      "outputs": [
        {
          "output_type": "stream",
          "name": "stderr",
          "text": [
            "/usr/local/lib/python3.10/dist-packages/transformers/training_args.py:1568: FutureWarning: `evaluation_strategy` is deprecated and will be removed in version 4.46 of 🤗 Transformers. Use `eval_strategy` instead\n",
            "  warnings.warn(\n",
            "\u001b[34m\u001b[1mwandb\u001b[0m: \u001b[33mWARNING\u001b[0m The `run_name` is currently set to the same value as `TrainingArguments.output_dir`. If this was not intended, please specify a different run name by setting the `TrainingArguments.run_name` parameter.\n",
            "\u001b[34m\u001b[1mwandb\u001b[0m: Using wandb-core as the SDK backend.  Please refer to https://wandb.me/wandb-core for more information.\n"
          ]
        },
        {
          "output_type": "display_data",
          "data": {
            "text/plain": [
              "<IPython.core.display.Javascript object>"
            ],
            "application/javascript": [
              "\n",
              "        window._wandbApiKey = new Promise((resolve, reject) => {\n",
              "            function loadScript(url) {\n",
              "            return new Promise(function(resolve, reject) {\n",
              "                let newScript = document.createElement(\"script\");\n",
              "                newScript.onerror = reject;\n",
              "                newScript.onload = resolve;\n",
              "                document.body.appendChild(newScript);\n",
              "                newScript.src = url;\n",
              "            });\n",
              "            }\n",
              "            loadScript(\"https://cdn.jsdelivr.net/npm/postmate/build/postmate.min.js\").then(() => {\n",
              "            const iframe = document.createElement('iframe')\n",
              "            iframe.style.cssText = \"width:0;height:0;border:none\"\n",
              "            document.body.appendChild(iframe)\n",
              "            const handshake = new Postmate({\n",
              "                container: iframe,\n",
              "                url: 'https://wandb.ai/authorize'\n",
              "            });\n",
              "            const timeout = setTimeout(() => reject(\"Couldn't auto authenticate\"), 5000)\n",
              "            handshake.then(function(child) {\n",
              "                child.on('authorize', data => {\n",
              "                    clearTimeout(timeout)\n",
              "                    resolve(data)\n",
              "                });\n",
              "            });\n",
              "            })\n",
              "        });\n",
              "    "
            ]
          },
          "metadata": {}
        },
        {
          "output_type": "stream",
          "name": "stderr",
          "text": [
            "\u001b[34m\u001b[1mwandb\u001b[0m: Logging into wandb.ai. (Learn how to deploy a W&B server locally: https://wandb.me/wandb-server)\n",
            "\u001b[34m\u001b[1mwandb\u001b[0m: You can find your API key in your browser here: https://wandb.ai/authorize\n",
            "wandb: Paste an API key from your profile and hit enter, or press ctrl+c to quit:"
          ]
        },
        {
          "name": "stdout",
          "output_type": "stream",
          "text": [
            " ··········\n"
          ]
        },
        {
          "output_type": "stream",
          "name": "stderr",
          "text": [
            "\u001b[34m\u001b[1mwandb\u001b[0m: Appending key for api.wandb.ai to your netrc file: /root/.netrc\n"
          ]
        },
        {
          "output_type": "display_data",
          "data": {
            "text/plain": [
              "<IPython.core.display.HTML object>"
            ],
            "text/html": [
              "Tracking run with wandb version 0.18.7"
            ]
          },
          "metadata": {}
        },
        {
          "output_type": "display_data",
          "data": {
            "text/plain": [
              "<IPython.core.display.HTML object>"
            ],
            "text/html": [
              "Run data is saved locally in <code>/content/wandb/run-20241203_135405-pllcifa8</code>"
            ]
          },
          "metadata": {}
        },
        {
          "output_type": "display_data",
          "data": {
            "text/plain": [
              "<IPython.core.display.HTML object>"
            ],
            "text/html": [
              "Syncing run <strong><a href='https://wandb.ai/vantang200378-vnuis-edu-vn/huggingface/runs/pllcifa8' target=\"_blank\">./results</a></strong> to <a href='https://wandb.ai/vantang200378-vnuis-edu-vn/huggingface' target=\"_blank\">Weights & Biases</a> (<a href='https://wandb.me/developer-guide' target=\"_blank\">docs</a>)<br/>"
            ]
          },
          "metadata": {}
        },
        {
          "output_type": "display_data",
          "data": {
            "text/plain": [
              "<IPython.core.display.HTML object>"
            ],
            "text/html": [
              " View project at <a href='https://wandb.ai/vantang200378-vnuis-edu-vn/huggingface' target=\"_blank\">https://wandb.ai/vantang200378-vnuis-edu-vn/huggingface</a>"
            ]
          },
          "metadata": {}
        },
        {
          "output_type": "display_data",
          "data": {
            "text/plain": [
              "<IPython.core.display.HTML object>"
            ],
            "text/html": [
              " View run at <a href='https://wandb.ai/vantang200378-vnuis-edu-vn/huggingface/runs/pllcifa8' target=\"_blank\">https://wandb.ai/vantang200378-vnuis-edu-vn/huggingface/runs/pllcifa8</a>"
            ]
          },
          "metadata": {}
        },
        {
          "output_type": "display_data",
          "data": {
            "text/plain": [
              "<IPython.core.display.HTML object>"
            ],
            "text/html": [
              "\n",
              "    <div>\n",
              "      \n",
              "      <progress value='1800' max='1800' style='width:300px; height:20px; vertical-align: middle;'></progress>\n",
              "      [1800/1800 07:13, Epoch 3/3]\n",
              "    </div>\n",
              "    <table border=\"1\" class=\"dataframe\">\n",
              "  <thead>\n",
              " <tr style=\"text-align: left;\">\n",
              "      <th>Epoch</th>\n",
              "      <th>Training Loss</th>\n",
              "      <th>Validation Loss</th>\n",
              "    </tr>\n",
              "  </thead>\n",
              "  <tbody>\n",
              "    <tr>\n",
              "      <td>1</td>\n",
              "      <td>0.495100</td>\n",
              "      <td>0.388791</td>\n",
              "    </tr>\n",
              "    <tr>\n",
              "      <td>2</td>\n",
              "      <td>0.384900</td>\n",
              "      <td>0.367574</td>\n",
              "    </tr>\n",
              "    <tr>\n",
              "      <td>3</td>\n",
              "      <td>0.290600</td>\n",
              "      <td>0.362839</td>\n",
              "    </tr>\n",
              "  </tbody>\n",
              "</table><p>"
            ]
          },
          "metadata": {}
        },
        {
          "output_type": "execute_result",
          "data": {
            "text/plain": [
              "TrainOutput(global_step=1800, training_loss=0.3728297085232205, metrics={'train_runtime': 502.8883, 'train_samples_per_second': 28.635, 'train_steps_per_second': 3.579, 'total_flos': 873207655084800.0, 'train_loss': 0.3728297085232205, 'epoch': 3.0})"
            ]
          },
          "metadata": {},
          "execution_count": 34
        }
      ],
      "source": [
        "import torch\n",
        "\n",
        "class CustomDataset(torch.utils.data.Dataset):\n",
        "    def __init__(self, encodings, labels):\n",
        "        self.encodings = encodings\n",
        "        self.labels = labels  # Using encoded labels directly\n",
        "\n",
        "    def __getitem__(self, idx):\n",
        "        item = {key: torch.tensor(val[idx]) for key, val in self.encodings.items()}\n",
        "        # Ensure labels is an integer by casting to int before creating the tensor\n",
        "        item['labels'] = torch.tensor(int(self.labels[idx]))\n",
        "        return item\n",
        "\n",
        "    def __len__(self):\n",
        "        return len(self.labels)\n",
        "\n",
        "# Khởi tạo dataset với nhãn đã mã hóa (Using encoded labels)\n",
        "train_dataset = CustomDataset(train_encodings, y_train_encoded)\n",
        "test_dataset = CustomDataset(test_encodings, y_test_encoded)\n",
        "\n",
        "# Training arguments\n",
        "training_args = TrainingArguments(\n",
        "    output_dir='./results',\n",
        "    evaluation_strategy=\"epoch\",\n",
        "    learning_rate=2e-5,\n",
        "    per_device_train_batch_size=8,\n",
        "    per_device_eval_batch_size=8,\n",
        "    num_train_epochs=3,\n",
        "    weight_decay=0.01\n",
        ")\n",
        "\n",
        "# Trainer initialization\n",
        "trainer = Trainer(\n",
        "    model=model,\n",
        "    args=training_args,\n",
        "    train_dataset=train_dataset,\n",
        "    eval_dataset=test_dataset\n",
        ")\n",
        "\n",
        "# Train the model\n",
        "trainer.train()"
      ]
    },
    {
      "cell_type": "code",
      "source": [
        "from sklearn.metrics import accuracy_score\n",
        "\n",
        "def compute_metrics(eval_pred):\n",
        "    logits, labels = eval_pred  # Lấy logits và nhãn\n",
        "    predictions = logits.argmax(axis=-1)  # Dự đoán nhãn từ logits\n",
        "    accuracy = accuracy_score(labels, predictions)  # Tính độ chính xác\n",
        "    return {'eval_accuracy': accuracy}  # Trả về từ điển với độ chính xác\n"
      ],
      "metadata": {
        "id": "QZSTJjTNepOp"
      },
      "execution_count": null,
      "outputs": []
    },
    {
      "cell_type": "markdown",
      "source": [],
      "metadata": {
        "id": "nKVymVD3cdW9"
      }
    },
    {
      "cell_type": "code",
      "source": [
        "from sklearn.preprocessing import LabelEncoder\n",
        "\n",
        "# Khởi tạo LabelEncoder nếu chưa được khởi tạo\n",
        "label_encoder = LabelEncoder()\n",
        "\n",
        "# Fit LabelEncoder vào dữ liệu huấn luyện và biến đổi nếu chưa được thực hiện\n",
        "y_train_encoded = label_encoder.fit_transform(y_train)\n",
        "\n",
        "# Sử dụng cùng LabelEncoder cho dữ liệu kiểm tra\n",
        "y_test_encoded = label_encoder.transform(y_test)\n",
        "\n",
        "# Tạo đối tượng Trainer mới với hàm compute_metrics\n",
        "trainer = Trainer(\n",
        "    model=model,  # Mô hình đã huấn luyện\n",
        "    args=training_args,  # Tham số huấn luyện\n",
        "    train_dataset=train_dataset,  # Tập huấn luyện\n",
        "    eval_dataset=test_dataset,  # Tập kiểm tra\n",
        "    compute_metrics=compute_metrics  # Thêm hàm compute_metrics\n",
        ")\n",
        "\n",
        "# Đánh giá mô hình\n",
        "eval_results = trainer.evaluate()  # Đánh giá mô hình\n",
        "\n",
        "# In kết quả\n",
        "print(\"Loss trên tập kiểm tra:\", eval_results['eval_loss'])\n",
        "print(\"Độ chính xác trên tập kiểm tra:\", eval_results['eval_accuracy'])\n"
      ],
      "metadata": {
        "id": "CMHw8cL-jpbr",
        "colab": {
          "base_uri": "https://localhost:8080/",
          "height": 73
        },
        "outputId": "42b1be41-d76d-4339-eec7-abfee454c9a3"
      },
      "execution_count": null,
      "outputs": [
        {
          "output_type": "display_data",
          "data": {
            "text/plain": [
              "<IPython.core.display.HTML object>"
            ],
            "text/html": [
              "\n",
              "    <div>\n",
              "      \n",
              "      <progress value='150' max='150' style='width:300px; height:20px; vertical-align: middle;'></progress>\n",
              "      [150/150 00:06]\n",
              "    </div>\n",
              "    "
            ]
          },
          "metadata": {}
        },
        {
          "output_type": "stream",
          "name": "stdout",
          "text": [
            "Loss trên tập kiểm tra: 0.36283934116363525\n",
            "Độ chính xác trên tập kiểm tra: 0.8866666666666667\n"
          ]
        }
      ]
    },
    {
      "cell_type": "code",
      "source": [
        "from sklearn.preprocessing import LabelEncoder\n",
        "from sklearn.metrics import classification_report\n",
        "import numpy as np\n",
        "\n",
        "# Khởi tạo LabelEncoder nếu chưa được khởi tạo\n",
        "label_encoder = LabelEncoder()\n",
        "\n",
        "# Fit LabelEncoder vào dữ liệu huấn luyện và biến đổi nếu chưa được thực hiện\n",
        "y_train_encoded = label_encoder.fit_transform(y_train)\n",
        "\n",
        "# Sử dụng cùng LabelEncoder cho dữ liệu kiểm tra\n",
        "y_test_encoded = label_encoder.transform(y_test)\n",
        "\n",
        "# Tạo đối tượng Trainer mới với hàm compute_metrics\n",
        "trainer = Trainer(\n",
        "    model=model,  # Mô hình đã huấn luyện\n",
        "    args=training_args,  # Tham số huấn luyện\n",
        "    train_dataset=train_dataset,  # Tập huấn luyện\n",
        "    eval_dataset=test_dataset,  # Tập kiểm tra\n",
        "    compute_metrics=compute_metrics  # Thêm hàm compute_metrics\n",
        ")\n",
        "\n",
        "# Đánh giá mô hình\n",
        "eval_results = trainer.evaluate()  # Đánh giá mô hình\n",
        "\n",
        "# In kết quả Loss và Độ chính xác\n",
        "print(\"Loss trên tập kiểm tra:\", eval_results['eval_loss'])\n",
        "print(\"Độ chính xác trên tập kiểm tra:\", eval_results['eval_accuracy'])\n",
        "\n",
        "# Dự đoán trên tập kiểm tra\n",
        "y_pred = trainer.predict(test_dataset).predictions\n",
        "y_pred_labels = np.argmax(y_pred, axis=1)\n",
        "\n",
        "# Convert label_encoder.classes_ to a list of strings\n",
        "target_names = [str(cls) for cls in label_encoder.classes_]  # Convert to strings\n",
        "\n",
        "# In báo cáo phân loại chi tiết\n",
        "print(\"Báo cáo phân loại:\\n\", classification_report(y_test_encoded, y_pred_labels, target_names=target_names)) # Use target_names"
      ],
      "metadata": {
        "colab": {
          "base_uri": "https://localhost:8080/",
          "height": 249
        },
        "id": "rYUVq0qGTKdo",
        "outputId": "8c5363d6-d0c4-47de-965d-1caab0ea8983"
      },
      "execution_count": null,
      "outputs": [
        {
          "output_type": "display_data",
          "data": {
            "text/plain": [
              "<IPython.core.display.HTML object>"
            ],
            "text/html": []
          },
          "metadata": {}
        },
        {
          "output_type": "stream",
          "name": "stdout",
          "text": [
            "Loss trên tập kiểm tra: 0.36283934116363525\n",
            "Độ chính xác trên tập kiểm tra: 0.8866666666666667\n",
            "Báo cáo phân loại:\n",
            "               precision    recall  f1-score   support\n",
            "\n",
            "           0       0.65      0.67      0.66        90\n",
            "           1       0.68      0.80      0.73       170\n",
            "           2       0.96      0.92      0.94       940\n",
            "\n",
            "    accuracy                           0.89      1200\n",
            "   macro avg       0.76      0.80      0.78      1200\n",
            "weighted avg       0.89      0.89      0.89      1200\n",
            "\n"
          ]
        }
      ]
    },
    {
      "cell_type": "markdown",
      "source": [
        "### RNN (Nam)"
      ],
      "metadata": {
        "id": "7wk1kmJgQM-3"
      }
    },
    {
      "cell_type": "markdown",
      "source": [
        "### RoBERTa (Nam)"
      ],
      "metadata": {
        "id": "BXJahP_7QfYX"
      }
    },
    {
      "cell_type": "markdown",
      "source": [
        "### Naive Bayes"
      ],
      "metadata": {
        "id": "ezZARf8LQnVC"
      }
    },
    {
      "cell_type": "code",
      "source": [
        "from sklearn.feature_extraction.text import TfidfVectorizer\n",
        "from sklearn.naive_bayes import MultinomialNB\n",
        "from sklearn.pipeline import Pipeline\n",
        "from sklearn.metrics import classification_report, accuracy_score\n",
        "\n",
        "# Hàm kết hợp văn bản, xử lý cả list trong cột 'Title' và 'Description'\n",
        "def combine_text(row):\n",
        "    \"\"\"Combines 'Title' and 'Description' handling potential lists in both columns.\"\"\"\n",
        "    # Chuyển 'Title' thành chuỗi nếu có dạng list hoặc list lồng\n",
        "    title = \" \".join([str(item) for sublist in row['Title'] for item in sublist]) if isinstance(row['Title'], list) and any(isinstance(i, list) for i in row['Title']) else \" \".join(row['Title']) if isinstance(row['Title'], list) else str(row['Title'])\n",
        "\n",
        "    # Chuyển 'Description' thành chuỗi nếu có dạng list\n",
        "    description = \" \".join(row['Description']) if isinstance(row['Description'], list) else str(row['Description'])\n",
        "\n",
        "    return title + \" \" + description\n",
        "\n",
        "# Áp dụng hàm để tạo đặc trưng văn bản kết hợp\n",
        "X_train_combined = X_train.apply(combine_text, axis=1)\n",
        "X_test_combined = X_test.apply(combine_text, axis=1)\n",
        "\n",
        "# Xây dựng pipeline với TF-IDF và Naive Bayes\n",
        "pipeline = Pipeline([\n",
        "    ('tfidf', TfidfVectorizer()),  # Bước chuyển văn bản thành TF-IDF\n",
        "    ('nb', MultinomialNB())  # Bước phân loại với Naive Bayes\n",
        "])\n",
        "\n",
        "# Huấn luyện mô hình\n",
        "pipeline.fit(X_train_combined, y_train)\n",
        "\n",
        "# Dự đoán trên tập kiểm tra\n",
        "y_pred = pipeline.predict(X_test_combined)\n",
        "\n",
        "# Đánh giá mô hình\n",
        "print(\"Độ chính xác trên tập kiểm tra:\", accuracy_score(y_test, y_pred))\n",
        "print(\"\\nBáo cáo phân loại chi tiết:\\n\", classification_report(y_test, y_pred))\n"
      ],
      "metadata": {
        "id": "uOdnC4zGJ12P",
        "colab": {
          "base_uri": "https://localhost:8080/"
        },
        "outputId": "40db65be-a0e7-4a49-8a0e-4f8d8c010384"
      },
      "execution_count": null,
      "outputs": [
        {
          "output_type": "stream",
          "name": "stdout",
          "text": [
            "Độ chính xác trên tập kiểm tra: 0.7833333333333333\n",
            "\n",
            "Báo cáo phân loại chi tiết:\n",
            "               precision    recall  f1-score   support\n",
            "\n",
            "           0       0.00      0.00      0.00        90\n",
            "           1       0.00      0.00      0.00       170\n",
            "           2       0.78      1.00      0.88       940\n",
            "\n",
            "    accuracy                           0.78      1200\n",
            "   macro avg       0.26      0.33      0.29      1200\n",
            "weighted avg       0.61      0.78      0.69      1200\n",
            "\n"
          ]
        },
        {
          "output_type": "stream",
          "name": "stderr",
          "text": [
            "/usr/local/lib/python3.10/dist-packages/sklearn/metrics/_classification.py:1531: UndefinedMetricWarning: Precision is ill-defined and being set to 0.0 in labels with no predicted samples. Use `zero_division` parameter to control this behavior.\n",
            "  _warn_prf(average, modifier, f\"{metric.capitalize()} is\", len(result))\n",
            "/usr/local/lib/python3.10/dist-packages/sklearn/metrics/_classification.py:1531: UndefinedMetricWarning: Precision is ill-defined and being set to 0.0 in labels with no predicted samples. Use `zero_division` parameter to control this behavior.\n",
            "  _warn_prf(average, modifier, f\"{metric.capitalize()} is\", len(result))\n",
            "/usr/local/lib/python3.10/dist-packages/sklearn/metrics/_classification.py:1531: UndefinedMetricWarning: Precision is ill-defined and being set to 0.0 in labels with no predicted samples. Use `zero_division` parameter to control this behavior.\n",
            "  _warn_prf(average, modifier, f\"{metric.capitalize()} is\", len(result))\n"
          ]
        }
      ]
    },
    {
      "cell_type": "markdown",
      "source": [
        "### Logistics Regression"
      ],
      "metadata": {
        "id": "CWhyzU1MQtEd"
      }
    },
    {
      "cell_type": "code",
      "source": [
        "import pandas as pd\n",
        "from sklearn.model_selection import train_test_split\n",
        "from sklearn.feature_extraction.text import TfidfVectorizer\n",
        "from sklearn.linear_model import LogisticRegression\n",
        "from sklearn.pipeline import Pipeline\n",
        "from sklearn.metrics import accuracy_score, classification_report, confusion_matrix\n",
        "\n",
        "# Hàm kết hợp văn bản, xử lý cả list trong cột 'Title' và 'Description'\n",
        "def combine_text(row):\n",
        "    \"\"\"Combines 'Title' and 'Description' handling potential lists in both columns.\"\"\"\n",
        "    # Chuyển 'Title' thành chuỗi nếu có dạng list hoặc list lồng\n",
        "    title = \" \".join([str(item) for sublist in row['Title'] for item in sublist]) if isinstance(row['Title'], list) and any(isinstance(i, list) for i in row['Title']) else \" \".join(row['Title']) if isinstance(row['Title'], list) else str(row['Title'])\n",
        "\n",
        "    # Chuyển 'Description' thành chuỗi nếu có dạng list\n",
        "    description = \" \".join(row['Description']) if isinstance(row['Description'], list) else str(row['Description'])\n",
        "\n",
        "    return title + \" \" + description\n",
        "\n",
        "# Áp dụng hàm để tạo đặc trưng văn bản kết hợp\n",
        "X_train_combined = X_train.apply(combine_text, axis=1)\n",
        "X_test_combined = X_test.apply(combine_text, axis=1)\n",
        "\n",
        "# Xây dựng pipeline với TF-IDF và Logistic Regression\n",
        "pipeline = Pipeline([\n",
        "    ('tfidf', TfidfVectorizer()),  # Bước chuyển văn bản thành TF-IDF\n",
        "    ('logreg', LogisticRegression(max_iter=1000, random_state=42))  # Sử dụng Logistic Regression\n",
        "])\n",
        "\n",
        "# Huấn luyện mô hình\n",
        "pipeline.fit(X_train_combined, y_train)\n",
        "\n",
        "# Dự đoán trên tập kiểm tra\n",
        "y_pred = pipeline.predict(X_test_combined)\n",
        "\n",
        "# Đánh giá mô hình\n",
        "print(\"Độ chính xác trên tập kiểm tra:\", accuracy_score(y_test, y_pred))\n",
        "print(\"Báo cáo phân loại chi tiết:\\n\", classification_report(y_test, y_pred))\n",
        "print(\"Confusion Matrix:\\n\", confusion_matrix(y_test, y_pred))\n"
      ],
      "metadata": {
        "id": "DKBYMaJoKzU_",
        "colab": {
          "base_uri": "https://localhost:8080/"
        },
        "outputId": "920af9ca-f88b-4ef7-d9f3-93c97266182c"
      },
      "execution_count": null,
      "outputs": [
        {
          "output_type": "stream",
          "name": "stdout",
          "text": [
            "Độ chính xác trên tập kiểm tra: 0.8533333333333334\n",
            "Báo cáo phân loại chi tiết:\n",
            "               precision    recall  f1-score   support\n",
            "\n",
            "           0       0.71      0.27      0.39        90\n",
            "           1       0.70      0.51      0.59       170\n",
            "           2       0.88      0.97      0.92       940\n",
            "\n",
            "    accuracy                           0.85      1200\n",
            "   macro avg       0.76      0.58      0.63      1200\n",
            "weighted avg       0.84      0.85      0.83      1200\n",
            "\n",
            "Confusion Matrix:\n",
            " [[ 24  17  49]\n",
            " [  4  87  79]\n",
            " [  6  21 913]]\n"
          ]
        }
      ]
    },
    {
      "cell_type": "markdown",
      "source": [
        "### Random Forest"
      ],
      "metadata": {
        "id": "nZZB1PyoQzlu"
      }
    },
    {
      "cell_type": "markdown",
      "source": [
        "### XGBoost"
      ],
      "metadata": {
        "id": "-AihNId9Q4bE"
      }
    },
    {
      "cell_type": "code",
      "source": [
        "#pip install datasets --upgrade"
      ],
      "metadata": {
        "id": "Pdhw-O0QbABs"
      },
      "execution_count": null,
      "outputs": []
    },
    {
      "cell_type": "markdown",
      "source": [
        "###"
      ],
      "metadata": {
        "id": "4RuTO6aDfQfu"
      }
    }
  ],
  "metadata": {
    "colab": {
      "provenance": [],
      "gpuType": "T4",
      "toc_visible": true
    },
    "kernelspec": {
      "display_name": "Python 3",
      "name": "python3"
    },
    "language_info": {
      "name": "python"
    },
    "widgets": {
      "application/vnd.jupyter.widget-state+json": {
        "55519402f62344e0b2b65cd937aac13b": {
          "model_module": "@jupyter-widgets/controls",
          "model_name": "HBoxModel",
          "model_module_version": "1.5.0",
          "state": {
            "_dom_classes": [],
            "_model_module": "@jupyter-widgets/controls",
            "_model_module_version": "1.5.0",
            "_model_name": "HBoxModel",
            "_view_count": null,
            "_view_module": "@jupyter-widgets/controls",
            "_view_module_version": "1.5.0",
            "_view_name": "HBoxView",
            "box_style": "",
            "children": [
              "IPY_MODEL_c63319baaaae42b98e2dab0a4f0d3606",
              "IPY_MODEL_67594776c31146b5bca7a31bf0b7d4dc",
              "IPY_MODEL_442ccc8cf9ae434281674cba8a65d4f5"
            ],
            "layout": "IPY_MODEL_d98097431075472e8a9eac7c9ad32ef4"
          }
        },
        "c63319baaaae42b98e2dab0a4f0d3606": {
          "model_module": "@jupyter-widgets/controls",
          "model_name": "HTMLModel",
          "model_module_version": "1.5.0",
          "state": {
            "_dom_classes": [],
            "_model_module": "@jupyter-widgets/controls",
            "_model_module_version": "1.5.0",
            "_model_name": "HTMLModel",
            "_view_count": null,
            "_view_module": "@jupyter-widgets/controls",
            "_view_module_version": "1.5.0",
            "_view_name": "HTMLView",
            "description": "",
            "description_tooltip": null,
            "layout": "IPY_MODEL_98eaf31f043d4e8d91e91608ad6a2f4f",
            "placeholder": "​",
            "style": "IPY_MODEL_36ce6609b24a4ced8663682adaee32f1",
            "value": "tokenizer_config.json: 100%"
          }
        },
        "67594776c31146b5bca7a31bf0b7d4dc": {
          "model_module": "@jupyter-widgets/controls",
          "model_name": "FloatProgressModel",
          "model_module_version": "1.5.0",
          "state": {
            "_dom_classes": [],
            "_model_module": "@jupyter-widgets/controls",
            "_model_module_version": "1.5.0",
            "_model_name": "FloatProgressModel",
            "_view_count": null,
            "_view_module": "@jupyter-widgets/controls",
            "_view_module_version": "1.5.0",
            "_view_name": "ProgressView",
            "bar_style": "success",
            "description": "",
            "description_tooltip": null,
            "layout": "IPY_MODEL_756bab958b6949d4a9fed82d8dc97fda",
            "max": 49,
            "min": 0,
            "orientation": "horizontal",
            "style": "IPY_MODEL_866df34501eb47dbbb837374359e9c5d",
            "value": 49
          }
        },
        "442ccc8cf9ae434281674cba8a65d4f5": {
          "model_module": "@jupyter-widgets/controls",
          "model_name": "HTMLModel",
          "model_module_version": "1.5.0",
          "state": {
            "_dom_classes": [],
            "_model_module": "@jupyter-widgets/controls",
            "_model_module_version": "1.5.0",
            "_model_name": "HTMLModel",
            "_view_count": null,
            "_view_module": "@jupyter-widgets/controls",
            "_view_module_version": "1.5.0",
            "_view_name": "HTMLView",
            "description": "",
            "description_tooltip": null,
            "layout": "IPY_MODEL_f034df402a0a445e93b344136e723319",
            "placeholder": "​",
            "style": "IPY_MODEL_53819582026a42fc85cb0a6c61baca1a",
            "value": " 49.0/49.0 [00:00&lt;00:00, 1.93kB/s]"
          }
        },
        "d98097431075472e8a9eac7c9ad32ef4": {
          "model_module": "@jupyter-widgets/base",
          "model_name": "LayoutModel",
          "model_module_version": "1.2.0",
          "state": {
            "_model_module": "@jupyter-widgets/base",
            "_model_module_version": "1.2.0",
            "_model_name": "LayoutModel",
            "_view_count": null,
            "_view_module": "@jupyter-widgets/base",
            "_view_module_version": "1.2.0",
            "_view_name": "LayoutView",
            "align_content": null,
            "align_items": null,
            "align_self": null,
            "border": null,
            "bottom": null,
            "display": null,
            "flex": null,
            "flex_flow": null,
            "grid_area": null,
            "grid_auto_columns": null,
            "grid_auto_flow": null,
            "grid_auto_rows": null,
            "grid_column": null,
            "grid_gap": null,
            "grid_row": null,
            "grid_template_areas": null,
            "grid_template_columns": null,
            "grid_template_rows": null,
            "height": null,
            "justify_content": null,
            "justify_items": null,
            "left": null,
            "margin": null,
            "max_height": null,
            "max_width": null,
            "min_height": null,
            "min_width": null,
            "object_fit": null,
            "object_position": null,
            "order": null,
            "overflow": null,
            "overflow_x": null,
            "overflow_y": null,
            "padding": null,
            "right": null,
            "top": null,
            "visibility": null,
            "width": null
          }
        },
        "98eaf31f043d4e8d91e91608ad6a2f4f": {
          "model_module": "@jupyter-widgets/base",
          "model_name": "LayoutModel",
          "model_module_version": "1.2.0",
          "state": {
            "_model_module": "@jupyter-widgets/base",
            "_model_module_version": "1.2.0",
            "_model_name": "LayoutModel",
            "_view_count": null,
            "_view_module": "@jupyter-widgets/base",
            "_view_module_version": "1.2.0",
            "_view_name": "LayoutView",
            "align_content": null,
            "align_items": null,
            "align_self": null,
            "border": null,
            "bottom": null,
            "display": null,
            "flex": null,
            "flex_flow": null,
            "grid_area": null,
            "grid_auto_columns": null,
            "grid_auto_flow": null,
            "grid_auto_rows": null,
            "grid_column": null,
            "grid_gap": null,
            "grid_row": null,
            "grid_template_areas": null,
            "grid_template_columns": null,
            "grid_template_rows": null,
            "height": null,
            "justify_content": null,
            "justify_items": null,
            "left": null,
            "margin": null,
            "max_height": null,
            "max_width": null,
            "min_height": null,
            "min_width": null,
            "object_fit": null,
            "object_position": null,
            "order": null,
            "overflow": null,
            "overflow_x": null,
            "overflow_y": null,
            "padding": null,
            "right": null,
            "top": null,
            "visibility": null,
            "width": null
          }
        },
        "36ce6609b24a4ced8663682adaee32f1": {
          "model_module": "@jupyter-widgets/controls",
          "model_name": "DescriptionStyleModel",
          "model_module_version": "1.5.0",
          "state": {
            "_model_module": "@jupyter-widgets/controls",
            "_model_module_version": "1.5.0",
            "_model_name": "DescriptionStyleModel",
            "_view_count": null,
            "_view_module": "@jupyter-widgets/base",
            "_view_module_version": "1.2.0",
            "_view_name": "StyleView",
            "description_width": ""
          }
        },
        "756bab958b6949d4a9fed82d8dc97fda": {
          "model_module": "@jupyter-widgets/base",
          "model_name": "LayoutModel",
          "model_module_version": "1.2.0",
          "state": {
            "_model_module": "@jupyter-widgets/base",
            "_model_module_version": "1.2.0",
            "_model_name": "LayoutModel",
            "_view_count": null,
            "_view_module": "@jupyter-widgets/base",
            "_view_module_version": "1.2.0",
            "_view_name": "LayoutView",
            "align_content": null,
            "align_items": null,
            "align_self": null,
            "border": null,
            "bottom": null,
            "display": null,
            "flex": null,
            "flex_flow": null,
            "grid_area": null,
            "grid_auto_columns": null,
            "grid_auto_flow": null,
            "grid_auto_rows": null,
            "grid_column": null,
            "grid_gap": null,
            "grid_row": null,
            "grid_template_areas": null,
            "grid_template_columns": null,
            "grid_template_rows": null,
            "height": null,
            "justify_content": null,
            "justify_items": null,
            "left": null,
            "margin": null,
            "max_height": null,
            "max_width": null,
            "min_height": null,
            "min_width": null,
            "object_fit": null,
            "object_position": null,
            "order": null,
            "overflow": null,
            "overflow_x": null,
            "overflow_y": null,
            "padding": null,
            "right": null,
            "top": null,
            "visibility": null,
            "width": null
          }
        },
        "866df34501eb47dbbb837374359e9c5d": {
          "model_module": "@jupyter-widgets/controls",
          "model_name": "ProgressStyleModel",
          "model_module_version": "1.5.0",
          "state": {
            "_model_module": "@jupyter-widgets/controls",
            "_model_module_version": "1.5.0",
            "_model_name": "ProgressStyleModel",
            "_view_count": null,
            "_view_module": "@jupyter-widgets/base",
            "_view_module_version": "1.2.0",
            "_view_name": "StyleView",
            "bar_color": null,
            "description_width": ""
          }
        },
        "f034df402a0a445e93b344136e723319": {
          "model_module": "@jupyter-widgets/base",
          "model_name": "LayoutModel",
          "model_module_version": "1.2.0",
          "state": {
            "_model_module": "@jupyter-widgets/base",
            "_model_module_version": "1.2.0",
            "_model_name": "LayoutModel",
            "_view_count": null,
            "_view_module": "@jupyter-widgets/base",
            "_view_module_version": "1.2.0",
            "_view_name": "LayoutView",
            "align_content": null,
            "align_items": null,
            "align_self": null,
            "border": null,
            "bottom": null,
            "display": null,
            "flex": null,
            "flex_flow": null,
            "grid_area": null,
            "grid_auto_columns": null,
            "grid_auto_flow": null,
            "grid_auto_rows": null,
            "grid_column": null,
            "grid_gap": null,
            "grid_row": null,
            "grid_template_areas": null,
            "grid_template_columns": null,
            "grid_template_rows": null,
            "height": null,
            "justify_content": null,
            "justify_items": null,
            "left": null,
            "margin": null,
            "max_height": null,
            "max_width": null,
            "min_height": null,
            "min_width": null,
            "object_fit": null,
            "object_position": null,
            "order": null,
            "overflow": null,
            "overflow_x": null,
            "overflow_y": null,
            "padding": null,
            "right": null,
            "top": null,
            "visibility": null,
            "width": null
          }
        },
        "53819582026a42fc85cb0a6c61baca1a": {
          "model_module": "@jupyter-widgets/controls",
          "model_name": "DescriptionStyleModel",
          "model_module_version": "1.5.0",
          "state": {
            "_model_module": "@jupyter-widgets/controls",
            "_model_module_version": "1.5.0",
            "_model_name": "DescriptionStyleModel",
            "_view_count": null,
            "_view_module": "@jupyter-widgets/base",
            "_view_module_version": "1.2.0",
            "_view_name": "StyleView",
            "description_width": ""
          }
        },
        "f2071b8d69d14c1a96af911deb0fce2f": {
          "model_module": "@jupyter-widgets/controls",
          "model_name": "HBoxModel",
          "model_module_version": "1.5.0",
          "state": {
            "_dom_classes": [],
            "_model_module": "@jupyter-widgets/controls",
            "_model_module_version": "1.5.0",
            "_model_name": "HBoxModel",
            "_view_count": null,
            "_view_module": "@jupyter-widgets/controls",
            "_view_module_version": "1.5.0",
            "_view_name": "HBoxView",
            "box_style": "",
            "children": [
              "IPY_MODEL_702cbcbda437483f89c6d36052879dd8",
              "IPY_MODEL_29f4b2fada5343c7a48132f52efefd57",
              "IPY_MODEL_cee020d75f464b298d33017118376119"
            ],
            "layout": "IPY_MODEL_55b19a4db9fe4b9cb274771f16ef5cd4"
          }
        },
        "702cbcbda437483f89c6d36052879dd8": {
          "model_module": "@jupyter-widgets/controls",
          "model_name": "HTMLModel",
          "model_module_version": "1.5.0",
          "state": {
            "_dom_classes": [],
            "_model_module": "@jupyter-widgets/controls",
            "_model_module_version": "1.5.0",
            "_model_name": "HTMLModel",
            "_view_count": null,
            "_view_module": "@jupyter-widgets/controls",
            "_view_module_version": "1.5.0",
            "_view_name": "HTMLView",
            "description": "",
            "description_tooltip": null,
            "layout": "IPY_MODEL_1083c72c9b5d4330b56084c1485121e8",
            "placeholder": "​",
            "style": "IPY_MODEL_3e52e510fdd04140bff580ea9e9f7cd5",
            "value": "vocab.txt: 100%"
          }
        },
        "29f4b2fada5343c7a48132f52efefd57": {
          "model_module": "@jupyter-widgets/controls",
          "model_name": "FloatProgressModel",
          "model_module_version": "1.5.0",
          "state": {
            "_dom_classes": [],
            "_model_module": "@jupyter-widgets/controls",
            "_model_module_version": "1.5.0",
            "_model_name": "FloatProgressModel",
            "_view_count": null,
            "_view_module": "@jupyter-widgets/controls",
            "_view_module_version": "1.5.0",
            "_view_name": "ProgressView",
            "bar_style": "success",
            "description": "",
            "description_tooltip": null,
            "layout": "IPY_MODEL_34de13f0d9bc4165b2f151742e8828c6",
            "max": 995526,
            "min": 0,
            "orientation": "horizontal",
            "style": "IPY_MODEL_8f0fd2cf681b467ebc8400fdec641c9c",
            "value": 995526
          }
        },
        "cee020d75f464b298d33017118376119": {
          "model_module": "@jupyter-widgets/controls",
          "model_name": "HTMLModel",
          "model_module_version": "1.5.0",
          "state": {
            "_dom_classes": [],
            "_model_module": "@jupyter-widgets/controls",
            "_model_module_version": "1.5.0",
            "_model_name": "HTMLModel",
            "_view_count": null,
            "_view_module": "@jupyter-widgets/controls",
            "_view_module_version": "1.5.0",
            "_view_name": "HTMLView",
            "description": "",
            "description_tooltip": null,
            "layout": "IPY_MODEL_fe6a4e399d94418f8bd77645c2e7302c",
            "placeholder": "​",
            "style": "IPY_MODEL_704944b014af4294bff1222629128067",
            "value": " 996k/996k [00:00&lt;00:00, 1.10MB/s]"
          }
        },
        "55b19a4db9fe4b9cb274771f16ef5cd4": {
          "model_module": "@jupyter-widgets/base",
          "model_name": "LayoutModel",
          "model_module_version": "1.2.0",
          "state": {
            "_model_module": "@jupyter-widgets/base",
            "_model_module_version": "1.2.0",
            "_model_name": "LayoutModel",
            "_view_count": null,
            "_view_module": "@jupyter-widgets/base",
            "_view_module_version": "1.2.0",
            "_view_name": "LayoutView",
            "align_content": null,
            "align_items": null,
            "align_self": null,
            "border": null,
            "bottom": null,
            "display": null,
            "flex": null,
            "flex_flow": null,
            "grid_area": null,
            "grid_auto_columns": null,
            "grid_auto_flow": null,
            "grid_auto_rows": null,
            "grid_column": null,
            "grid_gap": null,
            "grid_row": null,
            "grid_template_areas": null,
            "grid_template_columns": null,
            "grid_template_rows": null,
            "height": null,
            "justify_content": null,
            "justify_items": null,
            "left": null,
            "margin": null,
            "max_height": null,
            "max_width": null,
            "min_height": null,
            "min_width": null,
            "object_fit": null,
            "object_position": null,
            "order": null,
            "overflow": null,
            "overflow_x": null,
            "overflow_y": null,
            "padding": null,
            "right": null,
            "top": null,
            "visibility": null,
            "width": null
          }
        },
        "1083c72c9b5d4330b56084c1485121e8": {
          "model_module": "@jupyter-widgets/base",
          "model_name": "LayoutModel",
          "model_module_version": "1.2.0",
          "state": {
            "_model_module": "@jupyter-widgets/base",
            "_model_module_version": "1.2.0",
            "_model_name": "LayoutModel",
            "_view_count": null,
            "_view_module": "@jupyter-widgets/base",
            "_view_module_version": "1.2.0",
            "_view_name": "LayoutView",
            "align_content": null,
            "align_items": null,
            "align_self": null,
            "border": null,
            "bottom": null,
            "display": null,
            "flex": null,
            "flex_flow": null,
            "grid_area": null,
            "grid_auto_columns": null,
            "grid_auto_flow": null,
            "grid_auto_rows": null,
            "grid_column": null,
            "grid_gap": null,
            "grid_row": null,
            "grid_template_areas": null,
            "grid_template_columns": null,
            "grid_template_rows": null,
            "height": null,
            "justify_content": null,
            "justify_items": null,
            "left": null,
            "margin": null,
            "max_height": null,
            "max_width": null,
            "min_height": null,
            "min_width": null,
            "object_fit": null,
            "object_position": null,
            "order": null,
            "overflow": null,
            "overflow_x": null,
            "overflow_y": null,
            "padding": null,
            "right": null,
            "top": null,
            "visibility": null,
            "width": null
          }
        },
        "3e52e510fdd04140bff580ea9e9f7cd5": {
          "model_module": "@jupyter-widgets/controls",
          "model_name": "DescriptionStyleModel",
          "model_module_version": "1.5.0",
          "state": {
            "_model_module": "@jupyter-widgets/controls",
            "_model_module_version": "1.5.0",
            "_model_name": "DescriptionStyleModel",
            "_view_count": null,
            "_view_module": "@jupyter-widgets/base",
            "_view_module_version": "1.2.0",
            "_view_name": "StyleView",
            "description_width": ""
          }
        },
        "34de13f0d9bc4165b2f151742e8828c6": {
          "model_module": "@jupyter-widgets/base",
          "model_name": "LayoutModel",
          "model_module_version": "1.2.0",
          "state": {
            "_model_module": "@jupyter-widgets/base",
            "_model_module_version": "1.2.0",
            "_model_name": "LayoutModel",
            "_view_count": null,
            "_view_module": "@jupyter-widgets/base",
            "_view_module_version": "1.2.0",
            "_view_name": "LayoutView",
            "align_content": null,
            "align_items": null,
            "align_self": null,
            "border": null,
            "bottom": null,
            "display": null,
            "flex": null,
            "flex_flow": null,
            "grid_area": null,
            "grid_auto_columns": null,
            "grid_auto_flow": null,
            "grid_auto_rows": null,
            "grid_column": null,
            "grid_gap": null,
            "grid_row": null,
            "grid_template_areas": null,
            "grid_template_columns": null,
            "grid_template_rows": null,
            "height": null,
            "justify_content": null,
            "justify_items": null,
            "left": null,
            "margin": null,
            "max_height": null,
            "max_width": null,
            "min_height": null,
            "min_width": null,
            "object_fit": null,
            "object_position": null,
            "order": null,
            "overflow": null,
            "overflow_x": null,
            "overflow_y": null,
            "padding": null,
            "right": null,
            "top": null,
            "visibility": null,
            "width": null
          }
        },
        "8f0fd2cf681b467ebc8400fdec641c9c": {
          "model_module": "@jupyter-widgets/controls",
          "model_name": "ProgressStyleModel",
          "model_module_version": "1.5.0",
          "state": {
            "_model_module": "@jupyter-widgets/controls",
            "_model_module_version": "1.5.0",
            "_model_name": "ProgressStyleModel",
            "_view_count": null,
            "_view_module": "@jupyter-widgets/base",
            "_view_module_version": "1.2.0",
            "_view_name": "StyleView",
            "bar_color": null,
            "description_width": ""
          }
        },
        "fe6a4e399d94418f8bd77645c2e7302c": {
          "model_module": "@jupyter-widgets/base",
          "model_name": "LayoutModel",
          "model_module_version": "1.2.0",
          "state": {
            "_model_module": "@jupyter-widgets/base",
            "_model_module_version": "1.2.0",
            "_model_name": "LayoutModel",
            "_view_count": null,
            "_view_module": "@jupyter-widgets/base",
            "_view_module_version": "1.2.0",
            "_view_name": "LayoutView",
            "align_content": null,
            "align_items": null,
            "align_self": null,
            "border": null,
            "bottom": null,
            "display": null,
            "flex": null,
            "flex_flow": null,
            "grid_area": null,
            "grid_auto_columns": null,
            "grid_auto_flow": null,
            "grid_auto_rows": null,
            "grid_column": null,
            "grid_gap": null,
            "grid_row": null,
            "grid_template_areas": null,
            "grid_template_columns": null,
            "grid_template_rows": null,
            "height": null,
            "justify_content": null,
            "justify_items": null,
            "left": null,
            "margin": null,
            "max_height": null,
            "max_width": null,
            "min_height": null,
            "min_width": null,
            "object_fit": null,
            "object_position": null,
            "order": null,
            "overflow": null,
            "overflow_x": null,
            "overflow_y": null,
            "padding": null,
            "right": null,
            "top": null,
            "visibility": null,
            "width": null
          }
        },
        "704944b014af4294bff1222629128067": {
          "model_module": "@jupyter-widgets/controls",
          "model_name": "DescriptionStyleModel",
          "model_module_version": "1.5.0",
          "state": {
            "_model_module": "@jupyter-widgets/controls",
            "_model_module_version": "1.5.0",
            "_model_name": "DescriptionStyleModel",
            "_view_count": null,
            "_view_module": "@jupyter-widgets/base",
            "_view_module_version": "1.2.0",
            "_view_name": "StyleView",
            "description_width": ""
          }
        },
        "ee7d3026070a45d3af48af4a659c65bc": {
          "model_module": "@jupyter-widgets/controls",
          "model_name": "HBoxModel",
          "model_module_version": "1.5.0",
          "state": {
            "_dom_classes": [],
            "_model_module": "@jupyter-widgets/controls",
            "_model_module_version": "1.5.0",
            "_model_name": "HBoxModel",
            "_view_count": null,
            "_view_module": "@jupyter-widgets/controls",
            "_view_module_version": "1.5.0",
            "_view_name": "HBoxView",
            "box_style": "",
            "children": [
              "IPY_MODEL_cf5e53036da143839f36ef69daf11d9a",
              "IPY_MODEL_c765c38dd6034ac3b521b6ef7108f02e",
              "IPY_MODEL_d59a1d3355294304ad23832601ad35a4"
            ],
            "layout": "IPY_MODEL_97084da5f4014330b86c0045b76b577d"
          }
        },
        "cf5e53036da143839f36ef69daf11d9a": {
          "model_module": "@jupyter-widgets/controls",
          "model_name": "HTMLModel",
          "model_module_version": "1.5.0",
          "state": {
            "_dom_classes": [],
            "_model_module": "@jupyter-widgets/controls",
            "_model_module_version": "1.5.0",
            "_model_name": "HTMLModel",
            "_view_count": null,
            "_view_module": "@jupyter-widgets/controls",
            "_view_module_version": "1.5.0",
            "_view_name": "HTMLView",
            "description": "",
            "description_tooltip": null,
            "layout": "IPY_MODEL_1bfe929e295b47afa987d4772bb270f6",
            "placeholder": "​",
            "style": "IPY_MODEL_0d81087bf05f4c71963723972b5e4a1b",
            "value": "tokenizer.json: 100%"
          }
        },
        "c765c38dd6034ac3b521b6ef7108f02e": {
          "model_module": "@jupyter-widgets/controls",
          "model_name": "FloatProgressModel",
          "model_module_version": "1.5.0",
          "state": {
            "_dom_classes": [],
            "_model_module": "@jupyter-widgets/controls",
            "_model_module_version": "1.5.0",
            "_model_name": "FloatProgressModel",
            "_view_count": null,
            "_view_module": "@jupyter-widgets/controls",
            "_view_module_version": "1.5.0",
            "_view_name": "ProgressView",
            "bar_style": "success",
            "description": "",
            "description_tooltip": null,
            "layout": "IPY_MODEL_7f58be3ad399443fb71db9c4a5e34f23",
            "max": 1961828,
            "min": 0,
            "orientation": "horizontal",
            "style": "IPY_MODEL_ddf3d81a09c544bebb0649db23e59035",
            "value": 1961828
          }
        },
        "d59a1d3355294304ad23832601ad35a4": {
          "model_module": "@jupyter-widgets/controls",
          "model_name": "HTMLModel",
          "model_module_version": "1.5.0",
          "state": {
            "_dom_classes": [],
            "_model_module": "@jupyter-widgets/controls",
            "_model_module_version": "1.5.0",
            "_model_name": "HTMLModel",
            "_view_count": null,
            "_view_module": "@jupyter-widgets/controls",
            "_view_module_version": "1.5.0",
            "_view_name": "HTMLView",
            "description": "",
            "description_tooltip": null,
            "layout": "IPY_MODEL_267af1a5e139427a86c42ab8e14c6f63",
            "placeholder": "​",
            "style": "IPY_MODEL_c3d36f3eaa6d4e9eb889599c078eff25",
            "value": " 1.96M/1.96M [00:00&lt;00:00, 2.13MB/s]"
          }
        },
        "97084da5f4014330b86c0045b76b577d": {
          "model_module": "@jupyter-widgets/base",
          "model_name": "LayoutModel",
          "model_module_version": "1.2.0",
          "state": {
            "_model_module": "@jupyter-widgets/base",
            "_model_module_version": "1.2.0",
            "_model_name": "LayoutModel",
            "_view_count": null,
            "_view_module": "@jupyter-widgets/base",
            "_view_module_version": "1.2.0",
            "_view_name": "LayoutView",
            "align_content": null,
            "align_items": null,
            "align_self": null,
            "border": null,
            "bottom": null,
            "display": null,
            "flex": null,
            "flex_flow": null,
            "grid_area": null,
            "grid_auto_columns": null,
            "grid_auto_flow": null,
            "grid_auto_rows": null,
            "grid_column": null,
            "grid_gap": null,
            "grid_row": null,
            "grid_template_areas": null,
            "grid_template_columns": null,
            "grid_template_rows": null,
            "height": null,
            "justify_content": null,
            "justify_items": null,
            "left": null,
            "margin": null,
            "max_height": null,
            "max_width": null,
            "min_height": null,
            "min_width": null,
            "object_fit": null,
            "object_position": null,
            "order": null,
            "overflow": null,
            "overflow_x": null,
            "overflow_y": null,
            "padding": null,
            "right": null,
            "top": null,
            "visibility": null,
            "width": null
          }
        },
        "1bfe929e295b47afa987d4772bb270f6": {
          "model_module": "@jupyter-widgets/base",
          "model_name": "LayoutModel",
          "model_module_version": "1.2.0",
          "state": {
            "_model_module": "@jupyter-widgets/base",
            "_model_module_version": "1.2.0",
            "_model_name": "LayoutModel",
            "_view_count": null,
            "_view_module": "@jupyter-widgets/base",
            "_view_module_version": "1.2.0",
            "_view_name": "LayoutView",
            "align_content": null,
            "align_items": null,
            "align_self": null,
            "border": null,
            "bottom": null,
            "display": null,
            "flex": null,
            "flex_flow": null,
            "grid_area": null,
            "grid_auto_columns": null,
            "grid_auto_flow": null,
            "grid_auto_rows": null,
            "grid_column": null,
            "grid_gap": null,
            "grid_row": null,
            "grid_template_areas": null,
            "grid_template_columns": null,
            "grid_template_rows": null,
            "height": null,
            "justify_content": null,
            "justify_items": null,
            "left": null,
            "margin": null,
            "max_height": null,
            "max_width": null,
            "min_height": null,
            "min_width": null,
            "object_fit": null,
            "object_position": null,
            "order": null,
            "overflow": null,
            "overflow_x": null,
            "overflow_y": null,
            "padding": null,
            "right": null,
            "top": null,
            "visibility": null,
            "width": null
          }
        },
        "0d81087bf05f4c71963723972b5e4a1b": {
          "model_module": "@jupyter-widgets/controls",
          "model_name": "DescriptionStyleModel",
          "model_module_version": "1.5.0",
          "state": {
            "_model_module": "@jupyter-widgets/controls",
            "_model_module_version": "1.5.0",
            "_model_name": "DescriptionStyleModel",
            "_view_count": null,
            "_view_module": "@jupyter-widgets/base",
            "_view_module_version": "1.2.0",
            "_view_name": "StyleView",
            "description_width": ""
          }
        },
        "7f58be3ad399443fb71db9c4a5e34f23": {
          "model_module": "@jupyter-widgets/base",
          "model_name": "LayoutModel",
          "model_module_version": "1.2.0",
          "state": {
            "_model_module": "@jupyter-widgets/base",
            "_model_module_version": "1.2.0",
            "_model_name": "LayoutModel",
            "_view_count": null,
            "_view_module": "@jupyter-widgets/base",
            "_view_module_version": "1.2.0",
            "_view_name": "LayoutView",
            "align_content": null,
            "align_items": null,
            "align_self": null,
            "border": null,
            "bottom": null,
            "display": null,
            "flex": null,
            "flex_flow": null,
            "grid_area": null,
            "grid_auto_columns": null,
            "grid_auto_flow": null,
            "grid_auto_rows": null,
            "grid_column": null,
            "grid_gap": null,
            "grid_row": null,
            "grid_template_areas": null,
            "grid_template_columns": null,
            "grid_template_rows": null,
            "height": null,
            "justify_content": null,
            "justify_items": null,
            "left": null,
            "margin": null,
            "max_height": null,
            "max_width": null,
            "min_height": null,
            "min_width": null,
            "object_fit": null,
            "object_position": null,
            "order": null,
            "overflow": null,
            "overflow_x": null,
            "overflow_y": null,
            "padding": null,
            "right": null,
            "top": null,
            "visibility": null,
            "width": null
          }
        },
        "ddf3d81a09c544bebb0649db23e59035": {
          "model_module": "@jupyter-widgets/controls",
          "model_name": "ProgressStyleModel",
          "model_module_version": "1.5.0",
          "state": {
            "_model_module": "@jupyter-widgets/controls",
            "_model_module_version": "1.5.0",
            "_model_name": "ProgressStyleModel",
            "_view_count": null,
            "_view_module": "@jupyter-widgets/base",
            "_view_module_version": "1.2.0",
            "_view_name": "StyleView",
            "bar_color": null,
            "description_width": ""
          }
        },
        "267af1a5e139427a86c42ab8e14c6f63": {
          "model_module": "@jupyter-widgets/base",
          "model_name": "LayoutModel",
          "model_module_version": "1.2.0",
          "state": {
            "_model_module": "@jupyter-widgets/base",
            "_model_module_version": "1.2.0",
            "_model_name": "LayoutModel",
            "_view_count": null,
            "_view_module": "@jupyter-widgets/base",
            "_view_module_version": "1.2.0",
            "_view_name": "LayoutView",
            "align_content": null,
            "align_items": null,
            "align_self": null,
            "border": null,
            "bottom": null,
            "display": null,
            "flex": null,
            "flex_flow": null,
            "grid_area": null,
            "grid_auto_columns": null,
            "grid_auto_flow": null,
            "grid_auto_rows": null,
            "grid_column": null,
            "grid_gap": null,
            "grid_row": null,
            "grid_template_areas": null,
            "grid_template_columns": null,
            "grid_template_rows": null,
            "height": null,
            "justify_content": null,
            "justify_items": null,
            "left": null,
            "margin": null,
            "max_height": null,
            "max_width": null,
            "min_height": null,
            "min_width": null,
            "object_fit": null,
            "object_position": null,
            "order": null,
            "overflow": null,
            "overflow_x": null,
            "overflow_y": null,
            "padding": null,
            "right": null,
            "top": null,
            "visibility": null,
            "width": null
          }
        },
        "c3d36f3eaa6d4e9eb889599c078eff25": {
          "model_module": "@jupyter-widgets/controls",
          "model_name": "DescriptionStyleModel",
          "model_module_version": "1.5.0",
          "state": {
            "_model_module": "@jupyter-widgets/controls",
            "_model_module_version": "1.5.0",
            "_model_name": "DescriptionStyleModel",
            "_view_count": null,
            "_view_module": "@jupyter-widgets/base",
            "_view_module_version": "1.2.0",
            "_view_name": "StyleView",
            "description_width": ""
          }
        },
        "8c14adcde2e443d09fbbb9c989bb167e": {
          "model_module": "@jupyter-widgets/controls",
          "model_name": "HBoxModel",
          "model_module_version": "1.5.0",
          "state": {
            "_dom_classes": [],
            "_model_module": "@jupyter-widgets/controls",
            "_model_module_version": "1.5.0",
            "_model_name": "HBoxModel",
            "_view_count": null,
            "_view_module": "@jupyter-widgets/controls",
            "_view_module_version": "1.5.0",
            "_view_name": "HBoxView",
            "box_style": "",
            "children": [
              "IPY_MODEL_e0c7dbb0a1ea49299f62da88b7747f96",
              "IPY_MODEL_1c8661661dc942959fee4eaf3d2c1f20",
              "IPY_MODEL_dc53744986a5443e84bc7aa3fffc083a"
            ],
            "layout": "IPY_MODEL_38a406d253f24b968c77c98ab79a6895"
          }
        },
        "e0c7dbb0a1ea49299f62da88b7747f96": {
          "model_module": "@jupyter-widgets/controls",
          "model_name": "HTMLModel",
          "model_module_version": "1.5.0",
          "state": {
            "_dom_classes": [],
            "_model_module": "@jupyter-widgets/controls",
            "_model_module_version": "1.5.0",
            "_model_name": "HTMLModel",
            "_view_count": null,
            "_view_module": "@jupyter-widgets/controls",
            "_view_module_version": "1.5.0",
            "_view_name": "HTMLView",
            "description": "",
            "description_tooltip": null,
            "layout": "IPY_MODEL_1c6dea7b9bd143068eb76c4a17e79df2",
            "placeholder": "​",
            "style": "IPY_MODEL_4b3ef59920cc47ea896df2a446157af0",
            "value": "config.json: 100%"
          }
        },
        "1c8661661dc942959fee4eaf3d2c1f20": {
          "model_module": "@jupyter-widgets/controls",
          "model_name": "FloatProgressModel",
          "model_module_version": "1.5.0",
          "state": {
            "_dom_classes": [],
            "_model_module": "@jupyter-widgets/controls",
            "_model_module_version": "1.5.0",
            "_model_name": "FloatProgressModel",
            "_view_count": null,
            "_view_module": "@jupyter-widgets/controls",
            "_view_module_version": "1.5.0",
            "_view_name": "ProgressView",
            "bar_style": "success",
            "description": "",
            "description_tooltip": null,
            "layout": "IPY_MODEL_98a4de246145412eb8bea835d97cb0ec",
            "max": 625,
            "min": 0,
            "orientation": "horizontal",
            "style": "IPY_MODEL_719bc696221a4bcf8b1cd06ebee7a37c",
            "value": 625
          }
        },
        "dc53744986a5443e84bc7aa3fffc083a": {
          "model_module": "@jupyter-widgets/controls",
          "model_name": "HTMLModel",
          "model_module_version": "1.5.0",
          "state": {
            "_dom_classes": [],
            "_model_module": "@jupyter-widgets/controls",
            "_model_module_version": "1.5.0",
            "_model_name": "HTMLModel",
            "_view_count": null,
            "_view_module": "@jupyter-widgets/controls",
            "_view_module_version": "1.5.0",
            "_view_name": "HTMLView",
            "description": "",
            "description_tooltip": null,
            "layout": "IPY_MODEL_bf073c8e4dbc4e7d8721e273360c6a2b",
            "placeholder": "​",
            "style": "IPY_MODEL_728f92b6c1d5483dbc51efbc47d12688",
            "value": " 625/625 [00:00&lt;00:00, 29.4kB/s]"
          }
        },
        "38a406d253f24b968c77c98ab79a6895": {
          "model_module": "@jupyter-widgets/base",
          "model_name": "LayoutModel",
          "model_module_version": "1.2.0",
          "state": {
            "_model_module": "@jupyter-widgets/base",
            "_model_module_version": "1.2.0",
            "_model_name": "LayoutModel",
            "_view_count": null,
            "_view_module": "@jupyter-widgets/base",
            "_view_module_version": "1.2.0",
            "_view_name": "LayoutView",
            "align_content": null,
            "align_items": null,
            "align_self": null,
            "border": null,
            "bottom": null,
            "display": null,
            "flex": null,
            "flex_flow": null,
            "grid_area": null,
            "grid_auto_columns": null,
            "grid_auto_flow": null,
            "grid_auto_rows": null,
            "grid_column": null,
            "grid_gap": null,
            "grid_row": null,
            "grid_template_areas": null,
            "grid_template_columns": null,
            "grid_template_rows": null,
            "height": null,
            "justify_content": null,
            "justify_items": null,
            "left": null,
            "margin": null,
            "max_height": null,
            "max_width": null,
            "min_height": null,
            "min_width": null,
            "object_fit": null,
            "object_position": null,
            "order": null,
            "overflow": null,
            "overflow_x": null,
            "overflow_y": null,
            "padding": null,
            "right": null,
            "top": null,
            "visibility": null,
            "width": null
          }
        },
        "1c6dea7b9bd143068eb76c4a17e79df2": {
          "model_module": "@jupyter-widgets/base",
          "model_name": "LayoutModel",
          "model_module_version": "1.2.0",
          "state": {
            "_model_module": "@jupyter-widgets/base",
            "_model_module_version": "1.2.0",
            "_model_name": "LayoutModel",
            "_view_count": null,
            "_view_module": "@jupyter-widgets/base",
            "_view_module_version": "1.2.0",
            "_view_name": "LayoutView",
            "align_content": null,
            "align_items": null,
            "align_self": null,
            "border": null,
            "bottom": null,
            "display": null,
            "flex": null,
            "flex_flow": null,
            "grid_area": null,
            "grid_auto_columns": null,
            "grid_auto_flow": null,
            "grid_auto_rows": null,
            "grid_column": null,
            "grid_gap": null,
            "grid_row": null,
            "grid_template_areas": null,
            "grid_template_columns": null,
            "grid_template_rows": null,
            "height": null,
            "justify_content": null,
            "justify_items": null,
            "left": null,
            "margin": null,
            "max_height": null,
            "max_width": null,
            "min_height": null,
            "min_width": null,
            "object_fit": null,
            "object_position": null,
            "order": null,
            "overflow": null,
            "overflow_x": null,
            "overflow_y": null,
            "padding": null,
            "right": null,
            "top": null,
            "visibility": null,
            "width": null
          }
        },
        "4b3ef59920cc47ea896df2a446157af0": {
          "model_module": "@jupyter-widgets/controls",
          "model_name": "DescriptionStyleModel",
          "model_module_version": "1.5.0",
          "state": {
            "_model_module": "@jupyter-widgets/controls",
            "_model_module_version": "1.5.0",
            "_model_name": "DescriptionStyleModel",
            "_view_count": null,
            "_view_module": "@jupyter-widgets/base",
            "_view_module_version": "1.2.0",
            "_view_name": "StyleView",
            "description_width": ""
          }
        },
        "98a4de246145412eb8bea835d97cb0ec": {
          "model_module": "@jupyter-widgets/base",
          "model_name": "LayoutModel",
          "model_module_version": "1.2.0",
          "state": {
            "_model_module": "@jupyter-widgets/base",
            "_model_module_version": "1.2.0",
            "_model_name": "LayoutModel",
            "_view_count": null,
            "_view_module": "@jupyter-widgets/base",
            "_view_module_version": "1.2.0",
            "_view_name": "LayoutView",
            "align_content": null,
            "align_items": null,
            "align_self": null,
            "border": null,
            "bottom": null,
            "display": null,
            "flex": null,
            "flex_flow": null,
            "grid_area": null,
            "grid_auto_columns": null,
            "grid_auto_flow": null,
            "grid_auto_rows": null,
            "grid_column": null,
            "grid_gap": null,
            "grid_row": null,
            "grid_template_areas": null,
            "grid_template_columns": null,
            "grid_template_rows": null,
            "height": null,
            "justify_content": null,
            "justify_items": null,
            "left": null,
            "margin": null,
            "max_height": null,
            "max_width": null,
            "min_height": null,
            "min_width": null,
            "object_fit": null,
            "object_position": null,
            "order": null,
            "overflow": null,
            "overflow_x": null,
            "overflow_y": null,
            "padding": null,
            "right": null,
            "top": null,
            "visibility": null,
            "width": null
          }
        },
        "719bc696221a4bcf8b1cd06ebee7a37c": {
          "model_module": "@jupyter-widgets/controls",
          "model_name": "ProgressStyleModel",
          "model_module_version": "1.5.0",
          "state": {
            "_model_module": "@jupyter-widgets/controls",
            "_model_module_version": "1.5.0",
            "_model_name": "ProgressStyleModel",
            "_view_count": null,
            "_view_module": "@jupyter-widgets/base",
            "_view_module_version": "1.2.0",
            "_view_name": "StyleView",
            "bar_color": null,
            "description_width": ""
          }
        },
        "bf073c8e4dbc4e7d8721e273360c6a2b": {
          "model_module": "@jupyter-widgets/base",
          "model_name": "LayoutModel",
          "model_module_version": "1.2.0",
          "state": {
            "_model_module": "@jupyter-widgets/base",
            "_model_module_version": "1.2.0",
            "_model_name": "LayoutModel",
            "_view_count": null,
            "_view_module": "@jupyter-widgets/base",
            "_view_module_version": "1.2.0",
            "_view_name": "LayoutView",
            "align_content": null,
            "align_items": null,
            "align_self": null,
            "border": null,
            "bottom": null,
            "display": null,
            "flex": null,
            "flex_flow": null,
            "grid_area": null,
            "grid_auto_columns": null,
            "grid_auto_flow": null,
            "grid_auto_rows": null,
            "grid_column": null,
            "grid_gap": null,
            "grid_row": null,
            "grid_template_areas": null,
            "grid_template_columns": null,
            "grid_template_rows": null,
            "height": null,
            "justify_content": null,
            "justify_items": null,
            "left": null,
            "margin": null,
            "max_height": null,
            "max_width": null,
            "min_height": null,
            "min_width": null,
            "object_fit": null,
            "object_position": null,
            "order": null,
            "overflow": null,
            "overflow_x": null,
            "overflow_y": null,
            "padding": null,
            "right": null,
            "top": null,
            "visibility": null,
            "width": null
          }
        },
        "728f92b6c1d5483dbc51efbc47d12688": {
          "model_module": "@jupyter-widgets/controls",
          "model_name": "DescriptionStyleModel",
          "model_module_version": "1.5.0",
          "state": {
            "_model_module": "@jupyter-widgets/controls",
            "_model_module_version": "1.5.0",
            "_model_name": "DescriptionStyleModel",
            "_view_count": null,
            "_view_module": "@jupyter-widgets/base",
            "_view_module_version": "1.2.0",
            "_view_name": "StyleView",
            "description_width": ""
          }
        },
        "a5e7e1a0396948018fe058a3c0576258": {
          "model_module": "@jupyter-widgets/controls",
          "model_name": "HBoxModel",
          "model_module_version": "1.5.0",
          "state": {
            "_dom_classes": [],
            "_model_module": "@jupyter-widgets/controls",
            "_model_module_version": "1.5.0",
            "_model_name": "HBoxModel",
            "_view_count": null,
            "_view_module": "@jupyter-widgets/controls",
            "_view_module_version": "1.5.0",
            "_view_name": "HBoxView",
            "box_style": "",
            "children": [
              "IPY_MODEL_ef1ff6c41f7343fd85f40c2f4c461244",
              "IPY_MODEL_edd52966c62f42e1ac58256e76f52966",
              "IPY_MODEL_96cef77e962044e1be396ca78b1a835c"
            ],
            "layout": "IPY_MODEL_7cc479a07b4d48cfbb06919306e45077"
          }
        },
        "ef1ff6c41f7343fd85f40c2f4c461244": {
          "model_module": "@jupyter-widgets/controls",
          "model_name": "HTMLModel",
          "model_module_version": "1.5.0",
          "state": {
            "_dom_classes": [],
            "_model_module": "@jupyter-widgets/controls",
            "_model_module_version": "1.5.0",
            "_model_name": "HTMLModel",
            "_view_count": null,
            "_view_module": "@jupyter-widgets/controls",
            "_view_module_version": "1.5.0",
            "_view_name": "HTMLView",
            "description": "",
            "description_tooltip": null,
            "layout": "IPY_MODEL_b63bc5efbf5f48ea89763433c827b6c3",
            "placeholder": "​",
            "style": "IPY_MODEL_b8b41f9be84f4668bd8c344853280969",
            "value": "model.safetensors: 100%"
          }
        },
        "edd52966c62f42e1ac58256e76f52966": {
          "model_module": "@jupyter-widgets/controls",
          "model_name": "FloatProgressModel",
          "model_module_version": "1.5.0",
          "state": {
            "_dom_classes": [],
            "_model_module": "@jupyter-widgets/controls",
            "_model_module_version": "1.5.0",
            "_model_name": "FloatProgressModel",
            "_view_count": null,
            "_view_module": "@jupyter-widgets/controls",
            "_view_module_version": "1.5.0",
            "_view_name": "ProgressView",
            "bar_style": "success",
            "description": "",
            "description_tooltip": null,
            "layout": "IPY_MODEL_39a1f609e30b466ebf2686975e8238c1",
            "max": 714290682,
            "min": 0,
            "orientation": "horizontal",
            "style": "IPY_MODEL_e8d9eb44bc0f4e56b7e6c3b40f25bc34",
            "value": 714290682
          }
        },
        "96cef77e962044e1be396ca78b1a835c": {
          "model_module": "@jupyter-widgets/controls",
          "model_name": "HTMLModel",
          "model_module_version": "1.5.0",
          "state": {
            "_dom_classes": [],
            "_model_module": "@jupyter-widgets/controls",
            "_model_module_version": "1.5.0",
            "_model_name": "HTMLModel",
            "_view_count": null,
            "_view_module": "@jupyter-widgets/controls",
            "_view_module_version": "1.5.0",
            "_view_name": "HTMLView",
            "description": "",
            "description_tooltip": null,
            "layout": "IPY_MODEL_14783d79f7264346a81af3ec428f5f27",
            "placeholder": "​",
            "style": "IPY_MODEL_d40dba860b5349b0adf43c4b37812ae2",
            "value": " 714M/714M [00:05&lt;00:00, 194MB/s]"
          }
        },
        "7cc479a07b4d48cfbb06919306e45077": {
          "model_module": "@jupyter-widgets/base",
          "model_name": "LayoutModel",
          "model_module_version": "1.2.0",
          "state": {
            "_model_module": "@jupyter-widgets/base",
            "_model_module_version": "1.2.0",
            "_model_name": "LayoutModel",
            "_view_count": null,
            "_view_module": "@jupyter-widgets/base",
            "_view_module_version": "1.2.0",
            "_view_name": "LayoutView",
            "align_content": null,
            "align_items": null,
            "align_self": null,
            "border": null,
            "bottom": null,
            "display": null,
            "flex": null,
            "flex_flow": null,
            "grid_area": null,
            "grid_auto_columns": null,
            "grid_auto_flow": null,
            "grid_auto_rows": null,
            "grid_column": null,
            "grid_gap": null,
            "grid_row": null,
            "grid_template_areas": null,
            "grid_template_columns": null,
            "grid_template_rows": null,
            "height": null,
            "justify_content": null,
            "justify_items": null,
            "left": null,
            "margin": null,
            "max_height": null,
            "max_width": null,
            "min_height": null,
            "min_width": null,
            "object_fit": null,
            "object_position": null,
            "order": null,
            "overflow": null,
            "overflow_x": null,
            "overflow_y": null,
            "padding": null,
            "right": null,
            "top": null,
            "visibility": null,
            "width": null
          }
        },
        "b63bc5efbf5f48ea89763433c827b6c3": {
          "model_module": "@jupyter-widgets/base",
          "model_name": "LayoutModel",
          "model_module_version": "1.2.0",
          "state": {
            "_model_module": "@jupyter-widgets/base",
            "_model_module_version": "1.2.0",
            "_model_name": "LayoutModel",
            "_view_count": null,
            "_view_module": "@jupyter-widgets/base",
            "_view_module_version": "1.2.0",
            "_view_name": "LayoutView",
            "align_content": null,
            "align_items": null,
            "align_self": null,
            "border": null,
            "bottom": null,
            "display": null,
            "flex": null,
            "flex_flow": null,
            "grid_area": null,
            "grid_auto_columns": null,
            "grid_auto_flow": null,
            "grid_auto_rows": null,
            "grid_column": null,
            "grid_gap": null,
            "grid_row": null,
            "grid_template_areas": null,
            "grid_template_columns": null,
            "grid_template_rows": null,
            "height": null,
            "justify_content": null,
            "justify_items": null,
            "left": null,
            "margin": null,
            "max_height": null,
            "max_width": null,
            "min_height": null,
            "min_width": null,
            "object_fit": null,
            "object_position": null,
            "order": null,
            "overflow": null,
            "overflow_x": null,
            "overflow_y": null,
            "padding": null,
            "right": null,
            "top": null,
            "visibility": null,
            "width": null
          }
        },
        "b8b41f9be84f4668bd8c344853280969": {
          "model_module": "@jupyter-widgets/controls",
          "model_name": "DescriptionStyleModel",
          "model_module_version": "1.5.0",
          "state": {
            "_model_module": "@jupyter-widgets/controls",
            "_model_module_version": "1.5.0",
            "_model_name": "DescriptionStyleModel",
            "_view_count": null,
            "_view_module": "@jupyter-widgets/base",
            "_view_module_version": "1.2.0",
            "_view_name": "StyleView",
            "description_width": ""
          }
        },
        "39a1f609e30b466ebf2686975e8238c1": {
          "model_module": "@jupyter-widgets/base",
          "model_name": "LayoutModel",
          "model_module_version": "1.2.0",
          "state": {
            "_model_module": "@jupyter-widgets/base",
            "_model_module_version": "1.2.0",
            "_model_name": "LayoutModel",
            "_view_count": null,
            "_view_module": "@jupyter-widgets/base",
            "_view_module_version": "1.2.0",
            "_view_name": "LayoutView",
            "align_content": null,
            "align_items": null,
            "align_self": null,
            "border": null,
            "bottom": null,
            "display": null,
            "flex": null,
            "flex_flow": null,
            "grid_area": null,
            "grid_auto_columns": null,
            "grid_auto_flow": null,
            "grid_auto_rows": null,
            "grid_column": null,
            "grid_gap": null,
            "grid_row": null,
            "grid_template_areas": null,
            "grid_template_columns": null,
            "grid_template_rows": null,
            "height": null,
            "justify_content": null,
            "justify_items": null,
            "left": null,
            "margin": null,
            "max_height": null,
            "max_width": null,
            "min_height": null,
            "min_width": null,
            "object_fit": null,
            "object_position": null,
            "order": null,
            "overflow": null,
            "overflow_x": null,
            "overflow_y": null,
            "padding": null,
            "right": null,
            "top": null,
            "visibility": null,
            "width": null
          }
        },
        "e8d9eb44bc0f4e56b7e6c3b40f25bc34": {
          "model_module": "@jupyter-widgets/controls",
          "model_name": "ProgressStyleModel",
          "model_module_version": "1.5.0",
          "state": {
            "_model_module": "@jupyter-widgets/controls",
            "_model_module_version": "1.5.0",
            "_model_name": "ProgressStyleModel",
            "_view_count": null,
            "_view_module": "@jupyter-widgets/base",
            "_view_module_version": "1.2.0",
            "_view_name": "StyleView",
            "bar_color": null,
            "description_width": ""
          }
        },
        "14783d79f7264346a81af3ec428f5f27": {
          "model_module": "@jupyter-widgets/base",
          "model_name": "LayoutModel",
          "model_module_version": "1.2.0",
          "state": {
            "_model_module": "@jupyter-widgets/base",
            "_model_module_version": "1.2.0",
            "_model_name": "LayoutModel",
            "_view_count": null,
            "_view_module": "@jupyter-widgets/base",
            "_view_module_version": "1.2.0",
            "_view_name": "LayoutView",
            "align_content": null,
            "align_items": null,
            "align_self": null,
            "border": null,
            "bottom": null,
            "display": null,
            "flex": null,
            "flex_flow": null,
            "grid_area": null,
            "grid_auto_columns": null,
            "grid_auto_flow": null,
            "grid_auto_rows": null,
            "grid_column": null,
            "grid_gap": null,
            "grid_row": null,
            "grid_template_areas": null,
            "grid_template_columns": null,
            "grid_template_rows": null,
            "height": null,
            "justify_content": null,
            "justify_items": null,
            "left": null,
            "margin": null,
            "max_height": null,
            "max_width": null,
            "min_height": null,
            "min_width": null,
            "object_fit": null,
            "object_position": null,
            "order": null,
            "overflow": null,
            "overflow_x": null,
            "overflow_y": null,
            "padding": null,
            "right": null,
            "top": null,
            "visibility": null,
            "width": null
          }
        },
        "d40dba860b5349b0adf43c4b37812ae2": {
          "model_module": "@jupyter-widgets/controls",
          "model_name": "DescriptionStyleModel",
          "model_module_version": "1.5.0",
          "state": {
            "_model_module": "@jupyter-widgets/controls",
            "_model_module_version": "1.5.0",
            "_model_name": "DescriptionStyleModel",
            "_view_count": null,
            "_view_module": "@jupyter-widgets/base",
            "_view_module_version": "1.2.0",
            "_view_name": "StyleView",
            "description_width": ""
          }
        },
        "594d8301d56b432fb3a898dc9614e347": {
          "model_module": "@jupyter-widgets/controls",
          "model_name": "HBoxModel",
          "model_module_version": "1.5.0",
          "state": {
            "_dom_classes": [],
            "_model_module": "@jupyter-widgets/controls",
            "_model_module_version": "1.5.0",
            "_model_name": "HBoxModel",
            "_view_count": null,
            "_view_module": "@jupyter-widgets/controls",
            "_view_module_version": "1.5.0",
            "_view_name": "HBoxView",
            "box_style": "",
            "children": [
              "IPY_MODEL_590def41cdfd40a1b3d01ba1b18df65f",
              "IPY_MODEL_5935de6afa30437ba629721282544bdc",
              "IPY_MODEL_97e8c4fb8cdc4a4498c078ecbf37c98a"
            ],
            "layout": "IPY_MODEL_2d453c850a064415bff3029094b9a823"
          }
        },
        "590def41cdfd40a1b3d01ba1b18df65f": {
          "model_module": "@jupyter-widgets/controls",
          "model_name": "HTMLModel",
          "model_module_version": "1.5.0",
          "state": {
            "_dom_classes": [],
            "_model_module": "@jupyter-widgets/controls",
            "_model_module_version": "1.5.0",
            "_model_name": "HTMLModel",
            "_view_count": null,
            "_view_module": "@jupyter-widgets/controls",
            "_view_module_version": "1.5.0",
            "_view_name": "HTMLView",
            "description": "",
            "description_tooltip": null,
            "layout": "IPY_MODEL_46a7fdf3f47f469c87528c32a17dc534",
            "placeholder": "​",
            "style": "IPY_MODEL_884c86009e6d4f989ec597d702150b0e",
            "value": "config.json: 100%"
          }
        },
        "5935de6afa30437ba629721282544bdc": {
          "model_module": "@jupyter-widgets/controls",
          "model_name": "FloatProgressModel",
          "model_module_version": "1.5.0",
          "state": {
            "_dom_classes": [],
            "_model_module": "@jupyter-widgets/controls",
            "_model_module_version": "1.5.0",
            "_model_name": "FloatProgressModel",
            "_view_count": null,
            "_view_module": "@jupyter-widgets/controls",
            "_view_module_version": "1.5.0",
            "_view_name": "ProgressView",
            "bar_style": "success",
            "description": "",
            "description_tooltip": null,
            "layout": "IPY_MODEL_b56074a5d9984cf89d372e2af2e7028a",
            "max": 557,
            "min": 0,
            "orientation": "horizontal",
            "style": "IPY_MODEL_9bcb48762cb04faab88fdfd59e7ee1dd",
            "value": 557
          }
        },
        "97e8c4fb8cdc4a4498c078ecbf37c98a": {
          "model_module": "@jupyter-widgets/controls",
          "model_name": "HTMLModel",
          "model_module_version": "1.5.0",
          "state": {
            "_dom_classes": [],
            "_model_module": "@jupyter-widgets/controls",
            "_model_module_version": "1.5.0",
            "_model_name": "HTMLModel",
            "_view_count": null,
            "_view_module": "@jupyter-widgets/controls",
            "_view_module_version": "1.5.0",
            "_view_name": "HTMLView",
            "description": "",
            "description_tooltip": null,
            "layout": "IPY_MODEL_3d19a33429f8429b8d6c0442bbf0855e",
            "placeholder": "​",
            "style": "IPY_MODEL_91281456a63640938be8c630ee41310b",
            "value": " 557/557 [00:00&lt;00:00, 26.6kB/s]"
          }
        },
        "2d453c850a064415bff3029094b9a823": {
          "model_module": "@jupyter-widgets/base",
          "model_name": "LayoutModel",
          "model_module_version": "1.2.0",
          "state": {
            "_model_module": "@jupyter-widgets/base",
            "_model_module_version": "1.2.0",
            "_model_name": "LayoutModel",
            "_view_count": null,
            "_view_module": "@jupyter-widgets/base",
            "_view_module_version": "1.2.0",
            "_view_name": "LayoutView",
            "align_content": null,
            "align_items": null,
            "align_self": null,
            "border": null,
            "bottom": null,
            "display": null,
            "flex": null,
            "flex_flow": null,
            "grid_area": null,
            "grid_auto_columns": null,
            "grid_auto_flow": null,
            "grid_auto_rows": null,
            "grid_column": null,
            "grid_gap": null,
            "grid_row": null,
            "grid_template_areas": null,
            "grid_template_columns": null,
            "grid_template_rows": null,
            "height": null,
            "justify_content": null,
            "justify_items": null,
            "left": null,
            "margin": null,
            "max_height": null,
            "max_width": null,
            "min_height": null,
            "min_width": null,
            "object_fit": null,
            "object_position": null,
            "order": null,
            "overflow": null,
            "overflow_x": null,
            "overflow_y": null,
            "padding": null,
            "right": null,
            "top": null,
            "visibility": null,
            "width": null
          }
        },
        "46a7fdf3f47f469c87528c32a17dc534": {
          "model_module": "@jupyter-widgets/base",
          "model_name": "LayoutModel",
          "model_module_version": "1.2.0",
          "state": {
            "_model_module": "@jupyter-widgets/base",
            "_model_module_version": "1.2.0",
            "_model_name": "LayoutModel",
            "_view_count": null,
            "_view_module": "@jupyter-widgets/base",
            "_view_module_version": "1.2.0",
            "_view_name": "LayoutView",
            "align_content": null,
            "align_items": null,
            "align_self": null,
            "border": null,
            "bottom": null,
            "display": null,
            "flex": null,
            "flex_flow": null,
            "grid_area": null,
            "grid_auto_columns": null,
            "grid_auto_flow": null,
            "grid_auto_rows": null,
            "grid_column": null,
            "grid_gap": null,
            "grid_row": null,
            "grid_template_areas": null,
            "grid_template_columns": null,
            "grid_template_rows": null,
            "height": null,
            "justify_content": null,
            "justify_items": null,
            "left": null,
            "margin": null,
            "max_height": null,
            "max_width": null,
            "min_height": null,
            "min_width": null,
            "object_fit": null,
            "object_position": null,
            "order": null,
            "overflow": null,
            "overflow_x": null,
            "overflow_y": null,
            "padding": null,
            "right": null,
            "top": null,
            "visibility": null,
            "width": null
          }
        },
        "884c86009e6d4f989ec597d702150b0e": {
          "model_module": "@jupyter-widgets/controls",
          "model_name": "DescriptionStyleModel",
          "model_module_version": "1.5.0",
          "state": {
            "_model_module": "@jupyter-widgets/controls",
            "_model_module_version": "1.5.0",
            "_model_name": "DescriptionStyleModel",
            "_view_count": null,
            "_view_module": "@jupyter-widgets/base",
            "_view_module_version": "1.2.0",
            "_view_name": "StyleView",
            "description_width": ""
          }
        },
        "b56074a5d9984cf89d372e2af2e7028a": {
          "model_module": "@jupyter-widgets/base",
          "model_name": "LayoutModel",
          "model_module_version": "1.2.0",
          "state": {
            "_model_module": "@jupyter-widgets/base",
            "_model_module_version": "1.2.0",
            "_model_name": "LayoutModel",
            "_view_count": null,
            "_view_module": "@jupyter-widgets/base",
            "_view_module_version": "1.2.0",
            "_view_name": "LayoutView",
            "align_content": null,
            "align_items": null,
            "align_self": null,
            "border": null,
            "bottom": null,
            "display": null,
            "flex": null,
            "flex_flow": null,
            "grid_area": null,
            "grid_auto_columns": null,
            "grid_auto_flow": null,
            "grid_auto_rows": null,
            "grid_column": null,
            "grid_gap": null,
            "grid_row": null,
            "grid_template_areas": null,
            "grid_template_columns": null,
            "grid_template_rows": null,
            "height": null,
            "justify_content": null,
            "justify_items": null,
            "left": null,
            "margin": null,
            "max_height": null,
            "max_width": null,
            "min_height": null,
            "min_width": null,
            "object_fit": null,
            "object_position": null,
            "order": null,
            "overflow": null,
            "overflow_x": null,
            "overflow_y": null,
            "padding": null,
            "right": null,
            "top": null,
            "visibility": null,
            "width": null
          }
        },
        "9bcb48762cb04faab88fdfd59e7ee1dd": {
          "model_module": "@jupyter-widgets/controls",
          "model_name": "ProgressStyleModel",
          "model_module_version": "1.5.0",
          "state": {
            "_model_module": "@jupyter-widgets/controls",
            "_model_module_version": "1.5.0",
            "_model_name": "ProgressStyleModel",
            "_view_count": null,
            "_view_module": "@jupyter-widgets/base",
            "_view_module_version": "1.2.0",
            "_view_name": "StyleView",
            "bar_color": null,
            "description_width": ""
          }
        },
        "3d19a33429f8429b8d6c0442bbf0855e": {
          "model_module": "@jupyter-widgets/base",
          "model_name": "LayoutModel",
          "model_module_version": "1.2.0",
          "state": {
            "_model_module": "@jupyter-widgets/base",
            "_model_module_version": "1.2.0",
            "_model_name": "LayoutModel",
            "_view_count": null,
            "_view_module": "@jupyter-widgets/base",
            "_view_module_version": "1.2.0",
            "_view_name": "LayoutView",
            "align_content": null,
            "align_items": null,
            "align_self": null,
            "border": null,
            "bottom": null,
            "display": null,
            "flex": null,
            "flex_flow": null,
            "grid_area": null,
            "grid_auto_columns": null,
            "grid_auto_flow": null,
            "grid_auto_rows": null,
            "grid_column": null,
            "grid_gap": null,
            "grid_row": null,
            "grid_template_areas": null,
            "grid_template_columns": null,
            "grid_template_rows": null,
            "height": null,
            "justify_content": null,
            "justify_items": null,
            "left": null,
            "margin": null,
            "max_height": null,
            "max_width": null,
            "min_height": null,
            "min_width": null,
            "object_fit": null,
            "object_position": null,
            "order": null,
            "overflow": null,
            "overflow_x": null,
            "overflow_y": null,
            "padding": null,
            "right": null,
            "top": null,
            "visibility": null,
            "width": null
          }
        },
        "91281456a63640938be8c630ee41310b": {
          "model_module": "@jupyter-widgets/controls",
          "model_name": "DescriptionStyleModel",
          "model_module_version": "1.5.0",
          "state": {
            "_model_module": "@jupyter-widgets/controls",
            "_model_module_version": "1.5.0",
            "_model_name": "DescriptionStyleModel",
            "_view_count": null,
            "_view_module": "@jupyter-widgets/base",
            "_view_module_version": "1.2.0",
            "_view_name": "StyleView",
            "description_width": ""
          }
        },
        "1d30bb73809047718890c207731d063a": {
          "model_module": "@jupyter-widgets/controls",
          "model_name": "HBoxModel",
          "model_module_version": "1.5.0",
          "state": {
            "_dom_classes": [],
            "_model_module": "@jupyter-widgets/controls",
            "_model_module_version": "1.5.0",
            "_model_name": "HBoxModel",
            "_view_count": null,
            "_view_module": "@jupyter-widgets/controls",
            "_view_module_version": "1.5.0",
            "_view_name": "HBoxView",
            "box_style": "",
            "children": [
              "IPY_MODEL_ddb9b4fc8ad74e9dad5a066cfff25efa",
              "IPY_MODEL_4a623242822c4243b8b072a27d2e9daa",
              "IPY_MODEL_bb1f0a67c8734ce49f27f1b137bccf35"
            ],
            "layout": "IPY_MODEL_bead73d7fb62483fb7343588546094c2"
          }
        },
        "ddb9b4fc8ad74e9dad5a066cfff25efa": {
          "model_module": "@jupyter-widgets/controls",
          "model_name": "HTMLModel",
          "model_module_version": "1.5.0",
          "state": {
            "_dom_classes": [],
            "_model_module": "@jupyter-widgets/controls",
            "_model_module_version": "1.5.0",
            "_model_name": "HTMLModel",
            "_view_count": null,
            "_view_module": "@jupyter-widgets/controls",
            "_view_module_version": "1.5.0",
            "_view_name": "HTMLView",
            "description": "",
            "description_tooltip": null,
            "layout": "IPY_MODEL_9268a8ba63b846309a75364f2e4a384d",
            "placeholder": "​",
            "style": "IPY_MODEL_490a40a1aa004ea89aaeefe34a38d431",
            "value": "vocab.txt: 100%"
          }
        },
        "4a623242822c4243b8b072a27d2e9daa": {
          "model_module": "@jupyter-widgets/controls",
          "model_name": "FloatProgressModel",
          "model_module_version": "1.5.0",
          "state": {
            "_dom_classes": [],
            "_model_module": "@jupyter-widgets/controls",
            "_model_module_version": "1.5.0",
            "_model_name": "FloatProgressModel",
            "_view_count": null,
            "_view_module": "@jupyter-widgets/controls",
            "_view_module_version": "1.5.0",
            "_view_name": "ProgressView",
            "bar_style": "success",
            "description": "",
            "description_tooltip": null,
            "layout": "IPY_MODEL_8adaa0204cdd41609e28635c89e28d35",
            "max": 895321,
            "min": 0,
            "orientation": "horizontal",
            "style": "IPY_MODEL_d851450ca2464a8d994c390691f4a590",
            "value": 895321
          }
        },
        "bb1f0a67c8734ce49f27f1b137bccf35": {
          "model_module": "@jupyter-widgets/controls",
          "model_name": "HTMLModel",
          "model_module_version": "1.5.0",
          "state": {
            "_dom_classes": [],
            "_model_module": "@jupyter-widgets/controls",
            "_model_module_version": "1.5.0",
            "_model_name": "HTMLModel",
            "_view_count": null,
            "_view_module": "@jupyter-widgets/controls",
            "_view_module_version": "1.5.0",
            "_view_name": "HTMLView",
            "description": "",
            "description_tooltip": null,
            "layout": "IPY_MODEL_bd4bbb383f7c4333a2069f17b48ebdd2",
            "placeholder": "​",
            "style": "IPY_MODEL_452ba55aca344ba9a6c641222ac90904",
            "value": " 895k/895k [00:01&lt;00:00, 786kB/s]"
          }
        },
        "bead73d7fb62483fb7343588546094c2": {
          "model_module": "@jupyter-widgets/base",
          "model_name": "LayoutModel",
          "model_module_version": "1.2.0",
          "state": {
            "_model_module": "@jupyter-widgets/base",
            "_model_module_version": "1.2.0",
            "_model_name": "LayoutModel",
            "_view_count": null,
            "_view_module": "@jupyter-widgets/base",
            "_view_module_version": "1.2.0",
            "_view_name": "LayoutView",
            "align_content": null,
            "align_items": null,
            "align_self": null,
            "border": null,
            "bottom": null,
            "display": null,
            "flex": null,
            "flex_flow": null,
            "grid_area": null,
            "grid_auto_columns": null,
            "grid_auto_flow": null,
            "grid_auto_rows": null,
            "grid_column": null,
            "grid_gap": null,
            "grid_row": null,
            "grid_template_areas": null,
            "grid_template_columns": null,
            "grid_template_rows": null,
            "height": null,
            "justify_content": null,
            "justify_items": null,
            "left": null,
            "margin": null,
            "max_height": null,
            "max_width": null,
            "min_height": null,
            "min_width": null,
            "object_fit": null,
            "object_position": null,
            "order": null,
            "overflow": null,
            "overflow_x": null,
            "overflow_y": null,
            "padding": null,
            "right": null,
            "top": null,
            "visibility": null,
            "width": null
          }
        },
        "9268a8ba63b846309a75364f2e4a384d": {
          "model_module": "@jupyter-widgets/base",
          "model_name": "LayoutModel",
          "model_module_version": "1.2.0",
          "state": {
            "_model_module": "@jupyter-widgets/base",
            "_model_module_version": "1.2.0",
            "_model_name": "LayoutModel",
            "_view_count": null,
            "_view_module": "@jupyter-widgets/base",
            "_view_module_version": "1.2.0",
            "_view_name": "LayoutView",
            "align_content": null,
            "align_items": null,
            "align_self": null,
            "border": null,
            "bottom": null,
            "display": null,
            "flex": null,
            "flex_flow": null,
            "grid_area": null,
            "grid_auto_columns": null,
            "grid_auto_flow": null,
            "grid_auto_rows": null,
            "grid_column": null,
            "grid_gap": null,
            "grid_row": null,
            "grid_template_areas": null,
            "grid_template_columns": null,
            "grid_template_rows": null,
            "height": null,
            "justify_content": null,
            "justify_items": null,
            "left": null,
            "margin": null,
            "max_height": null,
            "max_width": null,
            "min_height": null,
            "min_width": null,
            "object_fit": null,
            "object_position": null,
            "order": null,
            "overflow": null,
            "overflow_x": null,
            "overflow_y": null,
            "padding": null,
            "right": null,
            "top": null,
            "visibility": null,
            "width": null
          }
        },
        "490a40a1aa004ea89aaeefe34a38d431": {
          "model_module": "@jupyter-widgets/controls",
          "model_name": "DescriptionStyleModel",
          "model_module_version": "1.5.0",
          "state": {
            "_model_module": "@jupyter-widgets/controls",
            "_model_module_version": "1.5.0",
            "_model_name": "DescriptionStyleModel",
            "_view_count": null,
            "_view_module": "@jupyter-widgets/base",
            "_view_module_version": "1.2.0",
            "_view_name": "StyleView",
            "description_width": ""
          }
        },
        "8adaa0204cdd41609e28635c89e28d35": {
          "model_module": "@jupyter-widgets/base",
          "model_name": "LayoutModel",
          "model_module_version": "1.2.0",
          "state": {
            "_model_module": "@jupyter-widgets/base",
            "_model_module_version": "1.2.0",
            "_model_name": "LayoutModel",
            "_view_count": null,
            "_view_module": "@jupyter-widgets/base",
            "_view_module_version": "1.2.0",
            "_view_name": "LayoutView",
            "align_content": null,
            "align_items": null,
            "align_self": null,
            "border": null,
            "bottom": null,
            "display": null,
            "flex": null,
            "flex_flow": null,
            "grid_area": null,
            "grid_auto_columns": null,
            "grid_auto_flow": null,
            "grid_auto_rows": null,
            "grid_column": null,
            "grid_gap": null,
            "grid_row": null,
            "grid_template_areas": null,
            "grid_template_columns": null,
            "grid_template_rows": null,
            "height": null,
            "justify_content": null,
            "justify_items": null,
            "left": null,
            "margin": null,
            "max_height": null,
            "max_width": null,
            "min_height": null,
            "min_width": null,
            "object_fit": null,
            "object_position": null,
            "order": null,
            "overflow": null,
            "overflow_x": null,
            "overflow_y": null,
            "padding": null,
            "right": null,
            "top": null,
            "visibility": null,
            "width": null
          }
        },
        "d851450ca2464a8d994c390691f4a590": {
          "model_module": "@jupyter-widgets/controls",
          "model_name": "ProgressStyleModel",
          "model_module_version": "1.5.0",
          "state": {
            "_model_module": "@jupyter-widgets/controls",
            "_model_module_version": "1.5.0",
            "_model_name": "ProgressStyleModel",
            "_view_count": null,
            "_view_module": "@jupyter-widgets/base",
            "_view_module_version": "1.2.0",
            "_view_name": "StyleView",
            "bar_color": null,
            "description_width": ""
          }
        },
        "bd4bbb383f7c4333a2069f17b48ebdd2": {
          "model_module": "@jupyter-widgets/base",
          "model_name": "LayoutModel",
          "model_module_version": "1.2.0",
          "state": {
            "_model_module": "@jupyter-widgets/base",
            "_model_module_version": "1.2.0",
            "_model_name": "LayoutModel",
            "_view_count": null,
            "_view_module": "@jupyter-widgets/base",
            "_view_module_version": "1.2.0",
            "_view_name": "LayoutView",
            "align_content": null,
            "align_items": null,
            "align_self": null,
            "border": null,
            "bottom": null,
            "display": null,
            "flex": null,
            "flex_flow": null,
            "grid_area": null,
            "grid_auto_columns": null,
            "grid_auto_flow": null,
            "grid_auto_rows": null,
            "grid_column": null,
            "grid_gap": null,
            "grid_row": null,
            "grid_template_areas": null,
            "grid_template_columns": null,
            "grid_template_rows": null,
            "height": null,
            "justify_content": null,
            "justify_items": null,
            "left": null,
            "margin": null,
            "max_height": null,
            "max_width": null,
            "min_height": null,
            "min_width": null,
            "object_fit": null,
            "object_position": null,
            "order": null,
            "overflow": null,
            "overflow_x": null,
            "overflow_y": null,
            "padding": null,
            "right": null,
            "top": null,
            "visibility": null,
            "width": null
          }
        },
        "452ba55aca344ba9a6c641222ac90904": {
          "model_module": "@jupyter-widgets/controls",
          "model_name": "DescriptionStyleModel",
          "model_module_version": "1.5.0",
          "state": {
            "_model_module": "@jupyter-widgets/controls",
            "_model_module_version": "1.5.0",
            "_model_name": "DescriptionStyleModel",
            "_view_count": null,
            "_view_module": "@jupyter-widgets/base",
            "_view_module_version": "1.2.0",
            "_view_name": "StyleView",
            "description_width": ""
          }
        },
        "7a0aa67f7e5041c4a8cc84783ad96e1b": {
          "model_module": "@jupyter-widgets/controls",
          "model_name": "HBoxModel",
          "model_module_version": "1.5.0",
          "state": {
            "_dom_classes": [],
            "_model_module": "@jupyter-widgets/controls",
            "_model_module_version": "1.5.0",
            "_model_name": "HBoxModel",
            "_view_count": null,
            "_view_module": "@jupyter-widgets/controls",
            "_view_module_version": "1.5.0",
            "_view_name": "HBoxView",
            "box_style": "",
            "children": [
              "IPY_MODEL_fa1c0444127c4160a4a8aea6503e3ee8",
              "IPY_MODEL_6cdd63d798d741eead4645363be9e638",
              "IPY_MODEL_98f2afccc3954219a1b276bb591fd813"
            ],
            "layout": "IPY_MODEL_5668b665e0b641cabbee3cd422786418"
          }
        },
        "fa1c0444127c4160a4a8aea6503e3ee8": {
          "model_module": "@jupyter-widgets/controls",
          "model_name": "HTMLModel",
          "model_module_version": "1.5.0",
          "state": {
            "_dom_classes": [],
            "_model_module": "@jupyter-widgets/controls",
            "_model_module_version": "1.5.0",
            "_model_name": "HTMLModel",
            "_view_count": null,
            "_view_module": "@jupyter-widgets/controls",
            "_view_module_version": "1.5.0",
            "_view_name": "HTMLView",
            "description": "",
            "description_tooltip": null,
            "layout": "IPY_MODEL_8c42f40e77c34d2c833149f81cb4b4e7",
            "placeholder": "​",
            "style": "IPY_MODEL_77107628bc604f5489c1c7fcab6c11a8",
            "value": "bpe.codes: 100%"
          }
        },
        "6cdd63d798d741eead4645363be9e638": {
          "model_module": "@jupyter-widgets/controls",
          "model_name": "FloatProgressModel",
          "model_module_version": "1.5.0",
          "state": {
            "_dom_classes": [],
            "_model_module": "@jupyter-widgets/controls",
            "_model_module_version": "1.5.0",
            "_model_name": "FloatProgressModel",
            "_view_count": null,
            "_view_module": "@jupyter-widgets/controls",
            "_view_module_version": "1.5.0",
            "_view_name": "ProgressView",
            "bar_style": "success",
            "description": "",
            "description_tooltip": null,
            "layout": "IPY_MODEL_a0b043af353b40e9a82b8f4fa21cfd8b",
            "max": 1135173,
            "min": 0,
            "orientation": "horizontal",
            "style": "IPY_MODEL_109462046f3b4baab0dd2d482e1370e2",
            "value": 1135173
          }
        },
        "98f2afccc3954219a1b276bb591fd813": {
          "model_module": "@jupyter-widgets/controls",
          "model_name": "HTMLModel",
          "model_module_version": "1.5.0",
          "state": {
            "_dom_classes": [],
            "_model_module": "@jupyter-widgets/controls",
            "_model_module_version": "1.5.0",
            "_model_name": "HTMLModel",
            "_view_count": null,
            "_view_module": "@jupyter-widgets/controls",
            "_view_module_version": "1.5.0",
            "_view_name": "HTMLView",
            "description": "",
            "description_tooltip": null,
            "layout": "IPY_MODEL_f7c3a9053a994820878ca60d78c7350f",
            "placeholder": "​",
            "style": "IPY_MODEL_70394ba484a449a09964f0e149f44c2d",
            "value": " 1.14M/1.14M [00:00&lt;00:00, 1.35MB/s]"
          }
        },
        "5668b665e0b641cabbee3cd422786418": {
          "model_module": "@jupyter-widgets/base",
          "model_name": "LayoutModel",
          "model_module_version": "1.2.0",
          "state": {
            "_model_module": "@jupyter-widgets/base",
            "_model_module_version": "1.2.0",
            "_model_name": "LayoutModel",
            "_view_count": null,
            "_view_module": "@jupyter-widgets/base",
            "_view_module_version": "1.2.0",
            "_view_name": "LayoutView",
            "align_content": null,
            "align_items": null,
            "align_self": null,
            "border": null,
            "bottom": null,
            "display": null,
            "flex": null,
            "flex_flow": null,
            "grid_area": null,
            "grid_auto_columns": null,
            "grid_auto_flow": null,
            "grid_auto_rows": null,
            "grid_column": null,
            "grid_gap": null,
            "grid_row": null,
            "grid_template_areas": null,
            "grid_template_columns": null,
            "grid_template_rows": null,
            "height": null,
            "justify_content": null,
            "justify_items": null,
            "left": null,
            "margin": null,
            "max_height": null,
            "max_width": null,
            "min_height": null,
            "min_width": null,
            "object_fit": null,
            "object_position": null,
            "order": null,
            "overflow": null,
            "overflow_x": null,
            "overflow_y": null,
            "padding": null,
            "right": null,
            "top": null,
            "visibility": null,
            "width": null
          }
        },
        "8c42f40e77c34d2c833149f81cb4b4e7": {
          "model_module": "@jupyter-widgets/base",
          "model_name": "LayoutModel",
          "model_module_version": "1.2.0",
          "state": {
            "_model_module": "@jupyter-widgets/base",
            "_model_module_version": "1.2.0",
            "_model_name": "LayoutModel",
            "_view_count": null,
            "_view_module": "@jupyter-widgets/base",
            "_view_module_version": "1.2.0",
            "_view_name": "LayoutView",
            "align_content": null,
            "align_items": null,
            "align_self": null,
            "border": null,
            "bottom": null,
            "display": null,
            "flex": null,
            "flex_flow": null,
            "grid_area": null,
            "grid_auto_columns": null,
            "grid_auto_flow": null,
            "grid_auto_rows": null,
            "grid_column": null,
            "grid_gap": null,
            "grid_row": null,
            "grid_template_areas": null,
            "grid_template_columns": null,
            "grid_template_rows": null,
            "height": null,
            "justify_content": null,
            "justify_items": null,
            "left": null,
            "margin": null,
            "max_height": null,
            "max_width": null,
            "min_height": null,
            "min_width": null,
            "object_fit": null,
            "object_position": null,
            "order": null,
            "overflow": null,
            "overflow_x": null,
            "overflow_y": null,
            "padding": null,
            "right": null,
            "top": null,
            "visibility": null,
            "width": null
          }
        },
        "77107628bc604f5489c1c7fcab6c11a8": {
          "model_module": "@jupyter-widgets/controls",
          "model_name": "DescriptionStyleModel",
          "model_module_version": "1.5.0",
          "state": {
            "_model_module": "@jupyter-widgets/controls",
            "_model_module_version": "1.5.0",
            "_model_name": "DescriptionStyleModel",
            "_view_count": null,
            "_view_module": "@jupyter-widgets/base",
            "_view_module_version": "1.2.0",
            "_view_name": "StyleView",
            "description_width": ""
          }
        },
        "a0b043af353b40e9a82b8f4fa21cfd8b": {
          "model_module": "@jupyter-widgets/base",
          "model_name": "LayoutModel",
          "model_module_version": "1.2.0",
          "state": {
            "_model_module": "@jupyter-widgets/base",
            "_model_module_version": "1.2.0",
            "_model_name": "LayoutModel",
            "_view_count": null,
            "_view_module": "@jupyter-widgets/base",
            "_view_module_version": "1.2.0",
            "_view_name": "LayoutView",
            "align_content": null,
            "align_items": null,
            "align_self": null,
            "border": null,
            "bottom": null,
            "display": null,
            "flex": null,
            "flex_flow": null,
            "grid_area": null,
            "grid_auto_columns": null,
            "grid_auto_flow": null,
            "grid_auto_rows": null,
            "grid_column": null,
            "grid_gap": null,
            "grid_row": null,
            "grid_template_areas": null,
            "grid_template_columns": null,
            "grid_template_rows": null,
            "height": null,
            "justify_content": null,
            "justify_items": null,
            "left": null,
            "margin": null,
            "max_height": null,
            "max_width": null,
            "min_height": null,
            "min_width": null,
            "object_fit": null,
            "object_position": null,
            "order": null,
            "overflow": null,
            "overflow_x": null,
            "overflow_y": null,
            "padding": null,
            "right": null,
            "top": null,
            "visibility": null,
            "width": null
          }
        },
        "109462046f3b4baab0dd2d482e1370e2": {
          "model_module": "@jupyter-widgets/controls",
          "model_name": "ProgressStyleModel",
          "model_module_version": "1.5.0",
          "state": {
            "_model_module": "@jupyter-widgets/controls",
            "_model_module_version": "1.5.0",
            "_model_name": "ProgressStyleModel",
            "_view_count": null,
            "_view_module": "@jupyter-widgets/base",
            "_view_module_version": "1.2.0",
            "_view_name": "StyleView",
            "bar_color": null,
            "description_width": ""
          }
        },
        "f7c3a9053a994820878ca60d78c7350f": {
          "model_module": "@jupyter-widgets/base",
          "model_name": "LayoutModel",
          "model_module_version": "1.2.0",
          "state": {
            "_model_module": "@jupyter-widgets/base",
            "_model_module_version": "1.2.0",
            "_model_name": "LayoutModel",
            "_view_count": null,
            "_view_module": "@jupyter-widgets/base",
            "_view_module_version": "1.2.0",
            "_view_name": "LayoutView",
            "align_content": null,
            "align_items": null,
            "align_self": null,
            "border": null,
            "bottom": null,
            "display": null,
            "flex": null,
            "flex_flow": null,
            "grid_area": null,
            "grid_auto_columns": null,
            "grid_auto_flow": null,
            "grid_auto_rows": null,
            "grid_column": null,
            "grid_gap": null,
            "grid_row": null,
            "grid_template_areas": null,
            "grid_template_columns": null,
            "grid_template_rows": null,
            "height": null,
            "justify_content": null,
            "justify_items": null,
            "left": null,
            "margin": null,
            "max_height": null,
            "max_width": null,
            "min_height": null,
            "min_width": null,
            "object_fit": null,
            "object_position": null,
            "order": null,
            "overflow": null,
            "overflow_x": null,
            "overflow_y": null,
            "padding": null,
            "right": null,
            "top": null,
            "visibility": null,
            "width": null
          }
        },
        "70394ba484a449a09964f0e149f44c2d": {
          "model_module": "@jupyter-widgets/controls",
          "model_name": "DescriptionStyleModel",
          "model_module_version": "1.5.0",
          "state": {
            "_model_module": "@jupyter-widgets/controls",
            "_model_module_version": "1.5.0",
            "_model_name": "DescriptionStyleModel",
            "_view_count": null,
            "_view_module": "@jupyter-widgets/base",
            "_view_module_version": "1.2.0",
            "_view_name": "StyleView",
            "description_width": ""
          }
        },
        "4a80b2f7d1ba4891bd85d517cbfeb2c3": {
          "model_module": "@jupyter-widgets/controls",
          "model_name": "HBoxModel",
          "model_module_version": "1.5.0",
          "state": {
            "_dom_classes": [],
            "_model_module": "@jupyter-widgets/controls",
            "_model_module_version": "1.5.0",
            "_model_name": "HBoxModel",
            "_view_count": null,
            "_view_module": "@jupyter-widgets/controls",
            "_view_module_version": "1.5.0",
            "_view_name": "HBoxView",
            "box_style": "",
            "children": [
              "IPY_MODEL_cc0eef9bad6540e1b3d3f26ef5440f03",
              "IPY_MODEL_548429b6a8d747acb3bc86e16b20773d",
              "IPY_MODEL_460116a1e9ff485f94ee5d9b1b80d054"
            ],
            "layout": "IPY_MODEL_71e26a940a7348ae8e8e5923c2b4589c"
          }
        },
        "cc0eef9bad6540e1b3d3f26ef5440f03": {
          "model_module": "@jupyter-widgets/controls",
          "model_name": "HTMLModel",
          "model_module_version": "1.5.0",
          "state": {
            "_dom_classes": [],
            "_model_module": "@jupyter-widgets/controls",
            "_model_module_version": "1.5.0",
            "_model_name": "HTMLModel",
            "_view_count": null,
            "_view_module": "@jupyter-widgets/controls",
            "_view_module_version": "1.5.0",
            "_view_name": "HTMLView",
            "description": "",
            "description_tooltip": null,
            "layout": "IPY_MODEL_e6f2cea1d1c94892b8d3ac3fe83baaf4",
            "placeholder": "​",
            "style": "IPY_MODEL_34926599dfdb48afa1f33418c3b41350",
            "value": "tokenizer.json: 100%"
          }
        },
        "548429b6a8d747acb3bc86e16b20773d": {
          "model_module": "@jupyter-widgets/controls",
          "model_name": "FloatProgressModel",
          "model_module_version": "1.5.0",
          "state": {
            "_dom_classes": [],
            "_model_module": "@jupyter-widgets/controls",
            "_model_module_version": "1.5.0",
            "_model_name": "FloatProgressModel",
            "_view_count": null,
            "_view_module": "@jupyter-widgets/controls",
            "_view_module_version": "1.5.0",
            "_view_name": "ProgressView",
            "bar_style": "success",
            "description": "",
            "description_tooltip": null,
            "layout": "IPY_MODEL_23fcedb1192a4343a393d700a1b6c245",
            "max": 3132320,
            "min": 0,
            "orientation": "horizontal",
            "style": "IPY_MODEL_9f6fc3d74a3b4ac6a02ee4bb6869c64f",
            "value": 3132320
          }
        },
        "460116a1e9ff485f94ee5d9b1b80d054": {
          "model_module": "@jupyter-widgets/controls",
          "model_name": "HTMLModel",
          "model_module_version": "1.5.0",
          "state": {
            "_dom_classes": [],
            "_model_module": "@jupyter-widgets/controls",
            "_model_module_version": "1.5.0",
            "_model_name": "HTMLModel",
            "_view_count": null,
            "_view_module": "@jupyter-widgets/controls",
            "_view_module_version": "1.5.0",
            "_view_name": "HTMLView",
            "description": "",
            "description_tooltip": null,
            "layout": "IPY_MODEL_4af4b90e41f84ef0bf2aa1de0183e364",
            "placeholder": "​",
            "style": "IPY_MODEL_f7f844d059174ce88edb0ccfb86f522f",
            "value": " 3.13M/3.13M [00:05&lt;00:00, 554kB/s]"
          }
        },
        "71e26a940a7348ae8e8e5923c2b4589c": {
          "model_module": "@jupyter-widgets/base",
          "model_name": "LayoutModel",
          "model_module_version": "1.2.0",
          "state": {
            "_model_module": "@jupyter-widgets/base",
            "_model_module_version": "1.2.0",
            "_model_name": "LayoutModel",
            "_view_count": null,
            "_view_module": "@jupyter-widgets/base",
            "_view_module_version": "1.2.0",
            "_view_name": "LayoutView",
            "align_content": null,
            "align_items": null,
            "align_self": null,
            "border": null,
            "bottom": null,
            "display": null,
            "flex": null,
            "flex_flow": null,
            "grid_area": null,
            "grid_auto_columns": null,
            "grid_auto_flow": null,
            "grid_auto_rows": null,
            "grid_column": null,
            "grid_gap": null,
            "grid_row": null,
            "grid_template_areas": null,
            "grid_template_columns": null,
            "grid_template_rows": null,
            "height": null,
            "justify_content": null,
            "justify_items": null,
            "left": null,
            "margin": null,
            "max_height": null,
            "max_width": null,
            "min_height": null,
            "min_width": null,
            "object_fit": null,
            "object_position": null,
            "order": null,
            "overflow": null,
            "overflow_x": null,
            "overflow_y": null,
            "padding": null,
            "right": null,
            "top": null,
            "visibility": null,
            "width": null
          }
        },
        "e6f2cea1d1c94892b8d3ac3fe83baaf4": {
          "model_module": "@jupyter-widgets/base",
          "model_name": "LayoutModel",
          "model_module_version": "1.2.0",
          "state": {
            "_model_module": "@jupyter-widgets/base",
            "_model_module_version": "1.2.0",
            "_model_name": "LayoutModel",
            "_view_count": null,
            "_view_module": "@jupyter-widgets/base",
            "_view_module_version": "1.2.0",
            "_view_name": "LayoutView",
            "align_content": null,
            "align_items": null,
            "align_self": null,
            "border": null,
            "bottom": null,
            "display": null,
            "flex": null,
            "flex_flow": null,
            "grid_area": null,
            "grid_auto_columns": null,
            "grid_auto_flow": null,
            "grid_auto_rows": null,
            "grid_column": null,
            "grid_gap": null,
            "grid_row": null,
            "grid_template_areas": null,
            "grid_template_columns": null,
            "grid_template_rows": null,
            "height": null,
            "justify_content": null,
            "justify_items": null,
            "left": null,
            "margin": null,
            "max_height": null,
            "max_width": null,
            "min_height": null,
            "min_width": null,
            "object_fit": null,
            "object_position": null,
            "order": null,
            "overflow": null,
            "overflow_x": null,
            "overflow_y": null,
            "padding": null,
            "right": null,
            "top": null,
            "visibility": null,
            "width": null
          }
        },
        "34926599dfdb48afa1f33418c3b41350": {
          "model_module": "@jupyter-widgets/controls",
          "model_name": "DescriptionStyleModel",
          "model_module_version": "1.5.0",
          "state": {
            "_model_module": "@jupyter-widgets/controls",
            "_model_module_version": "1.5.0",
            "_model_name": "DescriptionStyleModel",
            "_view_count": null,
            "_view_module": "@jupyter-widgets/base",
            "_view_module_version": "1.2.0",
            "_view_name": "StyleView",
            "description_width": ""
          }
        },
        "23fcedb1192a4343a393d700a1b6c245": {
          "model_module": "@jupyter-widgets/base",
          "model_name": "LayoutModel",
          "model_module_version": "1.2.0",
          "state": {
            "_model_module": "@jupyter-widgets/base",
            "_model_module_version": "1.2.0",
            "_model_name": "LayoutModel",
            "_view_count": null,
            "_view_module": "@jupyter-widgets/base",
            "_view_module_version": "1.2.0",
            "_view_name": "LayoutView",
            "align_content": null,
            "align_items": null,
            "align_self": null,
            "border": null,
            "bottom": null,
            "display": null,
            "flex": null,
            "flex_flow": null,
            "grid_area": null,
            "grid_auto_columns": null,
            "grid_auto_flow": null,
            "grid_auto_rows": null,
            "grid_column": null,
            "grid_gap": null,
            "grid_row": null,
            "grid_template_areas": null,
            "grid_template_columns": null,
            "grid_template_rows": null,
            "height": null,
            "justify_content": null,
            "justify_items": null,
            "left": null,
            "margin": null,
            "max_height": null,
            "max_width": null,
            "min_height": null,
            "min_width": null,
            "object_fit": null,
            "object_position": null,
            "order": null,
            "overflow": null,
            "overflow_x": null,
            "overflow_y": null,
            "padding": null,
            "right": null,
            "top": null,
            "visibility": null,
            "width": null
          }
        },
        "9f6fc3d74a3b4ac6a02ee4bb6869c64f": {
          "model_module": "@jupyter-widgets/controls",
          "model_name": "ProgressStyleModel",
          "model_module_version": "1.5.0",
          "state": {
            "_model_module": "@jupyter-widgets/controls",
            "_model_module_version": "1.5.0",
            "_model_name": "ProgressStyleModel",
            "_view_count": null,
            "_view_module": "@jupyter-widgets/base",
            "_view_module_version": "1.2.0",
            "_view_name": "StyleView",
            "bar_color": null,
            "description_width": ""
          }
        },
        "4af4b90e41f84ef0bf2aa1de0183e364": {
          "model_module": "@jupyter-widgets/base",
          "model_name": "LayoutModel",
          "model_module_version": "1.2.0",
          "state": {
            "_model_module": "@jupyter-widgets/base",
            "_model_module_version": "1.2.0",
            "_model_name": "LayoutModel",
            "_view_count": null,
            "_view_module": "@jupyter-widgets/base",
            "_view_module_version": "1.2.0",
            "_view_name": "LayoutView",
            "align_content": null,
            "align_items": null,
            "align_self": null,
            "border": null,
            "bottom": null,
            "display": null,
            "flex": null,
            "flex_flow": null,
            "grid_area": null,
            "grid_auto_columns": null,
            "grid_auto_flow": null,
            "grid_auto_rows": null,
            "grid_column": null,
            "grid_gap": null,
            "grid_row": null,
            "grid_template_areas": null,
            "grid_template_columns": null,
            "grid_template_rows": null,
            "height": null,
            "justify_content": null,
            "justify_items": null,
            "left": null,
            "margin": null,
            "max_height": null,
            "max_width": null,
            "min_height": null,
            "min_width": null,
            "object_fit": null,
            "object_position": null,
            "order": null,
            "overflow": null,
            "overflow_x": null,
            "overflow_y": null,
            "padding": null,
            "right": null,
            "top": null,
            "visibility": null,
            "width": null
          }
        },
        "f7f844d059174ce88edb0ccfb86f522f": {
          "model_module": "@jupyter-widgets/controls",
          "model_name": "DescriptionStyleModel",
          "model_module_version": "1.5.0",
          "state": {
            "_model_module": "@jupyter-widgets/controls",
            "_model_module_version": "1.5.0",
            "_model_name": "DescriptionStyleModel",
            "_view_count": null,
            "_view_module": "@jupyter-widgets/base",
            "_view_module_version": "1.2.0",
            "_view_name": "StyleView",
            "description_width": ""
          }
        },
        "a76fa8ed59e14150b1df5190886d9a90": {
          "model_module": "@jupyter-widgets/controls",
          "model_name": "HBoxModel",
          "model_module_version": "1.5.0",
          "state": {
            "_dom_classes": [],
            "_model_module": "@jupyter-widgets/controls",
            "_model_module_version": "1.5.0",
            "_model_name": "HBoxModel",
            "_view_count": null,
            "_view_module": "@jupyter-widgets/controls",
            "_view_module_version": "1.5.0",
            "_view_name": "HBoxView",
            "box_style": "",
            "children": [
              "IPY_MODEL_100dd667292c46c29e4b9c0fae328106",
              "IPY_MODEL_8fa45db04fb249d0b9ced83eee8b721f",
              "IPY_MODEL_c0e9eba6bf9d4eefa5fd728f36c1007a"
            ],
            "layout": "IPY_MODEL_8df2c755f4a04d30b62a8560cbc283c8"
          }
        },
        "100dd667292c46c29e4b9c0fae328106": {
          "model_module": "@jupyter-widgets/controls",
          "model_name": "HTMLModel",
          "model_module_version": "1.5.0",
          "state": {
            "_dom_classes": [],
            "_model_module": "@jupyter-widgets/controls",
            "_model_module_version": "1.5.0",
            "_model_name": "HTMLModel",
            "_view_count": null,
            "_view_module": "@jupyter-widgets/controls",
            "_view_module_version": "1.5.0",
            "_view_name": "HTMLView",
            "description": "",
            "description_tooltip": null,
            "layout": "IPY_MODEL_9e2947f1f29a44ba9cde1c7d80182390",
            "placeholder": "​",
            "style": "IPY_MODEL_09cfa449728445a6a54f2fb70183c7af",
            "value": "pytorch_model.bin: 100%"
          }
        },
        "8fa45db04fb249d0b9ced83eee8b721f": {
          "model_module": "@jupyter-widgets/controls",
          "model_name": "FloatProgressModel",
          "model_module_version": "1.5.0",
          "state": {
            "_dom_classes": [],
            "_model_module": "@jupyter-widgets/controls",
            "_model_module_version": "1.5.0",
            "_model_name": "FloatProgressModel",
            "_view_count": null,
            "_view_module": "@jupyter-widgets/controls",
            "_view_module_version": "1.5.0",
            "_view_name": "ProgressView",
            "bar_style": "success",
            "description": "",
            "description_tooltip": null,
            "layout": "IPY_MODEL_4f101a993c5a404995e4790d708dd934",
            "max": 542923308,
            "min": 0,
            "orientation": "horizontal",
            "style": "IPY_MODEL_6ee657c34dea46b8b7b0c08d49631d95",
            "value": 542923308
          }
        },
        "c0e9eba6bf9d4eefa5fd728f36c1007a": {
          "model_module": "@jupyter-widgets/controls",
          "model_name": "HTMLModel",
          "model_module_version": "1.5.0",
          "state": {
            "_dom_classes": [],
            "_model_module": "@jupyter-widgets/controls",
            "_model_module_version": "1.5.0",
            "_model_name": "HTMLModel",
            "_view_count": null,
            "_view_module": "@jupyter-widgets/controls",
            "_view_module_version": "1.5.0",
            "_view_name": "HTMLView",
            "description": "",
            "description_tooltip": null,
            "layout": "IPY_MODEL_ddcaa89083b64916b6a45a34b01985d5",
            "placeholder": "​",
            "style": "IPY_MODEL_a3e3b4410e5f45009238cfc5b972985d",
            "value": " 543M/543M [00:04&lt;00:00, 107MB/s]"
          }
        },
        "8df2c755f4a04d30b62a8560cbc283c8": {
          "model_module": "@jupyter-widgets/base",
          "model_name": "LayoutModel",
          "model_module_version": "1.2.0",
          "state": {
            "_model_module": "@jupyter-widgets/base",
            "_model_module_version": "1.2.0",
            "_model_name": "LayoutModel",
            "_view_count": null,
            "_view_module": "@jupyter-widgets/base",
            "_view_module_version": "1.2.0",
            "_view_name": "LayoutView",
            "align_content": null,
            "align_items": null,
            "align_self": null,
            "border": null,
            "bottom": null,
            "display": null,
            "flex": null,
            "flex_flow": null,
            "grid_area": null,
            "grid_auto_columns": null,
            "grid_auto_flow": null,
            "grid_auto_rows": null,
            "grid_column": null,
            "grid_gap": null,
            "grid_row": null,
            "grid_template_areas": null,
            "grid_template_columns": null,
            "grid_template_rows": null,
            "height": null,
            "justify_content": null,
            "justify_items": null,
            "left": null,
            "margin": null,
            "max_height": null,
            "max_width": null,
            "min_height": null,
            "min_width": null,
            "object_fit": null,
            "object_position": null,
            "order": null,
            "overflow": null,
            "overflow_x": null,
            "overflow_y": null,
            "padding": null,
            "right": null,
            "top": null,
            "visibility": null,
            "width": null
          }
        },
        "9e2947f1f29a44ba9cde1c7d80182390": {
          "model_module": "@jupyter-widgets/base",
          "model_name": "LayoutModel",
          "model_module_version": "1.2.0",
          "state": {
            "_model_module": "@jupyter-widgets/base",
            "_model_module_version": "1.2.0",
            "_model_name": "LayoutModel",
            "_view_count": null,
            "_view_module": "@jupyter-widgets/base",
            "_view_module_version": "1.2.0",
            "_view_name": "LayoutView",
            "align_content": null,
            "align_items": null,
            "align_self": null,
            "border": null,
            "bottom": null,
            "display": null,
            "flex": null,
            "flex_flow": null,
            "grid_area": null,
            "grid_auto_columns": null,
            "grid_auto_flow": null,
            "grid_auto_rows": null,
            "grid_column": null,
            "grid_gap": null,
            "grid_row": null,
            "grid_template_areas": null,
            "grid_template_columns": null,
            "grid_template_rows": null,
            "height": null,
            "justify_content": null,
            "justify_items": null,
            "left": null,
            "margin": null,
            "max_height": null,
            "max_width": null,
            "min_height": null,
            "min_width": null,
            "object_fit": null,
            "object_position": null,
            "order": null,
            "overflow": null,
            "overflow_x": null,
            "overflow_y": null,
            "padding": null,
            "right": null,
            "top": null,
            "visibility": null,
            "width": null
          }
        },
        "09cfa449728445a6a54f2fb70183c7af": {
          "model_module": "@jupyter-widgets/controls",
          "model_name": "DescriptionStyleModel",
          "model_module_version": "1.5.0",
          "state": {
            "_model_module": "@jupyter-widgets/controls",
            "_model_module_version": "1.5.0",
            "_model_name": "DescriptionStyleModel",
            "_view_count": null,
            "_view_module": "@jupyter-widgets/base",
            "_view_module_version": "1.2.0",
            "_view_name": "StyleView",
            "description_width": ""
          }
        },
        "4f101a993c5a404995e4790d708dd934": {
          "model_module": "@jupyter-widgets/base",
          "model_name": "LayoutModel",
          "model_module_version": "1.2.0",
          "state": {
            "_model_module": "@jupyter-widgets/base",
            "_model_module_version": "1.2.0",
            "_model_name": "LayoutModel",
            "_view_count": null,
            "_view_module": "@jupyter-widgets/base",
            "_view_module_version": "1.2.0",
            "_view_name": "LayoutView",
            "align_content": null,
            "align_items": null,
            "align_self": null,
            "border": null,
            "bottom": null,
            "display": null,
            "flex": null,
            "flex_flow": null,
            "grid_area": null,
            "grid_auto_columns": null,
            "grid_auto_flow": null,
            "grid_auto_rows": null,
            "grid_column": null,
            "grid_gap": null,
            "grid_row": null,
            "grid_template_areas": null,
            "grid_template_columns": null,
            "grid_template_rows": null,
            "height": null,
            "justify_content": null,
            "justify_items": null,
            "left": null,
            "margin": null,
            "max_height": null,
            "max_width": null,
            "min_height": null,
            "min_width": null,
            "object_fit": null,
            "object_position": null,
            "order": null,
            "overflow": null,
            "overflow_x": null,
            "overflow_y": null,
            "padding": null,
            "right": null,
            "top": null,
            "visibility": null,
            "width": null
          }
        },
        "6ee657c34dea46b8b7b0c08d49631d95": {
          "model_module": "@jupyter-widgets/controls",
          "model_name": "ProgressStyleModel",
          "model_module_version": "1.5.0",
          "state": {
            "_model_module": "@jupyter-widgets/controls",
            "_model_module_version": "1.5.0",
            "_model_name": "ProgressStyleModel",
            "_view_count": null,
            "_view_module": "@jupyter-widgets/base",
            "_view_module_version": "1.2.0",
            "_view_name": "StyleView",
            "bar_color": null,
            "description_width": ""
          }
        },
        "ddcaa89083b64916b6a45a34b01985d5": {
          "model_module": "@jupyter-widgets/base",
          "model_name": "LayoutModel",
          "model_module_version": "1.2.0",
          "state": {
            "_model_module": "@jupyter-widgets/base",
            "_model_module_version": "1.2.0",
            "_model_name": "LayoutModel",
            "_view_count": null,
            "_view_module": "@jupyter-widgets/base",
            "_view_module_version": "1.2.0",
            "_view_name": "LayoutView",
            "align_content": null,
            "align_items": null,
            "align_self": null,
            "border": null,
            "bottom": null,
            "display": null,
            "flex": null,
            "flex_flow": null,
            "grid_area": null,
            "grid_auto_columns": null,
            "grid_auto_flow": null,
            "grid_auto_rows": null,
            "grid_column": null,
            "grid_gap": null,
            "grid_row": null,
            "grid_template_areas": null,
            "grid_template_columns": null,
            "grid_template_rows": null,
            "height": null,
            "justify_content": null,
            "justify_items": null,
            "left": null,
            "margin": null,
            "max_height": null,
            "max_width": null,
            "min_height": null,
            "min_width": null,
            "object_fit": null,
            "object_position": null,
            "order": null,
            "overflow": null,
            "overflow_x": null,
            "overflow_y": null,
            "padding": null,
            "right": null,
            "top": null,
            "visibility": null,
            "width": null
          }
        },
        "a3e3b4410e5f45009238cfc5b972985d": {
          "model_module": "@jupyter-widgets/controls",
          "model_name": "DescriptionStyleModel",
          "model_module_version": "1.5.0",
          "state": {
            "_model_module": "@jupyter-widgets/controls",
            "_model_module_version": "1.5.0",
            "_model_name": "DescriptionStyleModel",
            "_view_count": null,
            "_view_module": "@jupyter-widgets/base",
            "_view_module_version": "1.2.0",
            "_view_name": "StyleView",
            "description_width": ""
          }
        }
      }
    },
    "accelerator": "GPU"
  },
  "nbformat": 4,
  "nbformat_minor": 0
}