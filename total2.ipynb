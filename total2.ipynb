{
 "cells": [
  {
   "cell_type": "code",
   "execution_count": 1,
   "metadata": {},
   "outputs": [],
   "source": [
    "import numpy as np\n",
    "from selenium import webdriver\n",
    "from time import sleep\n",
    "import random\n",
    "from selenium.common.exceptions import NoSuchElementException, ElementNotInteractableException\n",
    "from selenium.webdriver.common.by import By\n",
    "import pandas as pd\n",
    "import csv"
   ]
  },
  {
   "cell_type": "code",
   "execution_count": 2,
   "metadata": {},
   "outputs": [],
   "source": [
    "# Declare browser\n",
    "driver = webdriver.Chrome()\n",
    "\n",
    "# Open URL\n",
    "driver.get(\"https://cafef.vn/tim-kiem.chn?keywords=OCB\")\n",
    "sleep(random.randint(5,10))"
   ]
  },
  {
   "cell_type": "markdown",
   "metadata": {},
   "source": [
    "# 1. Công ty Tài chính TNHH MTV Ngân hàng Việt Nam Thịnh Vượng (FE Credit)"
   ]
  },
  {
   "cell_type": "code",
   "execution_count": 3,
   "metadata": {},
   "outputs": [
    {
     "name": "stdout",
     "output_type": "stream",
     "text": [
      "['FE CREDIT khuyến khích khách hàng xây dựng thói quen thanh toán đúng hạn', 'FE CREDIT và nỗ lực bứt tốc trên đường đua vay mua xe máy', 'Chu kỳ tăng trưởng mới của các công ty tài chính tiêu dùng: HD Saison báo lợi nhuận tăng gấp đôi, FE Credit có lãi trở lại', 'Khách hàng FE CREDIT hào hứng khi trúng xe máy, nhận hoàn tiền', \"Moody's giữ nguyên xếp hạng tín nhiệm của FE Credit ở mức B1\", 'FE CREDIT xua tan cơn nóng mùa hè với chương trình ưu đãi linh đình', 'FE CREDIT và nỗ lực khẳng định vị thế dẫn đầu thị trường cho vay mua xe máy', 'FE Credit đang kinh doanh ra sao?', 'Khi gió đảo chiều ở FE CREDIT', 'FE Credit lần đầu công khai lãi suất cho vay bình quân theo chỉ đạo của Thủ tướng: Công ty tài chính lớn nhất đang cho vay lãi suất bao nhiêu?', 'FE Credit làm ăn như thế nào trong năm 2023?', 'Tết Nguyên Đán Giáp Thìn, FE CREDIT tung chương trình ưu đãi khủng hàng tỉ đồng', 'Sếp FE Credit: Nếu trước đây chỉ 2 vụ, thì năm 2022-2023 chúng tôi có tới 24 vụ nhân viên thu hồi nợ bị hành hung', 'FE CREDIT nhận giải thưởng quốc tế từ tạp chí The Global Economics', 'Xáo trộn top 1.000 doanh nghiệp nộp thuế lớn nhất: Hoa Sen, Masan, Viettel Global, Bitexco, Fe Credit vắng mặt, Hòa Phát, Formosa Hà Tĩnh, Aeon, Tiktok xuất hiện', 'VPBank báo lãi trước thuế riêng lẻ 9 tháng đầu năm gần 11 nghìn tỷ đồng, FE Credit bắt đầu có lợi nhuận trở lại', 'FE Credit lỗ quý thứ 5 liên tiếp, kỳ vọng có lãi từ 2024', '\"Ông lớn\" Fe Credit thua lỗ gần 3.000 tỷ trong nửa đầu năm, còn các công ty tài chính khác như Home Credit, HD Saison,... thì sao?', 'FE CREDIT thua lỗ gần 3.000 tỷ đồng trong nửa đầu 2023', 'VDSC: FE Credit có thể quay lại quỹ đạo lợi nhuận từ 2024']\n",
      "['FE Credit bổ nhiệm Quyền Tổng Giám đốc mới', 'Moody’s cập nhật xếp hạng tín nhiệm của FE Credit', 'So găng lợi nhuận 3 công ty tài chính lớn FE Credit, HD Saison và MCredit', 'VCBS: FE Credit lỗ 3.121 tỷ đồng, nợ xấu 21,8% cao nhất ngành tài chính tiêu dùng', 'VNDirect: FE Credit lỗ 3.000 tỷ đồng năm 2022', \"Thương vụ 460 triệu USD hâm nóng 'cuộc đua tam mã' của cổ đông chiến lược FE Credit\", 'FE CREDIT 12 tuổi: Một phiên bản Tiên phong, Kiên cường và Chính trực', 'Fe Credit tung 10.000 tỉ đồng cho vay tiêu dùng, “dập” tín dụng đen', 'Vượt các chỉ tiêu đề ra, FE CREDIT hoàn thành chứng chỉ ESG', 'Moody\\'s giữ nguyên xếp hạng tín nhiệm cho FE CREDIT, triển vọng \"ổn định\"', 'Đội tuyển bóng đá nữ Việt Nam tiếp nhận phần thưởng 3 tỷ đồng từ FE Credit', 'FE CREDIT thưởng nóng 3 tỷ đồng cho đội tuyển bóng đá nữ Việt Nam', 'Hé lộ kết quả kinh doanh quý 1 của FE Credit', 'FE Credit mất ngôi quán quân lợi nhuận, công ty tài chính nào đã thay thế?', 'FE Credit: Giải ngân tăng 65% cuối 2021, hứa hẹn năm 2022 bùng nổ', 'FE Credit – Tái khẳng định năng lực vượt trội, bứt phá trong năm 2022', 'Chi hàng tỷ USD mua cổ phần FE Credit và M&A tại khu vực châu Á, CEO ngân hàng top đầu Nhật Bản SMBC vẫn chưa muốn dừng lại', 'Trước F88, Thế Giới Di Động cũng từng bắt tay FE Credit cho vay tiền mặt, lãi suất ra sao?', 'FE CREDIT lọt Top 500 doanh nghiệp tư nhân lợi nhuận cao năm 2021', 'Ngân hàng mẹ bơm bao nhiêu vốn cho Mcredit, HDSaison, FE Credit?']\n",
      "['FE Credit, HD Saison, M Credit làm ăn ra sao trong quý 3 khi khách hàng bị ảnh hưởng nặng nề bởi dịch bệnh?', 'FE CREDIT: Không đổi khó khăn của khách hàng lấy lợi nhuận', 'Các công ty tài chính FE Credit, MB Shinsei, SHB Finance,... đã cơ cấu nợ, giảm lãi suất như thế nào thời gian qua?', 'VPBank lãi trước thuế hơn 11.700 tỷ trong 9 tháng đầu năm, tỷ lệ đóng góp của FE Credit lần đầu tiên xuống dưới 10%', 'VPBank sẽ mất “gà đẻ trứng vàng” hay “hổ mọc thêm cánh” sau khi bán một nửa vốn tại FE Credit?', 'Hoàn tất bán 50% cổ phần FE Credit, kế hoạch tăng vốn lên 75.000 tỷ của VPBank sắp thành hiện thực', 'Cuộc đua của \"tứ đại gia\" ngân hàng Nhật Bản tại FE Credit, HDSaison, Mcredit và SHB Finance', 'FE CREDIT “thắng lớn” với 2 giải thưởng từ tạp chí “The Asian Banking And Finance”', 'FE CREDIT được chấp thuận nguyên tắc chuyển đổi hình thức pháp lý', 'FE Credit chuyển đổi hình thức pháp lý sang công ty TNHH 2 thành viên trở lên', 'SSI Research: Cung ngoại tệ được hỗ trợ từ thương vụ bán vốn FE Credit, SHB Finance và đầu tư của LG Display', 'SSI: FE Credit đang trải qua giai đoạn khó khăn nhưng kỳ vọng sẽ phục hồi từ năm 2022', 'FE Credit, HD Saison, M-Credit đang làm ăn ra sao trong đại dịch?', 'FE Credit: Lợi nhuận 6 tháng đầu năm chỉ đạt 1.200 tỷ đồng, CIR giảm mạnh', 'FE Credit lên tiếng về việc phong tỏa tòa nhà 144 Cộng Hòa do có ca nghi nhiễm Covid-19', 'Lý giải thương vụ FE Credit: Định giá 2,8 tỷ USD liệu có cao và tầm nhìn của SMBC tại thị trường Việt Nam', 'SSI Research: FE Credit có thể lãi trước thuế 4.400 tỷ đồng trong năm nay', 'FE Credit làm ăn thế nào trong quý 1/2021?', 'VPBank bán 49% vốn Fe Credit là thương vụ M&A quy mô lớn nhất ngành tài chính ngân hàng Việt Nam', 'ĐHCĐ VPBank: Nếu chọn phương án IPO thì định giá FE Credit có thể cao hơn, thậm chí lên tới 4 tỷ USD']\n",
      "['Hiệu ứng FE Credit', 'FE Credit tổng giải ngân 15.500 tỷ đồng, 800 tỷ lãi trước thuế trong quý 1/2021', 'Fe Credit được định giá 2,8 tỷ USD khi bán cho SMBC', 'VPBank bán 49% vốn FE Credit cho SMBC, giá trị thương vụ là bao nhiêu?', 'FE Credit tăng mạnh vốn điều lệ lên gần 11.000 tỷ đồng', 'Làm giả CMND, lừa vay FE Credit gần 500 triệu đồng', 'FE Credit chỉ còn đóng góp 28% vào lợi nhuận hợp nhất của VPBank trong năm 2020', 'CEO Kalidas Ghose: 10 năm qua FE CREDIT chỉ mới thực hiện một phần nhiệm vụ, ngành tài chính tiêu dùng sẽ còn tăng gấp 2-3 lần hiện tại', 'FE Credit sẽ IPO trong quý 3/2021, dự kiến được định giá cao hơn 3 lần giá sổ sách', 'Công ty tài chính FE Credit lọt TOP 30 doanh nghiệp nộp thuế lớn nhất Việt Nam', 'Hoạt động thanh toán trực tuyến tăng mùa dịch Covid-19, FE Credit báo lãi nửa đầu năm tăng 13% lên 2.400 tỷ đồng', 'Phó Thủ tướng Trương Hoà Bình yêu cầu làm rõ thông tin liên quan đến Fe Credit', 'Fe Credit, HD Saison, MCredit, SHB Finance lên kế hoạch như thế nào trong năm nay?', 'VPBank định hướng hoạt động của Fe Credit trong năm nay thế nào?', 'ĐHCĐ VPBank: Có thể bán đến 49% vốn Fe Credit, phấn đấu tăng CASA', 'Fe Credit cùng khách hàng vượt qua ảnh hưởng của đại dịch Covid-19 bằng các gói hỗ trợ thiết thực', 'Fe Credit, HDBank, VPBank, DOJI và 12 ngân hàng ủng hộ 130 tỷ đồng phòng chống Covid-19', 'FE Credit khép lại năm 2019 đầy khả quan', 'Vì sao nợ xấu của FE Credit tăng trở lại trong quý cuối năm 2019?', 'FE Credit chuyển đổi sang hình thức công ty cổ phần']\n",
      "['Nợ xấu của FE Credit tăng thêm vào nửa cuối năm 2019', 'CEO Fe Credit: Các con tôi đều được sinh ra ở Việt Nam nên đây là quê hương tôi. Tết tôi muốn ở NHÀ và bên gia đình!', 'FE CREDIT khởi đầu năm mới bằng cú đúp giải thưởng danh giá do Việt Nam report bình chọn', 'Bức tranh toàn cảnh quý 3 của FE CREDIT với sự tăng trưởng đồng bộ và ổn định ở tất cả các phân khúc sản phẩm', 'FE Credit sẽ bị ảnh hưởng như thế nào bởi quy định mới về siết cho vay tiêu dùng?', 'CMO FE CREDIT: Chỉ cần các Startup có giải pháp Fintech có tiềm năng nhân rộng, FE XCELERATE sẽ giúp họ', 'Nợ xấu của FE Credit, MCredit, HD Saison đang như thế nào?', 'FE Credit hợp tác với công ty đa quốc gia tạo lập sân chơi mới cực đỉnh, dành riêng cho Startup Fintech', 'Trong khi FE Credit vẫn tuyển dụng ồ ạt, VPBank cắt giảm hơn 2.300 nhân viên ở ngân hàng mẹ trong 9 tháng đầu năm', 'Cú luồn sâu của FE Credit trước mặt LienVietPostBank', 'FE CREDIT tiếp tục tăng trưởng nhờ hiệu quả kinh doanh cải thiện rõ nét', 'Fe Credit được chấp thuận mở thêm 11 văn phòng đại diện', 'FE Credit ghi dấu thêm 3 giải thưởng tại lễ trao giải CMO Asia 2019', 'Nhân viên cũ làm giả giấy tờ, lừa 1 tỷ đồng của Fe Credit', 'Nợ xấu của FE Credit đang như thế nào?', 'FE CREDIT nắm bắt thị trường tài chính tiêu dùng triệu đô bằng công nghệ đột phá', 'FE CREDIT thắng liên tiếp hai giải thưởng lớn tại Global Banking & Finance', 'FE CREDIT được vinh danh “Top 10 doanh nghiệp được tin dùng nhất Châu Á” tại diễn dàn Kinh tế Quốc Tế Asia 2019', 'Vị thế của 2 \"ông lớn\" FE Credit và Home Credit trên thị trường tài chính tiêu dùng thế nào?', 'Tín dụng tiêu dùng có khả năng bị siết chặt, \"gà\" Fe Credit có thể không còn \"đẻ trứng vàng\", lãnh đạo VPBank nói gì?']\n",
      "['FE Credit gặt “trái ngọt” nhờ đào sâu tỉ trọng giao dịch của khách hàng hiện tại', 'Hạn mức tăng tín dụng của FE Credit, HD Saison và Home Credit năm 2019 khoảng 12%', 'FE Credit tăng trưởng chậm lại, VPBank sẽ xoay sở thế nào?', 'FE Credit lập tiêu chuẩn mới về quản trị rủi ro', 'FE CREDIT phá kỷ lục tài chính tiêu dùng với hơn 10 giải thưởng uy tín trong năm 2018', 'FE CREDIT tái định hình tài chính tiêu dùng Việt Nam', 'FE CREDIT đạt giải “Thương hiệu tài chính tiêu dùng đột phá nhất châu Á năm 2018”', 'Không chỉ riêng Fe Credit, công ty tài chính HD Saison cũng giảm mạnh tỷ trọng đóng góp lợi nhuận cho ngân hàng', \"FE CREDIT công bố kết quả xếp hạng tín nhiệm của Moody's\", 'Vốn FE Credit tăng lên gần 7.330 tỷ đồng, bằng 35% tổng vốn nhóm công ty tài chính', 'Fe Credit chỉ còn đóng góp 36% vào tổng lợi nhuận của VPBank', 'Tài chính Xi măng đổi tên thành VietCredit, chuẩn bị cạnh tranh với Fe Credit, Home Credit', 'Fe Credit đặt trọng tâm vào chiến lược nguồn vốn nội', 'FE Credit quý 1: Lợi nhuận giảm sút, nợ xấu gia tăng, lãnh đạo nói gì?', 'MBS: FE Credit sẽ tiếp tục thống lĩnh thị trường nhưng tín dụng tiêu dùng có thể gây mất kiểm soát nợ xấu cho VPBank', 'ĐHCĐ Pjico: Tăng trưởng đột biến kênh Bancassurance với HDBank, VPBank, FE Credit', 'Được đánh giá tiềm năng không kém Fe Credit, vậy HD Saison của HDBank đang làm ăn thế nào?', 'VPBank: Fe Credit vẫn là \"gà đẻ trứng vàng\" trong 5 năm tới, cổ tức và cổ phiếu thưởng năm sau tiếp tục hơn 60%', 'FE CREDIT ký hợp đồng vay vốn trị giá 50 triệu USD với Lion Asia', 'Nếu giảm phụ thuộc vào Fe Credit, VPBank còn võ gì để \"chiến\" với thị trường?']\n",
      "['HD Saison liệu có là “gà đẻ trứng vàng” cho HDBank như Fe Credit ở VPBank?', 'Deutsche Bank cung cấp khoản vay trị giá 100 triệu USD cho FE Credit', 'VPBank đang sống dựa quá nhiều vào Fe Credit?', 'Kỳ vọng ngày càng nhiều vào “gà đẻ trứng vàng”, VPBank vừa bơm thêm gần 1.700 tỷ đồng cho Fe Credit', 'VPBank chưa có kế hoạch buông \"gà đẻ trứng vàng\" Fe Credit', 'FE CREDIT khẳng định vị thế dẫn đầu', 'Fe Credit đã hết thời “gà đẻ trứng vàng” cho VPBank?', 'FE CREDIT vinh dự nhận giải thưởng “Thương hiệu mạnh Việt Nam”', 'FE CREDIT ra mắt Thẻ tín dụng tiện ích FE CREDIT Plus+ MasterCard', 'FE CREDIT ký kết hợp đồng hợp vốn 100 triệu USD với ngân hàng Credit Suisse', 'Có VPBank hậu thuẫn, FE Credit vượt xa đối thủ trên thị trường cho vay tiêu dùng']\n",
      "Data saved successfully!\n"
     ]
    }
   ],
   "source": [
    "df = []\n",
    "\n",
    "for i in range(1,8): # Sửa\n",
    "    driver.get(\"https://cafef.vn/tim-kiem/trang-{}.chn?keywords=FE%20Credit\".format(i)) # Sửa\n",
    "    sleep(random.randint(5, 10))\n",
    "    \n",
    "    elems = driver.find_elements(By.CSS_SELECTOR, \"h3.titlehidden a[href]\")\n",
    "    title = [elem.text for elem in elems]\n",
    "    links = [elem.get_attribute('href') for elem in elems]\n",
    "    print(title)\n",
    "    # Append the data as tuples (index, title, link) to the dataframe list\n",
    "    for j in range(len(title)):\n",
    "        df.append([len(df) + 1, title[j], links[j]])\n",
    "    \n",
    "    # Handle the case where the last page has only 8 rows\n",
    "    if i == 7: # Sửa\n",
    "        df = df[:len(df) - (len(title) - 11)]  # Remove excess rows if any # Sửa\n",
    "\n",
    "# Convert the data to a DataFrame\n",
    "df_final = pd.DataFrame(df, columns=['index', 'title', 'link'])\n",
    "save_path = r'C:\\Users\\Admin\\OneDrive\\Documents\\Advanced Data Analytics\\2\\FECredit_articles.csv' # Sửa\n",
    "# Save to a CSV file\n",
    "df_final.to_csv(save_path, index=False, encoding='utf-8-sig')\n",
    "\n",
    "print(\"Data saved successfully!\")"
   ]
  },
  {
   "cell_type": "markdown",
   "metadata": {},
   "source": [
    "# 2. Công ty Tài chính TNHH MTV Mirae Asset (Việt Nam)"
   ]
  },
  {
   "cell_type": "code",
   "execution_count": 4,
   "metadata": {},
   "outputs": [
    {
     "name": "stdout",
     "output_type": "stream",
     "text": [
      "['CEO Mirae Asset chỉ ra \"mấu chốt\" quan trọng của thị trường chứng khoán Việt Nam để thu hút dòng vốn ngoại', 'Chứng khoán Mirae Asset Việt Nam bị xử phạt do vi phạm công bố thông tin', 'Chuyên gia Mirae Asset: Đà bán ròng của khối ngoại có thể sớm kết thúc, một vài nhóm cổ phiếu đang bị \"bỏ quên\" sẽ đồng khởi dẫn VN-Index vượt mốc 1.300 điểm', 'Mirae Asset: Áp lực tỷ giá có thể kéo dài đến khi Fed hạ lãi suất, VN-Index tiềm ẩn rủi ro điều chỉnh trong tháng 4', 'Dư nợ cho vay tại các công ty chứng khoán lên cao nhất 7 quý, bất ngờ cái tên dẫn đầu không phải SSI, VNDirect, Mirae Asset hay VPS', 'Tập đoàn Mirae Asset tặng học bổng hơn 4 tỷ cho sinh viên Việt Nam', 'Mirae Asset: Định giá thị trường xứng đáng ở mức cao hơn, VN-Index có thể đạt 1.500 điểm trong kịch bản nền kinh tế hồi phục mạnh', 'Thị trường chờ tin KRX, Chứng khoán Mirae Asset “tung phao” giúp Nhà đầu tư', 'Mirae Asset: Chứng khoán Việt Nam đang rẻ hơn đáng kể so với thế giới', 'Cập nhật số liệu CTCK chiều 20/10: Chứng khoán VPS, Vietcap, Mirae Asset, VCBS... đồng loạt báo lãi hàng trăm tỷ đồng trong quý 3/2023', 'Một CTCK trả 72.000 đồng/cp mua cổ phần DN cung cấp ốc vít cho Samsung, LG, Panasonic..., gấp 3 lần giá Mirae Asset đã chi', 'Mirae Asset: Định giá chứng khoán đã hấp dẫn hơn sau đợt giảm mạnh', 'Chứng khoán Mirae Asset bị phạt trăm triệu vì đặt sai lệnh của khách hàng từ bán thành mua', 'Mirae Asset: Nhà đầu tư bắt đầu lạc quan hơn và đặt niềm tin vào nhóm cổ phiếu ngân hàng', 'Mirae Asset: Nhịp điều chỉnh dưới 1.200 điểm là cơ hội để \"gom hàng\" tại hai nhóm có sức bật tốt trong thời gian tới', 'GenZ: Khách hàng \\'chịu chi chịu chơi\\' nhưng \\'cả thèm chóng chán\\' mà loạt \"ông lớn\" ngân hàng, Mirae Asset, Shopee... đang theo đuổi', 'Mirae Asset: Lợi nhuận sụt giảm, định giá thị trường chứng khoán Việt Nam tăng cao đáng kể', 'Mirae Asset: Lãi suất huy động giảm 0,5%, đây là 5 nhóm ngành được hưởng lợi', 'Mirae Asset: Định giá chứng khoán không còn rẻ sau mùa báo cáo tài chính quý 1/2023', 'Mirae Asset: Giá điện tăng 3% có thể khiến ngành thép mất tới 15% lợi nhuận']\n",
      "['Mirae Asset: Giá chung cư năm nay sẽ khó giảm bất chấp thị trường tiêu cực', 'Mirae Asset: Cơ hội cho các doanh nghiệp BĐS Khu công nghiệp còn quỹ đất cho thuê lớn trong năm 2023', 'Sếp Mirae Asset Securities: Việt Nam là một trong những nơi đáng để đầu tư nhất, thị trường đã chạm đáy và sẽ sớm khởi sắc', 'Chứng khoán Mirae Asset: LNTT quý 4 giảm 44% so với cùng kỳ, dư nợ margin giảm gần 2.800 tỷ đồng', 'Mirae Asset: Có quỹ đất cho thuê lớn giúp Kinh Bắc, IDICO, Viglacera... kịp thời đón được dòng vốn đầu tư mới', 'Mirae Asset: Kỳ vọng bất động sản hồi phục từ 6 tháng cuối 2023 nếu trường hợp này xảy ra', 'Mirae Asset: Định giá của VN-Index vẫn hấp dẫn sau nhịp phục hồi mạnh vừa qua', 'Mirae Asset: Mức giảm giá của VND được kỳ vọng ở mức vừa phải trong năm 2023', 'Mirae Asset: Áp lực giá vốn cao, trích lập dự phòng tăng mạnh, Coteccons lỗ khoảng 110 tỷ đồng năm 2022', 'Mirae Asset muốn bán giải chấp 300.000 cổ phiếu Apax Holdings (IBC) nhưng không thể khớp lệnh', 'Mirae Asset: NHNN nhiều khả năng sẽ giảm mục tiêu tăng trưởng tín dụng năm 2023 xuống dưới 14%', 'Thủ đoạn của Công ty Tài chính Mirae Asset trong việc mua bán 150.000 dữ liệu cá nhân', 'Công ty Mirae Asset ở Quảng Nam mua bán dữ liệu cá nhân của 150.000 người', 'Chủ tịch Phát Đạt, Hải Phát và vợ Chủ tịch Khải Hoàn Land tiếp tục bị Mirae Asset \"call-margin\" hàng triệu cổ phiếu', 'Mirae Asset: Thị trường chứng khoán sẽ tìm được điểm cân bằng trong tháng 11', 'Mirae Asset: Những nhịp điều chỉnh tiếp theo sẽ mở ra cơ hội tốt tích lũy cổ phiếu cho dài hạn', 'Chứng khoán Mirae Asset Việt Nam đẩy mạnh hoạt động tại miền Trung', 'Woori Bank và Mirae Asset Việt Nam hợp tác nâng cao chất lượng phục vụ', 'Đón đầu cơ hội đầu tư cuối năm 2022 với chứng khoán Mirae Asset', 'Mirae Asset: Tăng trưởng tín dụng trong quý 3/2022 có thể chậm lại']\n",
      "['Mirae Asset: Tăng trưởng lợi nhuận tích cực, chứng khoán Việt Nam vẫn còn nhiều tiềm năng trong dài hạn', 'Chứng khoán Mirae Asset tung ra ưu đãi hoàn phí cho nhà đầu tư mới', 'Chứng khoán Mirae Asset đồng hành cùng nhà đầu tư mới, tặng voucher miễn phí', 'Giám đốc phân tích Mirae Asset: Ngân hàng về nội lực rất tiềm năng, nhưng cổ phiếu lại không nổi trội so với ngành khác', 'Giám đốc Chiến lược Mirae Asset: \"Mật mã 333\" giúp nhà đầu tư loại bỏ cổ phiếu của doanh nghiệp yếu kém, nên tránh xa', 'Xây dựng danh mục trong thị trường biến động cùng Chứng khoán Mirae Asset', 'Bỏ hồ sơ giấy, nhà đầu tư mở tài khoản tại chứng khoán Mirae Asset', 'Mirae Asset: Kỳ vọng phục hồi từ bất động sản nhà phố, dự kiến mở bán 4.500 căn hộ tại Hà Nội và Thành phố Hồ Chí Minh năm 2022', 'Mirae Asset: Nhóm ngành tài chính có tiềm năng tăng trưởng EPS cao hơn thị trường chung ở mức 28% trong năm 2022', 'Đưa ra triển vọng tích cực cho ngành thép song Mirae Asset dự phóng lợi nhuận Hoà Phát (HPG) và Nam Kim (NKG) đồng loạt \"đi lùi\" trong năm 2022', 'Chứng khoán Mirae Asset gọi tên 6 ngân hàng đáng chú ý trong năm 2022, một ông lớn Big 4 có lợi nhuận ước tăng hơn 101%', 'Mirae Asset nêu tên 3 cổ phiếu ngân hàng sẽ được hỗ trợ nhờ nhu cầu hậu Covid', 'Mirae Asset: Thị trường chứng khoán đang phản ánh tâm lý thận trọng của nhà đầu tư, hai nhóm ngành có thể đạt tăng trưởng EPS \"bằng lần\" trong năm 2022', 'Nhận xe sang, trải nghiệm dịch vụ đỉnh tại Chứng Khoán Mirae Asset Việt Nam', 'Công ty chứng khoán Mirae Asset Vietnam đồng hành với Novaland trong nhiều lĩnh vực', 'Mirae Asset: \"Nhóm VN30 đang giao dịch với định giá thấp, hấp dẫn hơn so với Midcap và thị trường chung\"', 'Mirae Asset: Các ngân hàng Việt đang được định giá cao trong khu vực nhờ tỷ suất sinh lời hấp dẫn, nhắc tên 3 cổ phiếu tiềm năng', 'Mirae Asset: HDBank đang được xem xét nới room ngoại lên 49% theo thỏa thuận thương mại EVFTA', 'Chuyên gia Mirae Asset: \"Nhóm cổ phiếu Bất động sản còn nhiều tiềm năng, là điểm sáng trong năm 2022\"', 'Chuyên gia Mirae Asset: Vòng quay dòng tiền trên TTCK đã nhanh hơn gấp 10 lần, nếu không hành động kịp thời sẽ mất đi cơ hội!']\n",
      "['Mirae Asset: Loạt yếu tố khiến rủi ro lạm phát có thể gia tăng trong năm 2022', 'CEO Mirae Asset Việt Nam lạc quan với triển vọng của thị trường chứng khoán, tăng trưởng EPS năm 2022 dự kiến ở mức 2 con số', 'Mirae Asset: Dự trữ ngoại hối lên 130 tỷ USD, nhà đầu tư cá nhân mua ròng 84.000 tỷ, VN-Index có thể lên 1.700 điểm năm 2022', 'Mirae Asset: Lãi suất còn thấp, dòng tiền nhàn rỗi dân cư sẽ chảy tiếp vào chứng khoán, nhịp điều chỉnh sâu là cơ hội tích lũy cổ phiếu tốt', 'Mirae Asset Finance Việt Nam chính thức ra mắt sản phẩm Miraeasset Credit', 'Dư nợ cho vay tại các CTCK lập kỷ lục 155.000 tỷ đồng vào cuối quý 3, TCBS nhảy vọt, \"phả hơi nóng\" vào Mirae Asset', 'Chứng khoán Mirae Asset: Dư nợ cho vay 14.800 tỷ, lãi ròng quý 3 tăng 65% lên 232 tỷ đồng', 'Mirae Asset: Định giá hiện tại đang hấp dẫn cho giai đoạn bình thường mới, VN-Index hướng đến đỉnh mới 1.440 điểm trong quý 4', 'Mirae Asset: \"Nếu dịch bệnh sớm được kiểm soát, VN-Index có thể lên mốc 1.440 điểm trong giai đoạn cuối năm 2021\"', 'Chứng khoán Mirae Asset tặng khách hàng KIA SELTOS 2021 khi mở mới tài khoản', 'Mirae Asset: “Định giá thị trường đã quay về mức hấp dẫn, VN-Index dao động trong khoảng 1.222 - 1.440 điểm nửa cuối năm 2021\"', 'Dư nợ cho vay tại các CTCK lập kỷ lục 145.000 tỷ đồng vào cuối quý 2, SSI lần đầu vượt dư nợ Mirae Asset sau 2 năm', 'Chứng khoán Mirae Asset lãi trước thuế quý 2 hơn 215 tỷ đồng, tăng trưởng 18% so với cùng kỳ năm trước', 'Mirae Asset: “Thị trường có thể sớm điều chỉnh trong tháng 7, VN-Index lùi về vùng 1.200 điểm”', 'Bamboo Capital (BCG): Mirae Asset Daewoo bán ra 5,4 triệu cổ phiếu và không còn là cổ đông lớn, hợp tác chiến lược với Lotte Land', 'Mirae Asset: Giá thép tăng \"nóng\" tốt trong ngắn hạn nhưng sẽ ảnh hưởng tiêu cực trong dài hạn', 'Mirae Asset: \"Định giá hấp dẫn, VN-Index sẽ chinh phục ngưỡng 1.500 điểm trong năm 2021\"', 'Mirae Asset: “VN-Index có thể lên gần 1.500 điểm, điều chỉnh là cơ hội gia tăng tỷ trọng cổ phiếu”', 'Chứng khoán Mirae Asset lập kỷ lục dư nợ cho vay hơn 13.800 tỷ đồng, lãi quý 1 tăng trưởng 90%', 'Mirae Asset dành tặng nhà đầu tư 1.000.000 vnd phí giao dịch']\n",
      "['Chứng khoán Mirae Asset chia sẻ cùng sinh viên VinUni về triển vọng nghề nghiệp ngành tài chính', 'Mirae Asset: “Triển vọng vĩ mô lạc quan, VN-Index có thể cán mốc 1.400 điểm”', '“Tranh tài hay - nhận ngay lãi kép” cùng Công ty Chứng khoán Mirae Asset Việt Nam', 'Mirae Asset: “Tiềm năng tăng giá của TTCK Việt Nam còn rất lớn, VN-Index có thể cán mốc 1.400 điểm trong năm nay”', 'Mirae Asset: Chứng khoán Việt Nam đang có định giá hấp dẫn', 'Mirae Asset: “Rủi ro bong bóng tài sản không xảy ra dù thị trường đã tăng vượt kỳ vọng, VN-Index có thể cán mốc 1.425 điểm trong năm 2021”', 'Dư nợ cho vay tại các CTCK lập kỷ lục hơn 90.000 tỷ đồng vào cuối năm 2020, SSI “phả hơi nóng” vào Mirae Asset', 'Chứng khoán Mirae Asset lãi 500 tỷ đồng trong năm 2020, dư nợ cho vay lập kỷ lục hơn 11.000 tỷ đồng', 'Mirae Asset: Rủi ro bong bóng là không xảy ra trong năm 2021 dù TTCK đã tăng trưởng vượt kỳ vọng', 'Mirae Asset đánh giá tích cực triển vọng ngành BĐS Khu công nghiệp, ưu tiên lựa chọn doanh nghiệp có quỹ đất', 'Hợp tác chiến lược giữa ABV Group và Mirae Asset Prévoir', 'Mirae Asset: “VN-Index có thể kéo dài xung lực tăng trong tháng 12 với vùng mục tiêu 1.050 điểm”', 'Vừa giao dịch, vừa có thể rinh giải thưởng tại chứng khoán Mirae Asset', 'Mirae Asset: “Rủi ro thị trường trong nước không lớn nhờ nội tại vững chắc, VN-Index khó thủng mốc 900 điểm”', 'Mirae Asset: Thanh khoản thị trường chứng khoán có thể tiếp tục tăng thêm 20%', 'Dư nợ margin toàn thị trường lập kỷ lục gần 66.000 tỷ đồng vào cuối quý 3, Mirae Asset tiếp tục bỏ xa phần còn lại', 'Chứng khoán Mirae Asset cho vay gần 10.000 tỷ đồng, lãi quý 3 tăng trưởng 29% so với cùng kỳ 2019', 'Mirae Asset: Yếu tố tích cực đã phản ánh vào giá cổ phiếu, VN-Index khó tiến xa trong tháng 10', 'Mirae Asset: VN-Index sẽ rung lắc mạnh quanh mốc 900 điểm trong tháng 9', 'Sau VFM và SSIAM, đến lượt Mirae Asset chuẩn bị ra mắt quỹ ETF VN30']\n",
      "['Mirae Asset: VN-Index có thể lấy lại mốc 900 điểm trong giai đoạn cuối năm 2020', 'Các CTCK Hàn Quốc tăng tốc cho vay margin, dư nợ của Mirae Asset lớn hơn SSI và HSC cộng lại, Bản Việt ra khỏi Top10', 'Mirae Asset báo lãi quý 2 tăng trưởng 34%, lập kỷ lục dư nợ margin hơn 8.500 tỷ đồng', 'Thị phần môi giới HoSE quý 2: VPS “vượt mặt” Mirae Asset, TCBS lọt vào top 10', 'Mirae Asset: Thị trường sẽ đối mặt với “làn gió ngược” bên ngoài, VN-Index gặp rung lắc tại vùng 890 điểm', 'Chứng khoán Mirae Asset đẩy mạnh hợp tác chiến lược với các doanh nghiệp Việt', 'Tập đoàn G-Group ký kết hợp tác chiến lược với Công ty Chứng khoán Mirae Asset', 'Chứng khoán Mirae Asset: NHNN cắt giảm lãi suất điều hành tạo sự phân kỳ lợi suất trên thị trường vốn, kết quả giá cổ phiếu sẽ tăng để cân bằng', 'Mirae Asset: Hiệu ứng “Sell in May” không lớn, VN-Index có thể kiểm định mốc 800 điểm trong tháng 5', 'Mirae Asset Finance Việt Nam và chiến lược kinh doanh thời COVID-19', 'Tập trung cho vay margin, Chứng khoán Mirae Asset lãi tăng trưởng hơn 6% trong quý 1/2020', 'Chứng khoán Mirae Asset (MAS) ước đạt 110 tỷ LNTT trong quý 1/2020, lên kế hoạch phát hành trái phiếu nhằm bổ sung vốn đầu tư giữa dịch', 'Mirae Asset dự báo VN-Index có thể lên mốc 865 điểm trong phần còn lại của năm 2020', 'Thị phần môi giới HoSE quý 1/2020: SSI giảm thị phần, Mirae Asset củng cố vị trí trong top 5', 'Mirae Asset chuẩn bị phát hành 500 tỷ đồng trái phiếu trong tháng 2', 'Chứng khoán Mirae Asset triển khai gói lãi suất Margin từ 9.5%/năm', 'Chứng khoán Mirae Asset: Lợi nhuận năm 2019 tăng gần 90%, giá trị môi giới cổ phiếu đạt hơn 33.200 tỷ đồng trong quý 4', 'Thị phần môi giới HoSE quý 4/2019: Mirae Asset củng cố vị trí, chứng khoán BOS tiếp tục nằm trong top 10', 'Chứng khoán Mirae Asset Việt Nam tổ chức đưa khách hàng sang thăm trụ sở tại Hàn Quốc', 'Giám đốc IT của Tập đoàn Tài chính Mirae Asset: “Không phát triển công nghệ AI để giảm nhân sự, Robo Advisor giúp quản lý tài sản với giá thành rẻ”']\n",
      "['Mirae Asset vượt qua SSI và HSC trở thành Công ty chứng khoán có dư nợ margin lớn nhất thị trường trong quý 3', 'Tập trung cho vay margin, Mirae Asset (MASVN) lãi quý 3 tăng 80% so với cùng kỳ năm 2018', 'Chứng khoán Mirae Asset chuẩn bị tăng vốn lên gần 5.500 tỷ đồng, trở thành CTCK có vốn điều lệ lớn nhất Việt Nam', 'Mirae Asset Việt Nam mở nhánh thứ 2 ở Hà Nội, đẩy mạnh bắc tiến', 'Chứng khoán Mirae Asset Việt Nam lần thứ 2 tổ chức hội thảo dành cho nhà đầu tư tại Hàn Quốc - Chủ đề Kinh tế Toàn Cầu', 'Chứng khoán Mirae Asset khai trương chi nhánh thứ 8 tại Việt Nam - chi nhánh Cần Thơ', 'Khai trương chi nhánh Đà Nẵng – Mirae Asset Hàn Quốc khẳng định quyết tâm trên thị trường chứng khoán Việt Nam', 'Giám đốc Mirae Asset (Việt Nam)– CN Hà Nội: Chứng khoán ổn định hơn trong năm 2019', 'Mirae Asset – 2 năm liền nhận giải “Công ty tài chính tăng trưởng nhanh nhất Việt Nam”', 'Sếp Mirae Asset: Việt Nam đang là ưu tiên số một của chúng tôi trong việc tăng vốn đầu tư dài hạn', 'Tập đoàn tài chính Mirae Asset gặp gỡ và tìm hiểu thông tin về Hải Phát Invest', 'Chứng khoán Mirae Asset (MAS) Việt Nam đẩy mạnh kinh doanh toàn quốc', 'Chứng khoán Mirae Asset (MAS) Việt Nam đẩy mạnh kinh doanh Toàn Quốc', 'Chứng khoán Mirae Asset (MAS) Việt Nam đẩy mạnh kinh doanh toàn quốc', '3 lời khuyên đắt giá của CEO Mirae Asset khi tham gia chứng khoán phái sinh', 'CEO Mirae Asset: \"Đừng nghĩ thị trường chứng khoán đang đen tối, biết cách, bạn sẽ kiếm được bộn tiền dù VnIndex có giảm thế nào chăng nữa\"', 'Mirae Asset Daewoo trở thành cổ đông lớn của Tradico, nâng sở hữu tại Bamboo Capital', 'Công bố thương hiệu mới Bảo hiểm Nhân thọ Mirae Asset Prévoir', 'Nền tảng phát triển bền vững của Mirae Asset trong năm 2018', 'Mirae Asset: Cổ phiếu ngoài top 20 vốn hóa đang bị định giá thấp so với tăng trưởng tiềm năng']\n",
      "['Sau tăng vốn lớn là đổi trụ sở chính, Mirae Asset Việt Nam đang tham gia mạnh hơn và thị trường chứng khoán Việt', 'Chứng Khoán Mirae Asset thông báo tuyển dụng', 'Công ty Chứng Khoán Mirae Asset tuyển dụng hàng loạt nhân sự', 'Được công ty mẹ \"bơm\" tiền, chứng khoán Mirae Asset tăng vốn điều lệ lên 2.000 tỷ đồng - đứng thứ 3 trên thị trường', 'Chứng Khoán Mirae Asset Wealth Management thông báo tuyển dụng', 'SIC và CTCK Mirae Asset hợp tác đẩy mạnh đầu tư tại thị trường Việt Nam', 'Chứng khoán Mirae Asset chi 350 triệu USD mua lại toà nhà cao nhất Việt Nam', 'Chứng khoán Mirae Asset Wealth Management thông báo tuyển dụng', 'Chứng khoán Mirae Asset: Lợi nhuận sau thuế tăng mạnh nhờ tự doanh', 'Chứng khoán Mirae Asset trở thành công ty 100% vốn nước ngoài', 'Chứng khoán Mirae Asset Việt Nam báo lỗ 1,5 tỷ trong quý I/2015', 'Chứng khoán Phượng Hoàng, Mirae Asset báo lỗ quý 4', 'Chứng khoán Mirae Asset bị phạt nặng 260 triệu đồng', 'Chứng khoán Mirae Asset báo lỗ quý 3', 'Chứng khoán MIRAE ASSET: Quý 2/2014 tiếp tục lỗ 845 triệu', 'Chứng khoán Mirae Asset tuyển dụng nhân viên môi giới', 'CK Mirae Asset: Năm 2013 lỗ nhưng vẫn có tháng lương thứ 13 cho nhân viên', 'CK Mirae Asset, Sen Vàng, Việt Thành: Báo lỗ quý 3 và 9 tháng đầu năm 2013', 'Mirae Asset: 6 tháng lỗ gần 7 tỷ đồng', 'Mirae Asset: Thay đổi Tổng Giám đốc']\n",
      "['Mirae Asset: Thay đổi kế toán trưởng, quý 1/2013 lỗ gần 2,7 tỷ đồng', 'Chứng khoán Mirae Asset: Thêm một CTCK báo lỗ quý 4', 'CK Mirae Asset (VN): Cấp dịch vụ margin lãi suất thấp nhất 9.99%/năm', 'Mirae Asset, CASC, BETA, TVSC báo lãi quý 3', 'Chứng khoán Mirae Asset: Ứng dụng giải pháp phần mềm lõi ExpMAS@Trade', 'Tỷ lệ an toàn vốn khả dụng CTCK Mirae Asset 379%, Kis Việt Nam 244%', 'Tập đoàn Mirae Asset tham gia HoSE', 'Mirae Asset mua 15% cổ phiếu của Southern Bank']\n",
      "Data saved successfully!\n"
     ]
    }
   ],
   "source": [
    "df = []\n",
    "\n",
    "for i in range(1,10): # Sửa\n",
    "    driver.get(\"https://cafef.vn/tim-kiem/trang-{}.chn?keywords=Mirae%20Asset\".format(i)) # Sửa\n",
    "    sleep(random.randint(5, 10))\n",
    "    \n",
    "    elems = driver.find_elements(By.CSS_SELECTOR, \"h3.titlehidden a[href]\")\n",
    "    title = [elem.text for elem in elems]\n",
    "    links = [elem.get_attribute('href') for elem in elems]\n",
    "    print(title)\n",
    "    # Append the data as tuples (index, title, link) to the dataframe list\n",
    "    for j in range(len(title)):\n",
    "        df.append([len(df) + 1, title[j], links[j]])\n",
    "    \n",
    "    # Handle the case where the last page has only 8 rows\n",
    "    if i == 9: # Sửa\n",
    "        df = df[:len(df) - (len(title) - 8)]  # Remove excess rows if any # Sửa\n",
    "\n",
    "# Convert the data to a DataFrame\n",
    "df_final = pd.DataFrame(df, columns=['index', 'title', 'link'])\n",
    "save_path = r'C:\\Users\\Admin\\OneDrive\\Documents\\Advanced Data Analytics\\2\\MiraeAsset_articles.csv' # Sửa\n",
    "# Save to a CSV file\n",
    "df_final.to_csv(save_path, index=False, encoding='utf-8-sig')\n",
    "\n",
    "print(\"Data saved successfully!\")"
   ]
  },
  {
   "cell_type": "markdown",
   "metadata": {},
   "source": [
    "# 3. Công ty Tài chính TNHH MTV Home Credit Việt Nam"
   ]
  },
  {
   "cell_type": "code",
   "execution_count": 5,
   "metadata": {},
   "outputs": [
    {
     "name": "stdout",
     "output_type": "stream",
     "text": [
      "['Home Credit báo lãi tăng gấp đôi, đạt hơn 470 tỷ đồng trong nửa đầu năm', 'Home Credit triển khai ưu đãi vay tiền mặt “lãi suất nhẹ” cho khách hàng', 'Home Credit vừa bán toàn bộ mảng kinh doanh tại Ấn Độ với giá chỉ bằng 10% thương vụ tại Việt Nam', 'Home Credit ưu đãi lớn khi vay online nhân dịp sinh nhật 16 tuổi', 'Home Credit và Thế Giới Di Động ký kết hợp tác chiến lược với sản phẩm Home PayLater', \"Home Credit Việt Nam trước khi về tay 'người Thái' với giá 800 triệu euro: Lợi nhuận 2023 đạt 375 tỷ, tổng tài sản hơn 25.500 tỷ đồng\", 'Vì sao Home Credit Việt Nam được định giá tới gần 22.000 tỷ - cao gấp đôi, gấp ba vốn hóa nhiều ngân hàng?', 'Bangkokpost: Ngân hàng lớn nhất Thái Lan đạt thỏa thuận mua lại Home Credit Việt Nam với giá 900 triệu USD', 'Home Credit và NextTech ký thỏa thuận chiến lược, triển khai dự án Home PayLater', 'Home Credit gửi trọn Tết Ấm về Bạc Liêu', \"Loạt ngân hàng lớn của Thái Lan và Hàn Quốc 'tranh mua' Home Credit Việt Nam, định giá ở mức 700 triệu USD\", '\"Ông lớn\" Fe Credit thua lỗ gần 3.000 tỷ trong nửa đầu năm, còn các công ty tài chính khác như Home Credit, HD Saison,... thì sao?', \"Được nhiều đại gia nước ngoài 'nhòm ngó', Home Credit kinh doanh thế nào trong nửa đầu 2023?\", 'Sau Grab đến “đại gia” ngân hàng Thái Lan hỏi mua, Home Credit có gì hấp dẫn các \"ông lớn\"?', 'Home Credit được vinh danh là \"Nơi làm việc tốt nhất châu Á\" năm thứ 3 liên tiếp', 'Home Credit Indonesia kí kết hợp tác chiến lược AI với FPT Smart Cloud', 'Quản lý tốt rủi ro làm nên những thành quả của Home Credit', 'Home Credit tiếp tục đón tiếp Lãnh đạo cấp cao CH Czech', 'Home Credit đang nợ Thế giới di động bao nhiêu tiền?', 'Home Credit nói gì về việc công an xuất hiện tại trụ sở?']\n",
      "['Home Credit vừa bị công an kiểm tra kinh doanh gì ở Việt Nam?', 'TP.HCM: Công an kiểm tra Công ty Home Credit Việt Nam', 'Gắn kết nhân viên và văn hóa trao quyền là khác biệt của Home Credit', 'Chiến lược nhân sự giúp Home Credit thắng lớn tại Vietnam HR Award 2022', 'Home Credit đồng hành cùng Dự án chạy bộ cộng đồng UpRace', 'Home Credit đưa “Mua trước trả sau” lên sàn Tiki', 'Công ty Tài chính Home Credit bị nhân viên chiếm đoạt tiền tỷ bằng hồ sơ khống', 'Từng thống trị mảng tài chính tiêu dùng từ chục năm trước, Home Credit Việt Nam kinh doanh ra sao trước khả năng đổi chủ?', 'Tập đoàn Home Credit và hoạt động Môi Trường, Xã Hội và Quản Trị (ESG)', 'Home Credit Việt Nam được HR Asia vinh danh “Nơi làm việc tốt nhất châu Á năm 2021”', 'FinTech Magazine: Thành công của Home Credit Việt Nam với sự đồng hành của FPT.AI', 'Tỷ phú sở hữu Home Credit, người giàu nhất Cộng hòa Czech, thiệt mạng trong tai nạn máy bay ở Alaska', 'Home Credit Việt Nam tăng mạnh vốn điều lệ', 'Home Credit hỗ trợ công tác phòng chống dịch Covid-19', 'Home Credit Việt Nam - Hành trình 12 năm gắn bó với hàng triệu khách hàng', 'Home Credit nỗ lực mở rộng cơ hội tiếp cận tài chính cho người Việt Nam', 'Home Credit không ngừng tối ưu hoá trải nghiệm khách hàng', 'Chủ động kiểm tra hạn mức vay với ứng dụng của Home Credit', 'E-Signing, Shopping card và con đường cạnh tranh bằng công nghệ của Home Credit', 'Vị thế của 2 \"ông lớn\" FE Credit và Home Credit trên thị trường tài chính tiêu dùng thế nào?']\n",
      "['Hạn mức tăng tín dụng của FE Credit, HD Saison và Home Credit năm 2019 khoảng 12%', 'Tài chính Xi măng đổi tên thành VietCredit, chuẩn bị cạnh tranh với Fe Credit, Home Credit', 'Home Credit bổ nhiệm tổng giám đốc mới', 'Công ty tài chính PPF Việt Nam đổi tên thành Home Credit Việt Nam', 'Home Credit Việt Nam bổ nhiệm Tổng giám đốc mới', 'Home Credit Việt Nam bổ nhiệm TGĐ mới', \"'Siêu đòn bẩy tài chính' mang tên Home Credit: Huy động 12%, cho vay tới 78%\", 'Lãi suất vay tiêu dùng cao, lợi nhuận của Home Credit vượt trội nhiều ngân hàng']\n",
      "Data saved successfully!\n"
     ]
    }
   ],
   "source": [
    "df = []\n",
    "\n",
    "for i in range(1,4): # Sửa\n",
    "    driver.get(\"https://cafef.vn/tim-kiem/trang-{}.chn?keywords=Home%20Credit\".format(i)) # Sửa\n",
    "    sleep(random.randint(5, 10))\n",
    "    \n",
    "    elems = driver.find_elements(By.CSS_SELECTOR, \"h3.titlehidden a[href]\")\n",
    "    title = [elem.text for elem in elems]\n",
    "    links = [elem.get_attribute('href') for elem in elems]\n",
    "    print(title)\n",
    "    # Append the data as tuples (index, title, link) to the dataframe list\n",
    "    for j in range(len(title)):\n",
    "        df.append([len(df) + 1, title[j], links[j]])\n",
    "    \n",
    "    # Handle the case where the last page has only 8 rows\n",
    "    if i == 3: # Sửa\n",
    "        df = df[:len(df) - (len(title) - 8)]  # Remove excess rows if any # Sửa\n",
    "\n",
    "# Convert the data to a DataFrame\n",
    "df_final = pd.DataFrame(df, columns=['index', 'title', 'link'])\n",
    "save_path = r'C:\\Users\\Admin\\OneDrive\\Documents\\Advanced Data Analytics\\2\\HomeCredit_articles.csv' # Sửa\n",
    "# Save to a CSV file\n",
    "df_final.to_csv(save_path, index=False, encoding='utf-8-sig')\n",
    "\n",
    "print(\"Data saved successfully!\")"
   ]
  },
  {
   "cell_type": "markdown",
   "metadata": {},
   "source": [
    "# 4. Công ty Tài chính TNHH MB Shinsei (MCredit)"
   ]
  },
  {
   "cell_type": "code",
   "execution_count": 6,
   "metadata": {},
   "outputs": [
    {
     "name": "stdout",
     "output_type": "stream",
     "text": [
      "['CEO Mcredit: Hiện tượng chưa từng xảy ra với các công ty tài chính và chiến lược \"trong nguy có cơ\"', 'Mua sắm mùa tựu trường, nhận ngay phần quà lên đến 200 triệu đồng với Mcredit', 'Mcredit và VNVC hỗ trợ tiêm vắc xin trả góp không lãi suất đạt mốc 100 tỷ', 'Fitch Ratings duy trì xếp hạng tín nhiệm Mcredit ở mức B cùng triển vọng Tích cực', 'Mcredit 4 năm liên tiếp nhận giải thưởng The Global Economics Awards', 'FiinRatings xếp hạng tín nhiệm Mcredit ở mức A- cùng triển vọng ổn định', 'Không đứng ngoài cuộc chơi, Mcredit từng bước đưa ESG vào văn hóa doanh nghiệp', 'Lợi nhuận Mcredit giảm 75%, ROE chỉ bằng 1/5 năm 2022', 'Định hướng thực hành ESG tại Mcredit: Xuất phát từ thay đổi trong nhận thức', 'Mcredit xuất sắc lọt Top 200 doanh nghiệp lớn nhất Việt Nam', 'Mcredit ưu đãi trả góp từ 747.000 đồng/tháng cho khách hàng mua xe máy Honda', 'Tuyên bố \"thu hồi nợ nhân văn\", lợi nhuận Mcredit ra sao sau 6 tháng đầu năm 2023?', 'Mcredit đồng hành san sẻ cùng người lao động có hoàn cảnh khó khăn', 'Mcredit được Fitch Ratings xếp hạng cao cùng triển vọng tích cực trong năm 2023', 'The Global Economics: Mcredit là Công ty tài chính tiêu dùng tốt nhất Việt Nam 2023', 'Mcredit chuyển đổi số để nâng cao trải nghiệm khách hàng', 'Mcredit - Thành công đến từ sự khác biệt', 'So găng lợi nhuận 3 công ty tài chính lớn FE Credit, HD Saison và MCredit', 'Giải mã cú đột phá vào Top 3 thị phần tài chính tiêu dùng của Mcredit', 'Chăm lo tinh thần cho công nhân, Mcredit tổ chức đại nhạc hội miễn phí']\n",
      "['Mcredit tổ chức sự kiện âm nhạc miễn phí dành tặng người lao động tại Bình Dương', 'Vay TikTak - Vay nhanh qua App của Mcredit xuất hiện đột phá', 'Mcredit mạnh tay giảm gần 50% lãi suất cho toàn bộ khách hàng công nhân', 'Mcredit nhận danh hiệu Top 200 doanh nghiệp lợi nhuận tốt nhất Việt Nam 2022', '\"Bóng lăn tới đâu - Trúng quà tới đó\"- khuyến mãi World Cup 2022 từ Mcredit', 'Mcredit hỗ trợ khách hàng miền Trung gói tín dụng 500 tỷ', 'Mcredit - Chủ động và đa dạng về nguồn vốn để tiếp tục tăng tốc', 'Mcredit được Fitch Ratings xếp hạng cao cùng triển vọng ổn định', 'Mcredit nhận giải thưởng “Công ty tài chính tiêu dùng tốt nhất 2022”', 'Trái phiếu Mcredit thu hút nhà đầu tư chuyên nghiệp', 'Mcredit triển khai chương trình khuyến mãi chào hè lớn nhất từ trước đến nay', 'Mcredit nhận giải thưởng công ty tài chính tiêu dùng tiêu biểu năm 2021', 'CEO Mcredit ông Lê Quốc Ninh: Ngôi vị TOP 4 thị trường về mặt quy mô sẽ chỉ là khởi đầu cho những chặng đường tiếp theo của chúng tôi', 'Ngân hàng mẹ bơm bao nhiêu vốn cho Mcredit, HDSaison, FE Credit?', 'Cuộc đua của \"tứ đại gia\" ngân hàng Nhật Bản tại FE Credit, HDSaison, Mcredit và SHB Finance', 'Mcredit lãi 6 tháng tăng gấp 3 lần cùng kỳ bất chấp ảnh hưởng dịch bệnh', 'MCREDIT lựa chọn nền tảng AWS trong hành trình số hóa', 'Mcredit ra mắt “Ứng dụng Đu Đủ”- tài chính thông minh', 'Mcredit tung nhiều ưu đãi tháng sinh nhật', 'FiinGroup: Tín dụng tiêu dùng \"hồi sinh\" trước những cơ hội mới, nhiều tay chơi Mcredit, Easy Credit, Lotte Finance… ồ ạt nhập cuộc']\n",
      "['Mcredit khởi động chiến lược phát triển giai đoạn 2021-2025', 'Mcredit triển khai thành công dự án chấm điểm tín dụng bằng trí tuệ nhân tạo (AI Score)', '5 ưu điểm vượt trội của thẻ tín dụng Mcredit', 'Fe Credit, HD Saison, MCredit, SHB Finance lên kế hoạch như thế nào trong năm nay?', 'Nợ xấu của FE Credit, MCredit, HD Saison đang như thế nào?', 'MBBank hợp nhất: Tiền gửi không kỳ hạn sụt giảm rõ rệt, hé lộ khối nợ xấu của MCredit', 'Mcredit: Những bước đi đột phá đáng ghi nhận', 'MCredit tăng cường quản lý chất lượng dịch vụ khách hàng', 'Mcredit và chiến lược phát triển bền vững', 'Mcredit: Tân binh nặng ký trên thị trường cho vay tiêu dùng', 'MB bán 49% công ty tài chính Mcredit cho đối tác Nhật, đặt mục tiêu vào top 3 trong 5 năm tới', 'Ra mắt công ty tài chính TNHH MTV MB và thương hiệu Mcredit', 'MB chuyển nhượng 49% vốn MCredit cho Shinsei Bank']\n",
      "Data saved successfully!\n"
     ]
    }
   ],
   "source": [
    "df = []\n",
    "\n",
    "for i in range(1,4): # Sửa\n",
    "    driver.get(\"https://cafef.vn/tim-kiem/trang-{}.chn?keywords=MCredit\".format(i)) # Sửa\n",
    "    sleep(random.randint(5, 10))\n",
    "    \n",
    "    elems = driver.find_elements(By.CSS_SELECTOR, \"h3.titlehidden a[href]\")\n",
    "    title = [elem.text for elem in elems]\n",
    "    links = [elem.get_attribute('href') for elem in elems]\n",
    "    print(title)\n",
    "    # Append the data as tuples (index, title, link) to the dataframe list\n",
    "    for j in range(len(title)):\n",
    "        df.append([len(df) + 1, title[j], links[j]])\n",
    "    \n",
    "    # Handle the case where the last page has only 8 rows\n",
    "    if i == 3: # Sửa\n",
    "        df = df[:len(df) - (len(title) - 13)]  # Remove excess rows if any # Sửa\n",
    "\n",
    "# Convert the data to a DataFrame\n",
    "df_final = pd.DataFrame(df, columns=['index', 'title', 'link'])\n",
    "save_path = r'C:\\Users\\Admin\\OneDrive\\Documents\\Advanced Data Analytics\\2\\MCredit_articles.csv' # Sửa\n",
    "# Save to a CSV file\n",
    "df_final.to_csv(save_path, index=False, encoding='utf-8-sig')\n",
    "\n",
    "print(\"Data saved successfully!\")"
   ]
  },
  {
   "cell_type": "markdown",
   "metadata": {},
   "source": [
    "# 5. Công ty Tài chính Cổ phần Điện lực (EVN Finance)\n"
   ]
  },
  {
   "cell_type": "code",
   "execution_count": 7,
   "metadata": {},
   "outputs": [
    {
     "name": "stdout",
     "output_type": "stream",
     "text": [
      "['Nhóm năng lượng tái tạo rục rịch lên sàn: DN được trợ lực bởi EVN Finance vừa chào UPCom, BCG Energy cũng sửa soạn niêm yết với khối tài sản gần 20.000 tỷ', 'Nguyên Tổng giám đốc EVN Finance (EVF) làm Phó Tổng giám đốc thường trực Eximbank', 'EVN Finance chốt quyền trả cổ tức bằng cổ phiếu tỷ lệ 8,2%', 'EVN Finance (EVF) thông qua phương án phát hành gần 27 triệu cổ phiếu trả cổ tức', \"Bố của 'sếp' Tổng EVN Finance đã hoàn tất mua vào 15 triệu cổ phiếu EVF trong vòng 8 phiên giao dịch\", 'EVN Finance (EVF) đặt mục tiêu lãi 453 tỷ đồng năm 2022, trình phương án tăng VĐL lên trên 7.000 tỷ đồng', 'Bố của \"sếp tổng\" EVN Finance đăng ký mua 15 triệu cổ phiếu EVF', '\"Sếp tổng\" của EVN Finance chi 250 tỷ đồng mua thêm 15 triệu cổ phiếu EVF', 'EVN Finance (EVF) chốt danh sách cổ đông phát hành gần 20 triệu cổ phiếu trả cổ tức', 'EVN Finance (EVF) lãi trước thuế 411 tỷ đồng cả năm, vượt 28% kế hoạch', 'EVN Finance (EVF) sẽ dừng giao dịch trên Upcom từ 30/12 để chuyển sàn', 'EVN Finance được chấp thuận niêm yết HoSE', 'Agribank rao bán nợ của nhóm khách hàng thế chấp cổ phiếu EVN Finance', 'EVN Finance (EVF) nộp hồ sơ niêm yết trên sàn HoSE, lợi nhuận 9 tháng hoàn thành 92% kế hoạch năm', 'EVN Finance (EVF) chốt danh sách cổ đông phát hành gần 40 triệu cổ phiếu trả cổ tức', 'Đấu giá cổ phần EVN Finance: 2 nhà đầu tư cá nhân trả gấp đôi thị giá', 'ABBank bán ra 9,1 triệu cổ phiếu EVF, không còn là cổ đông lớn của EVN Finance', 'EVN đưa gần 2,7 triệu cổ phần EVN Finance (EVF) ra bán đấu giá', 'EVN Finance (EVF) báo lãi hơn 90 tỷ đồng trong quý 1, tăng 52% so với cùng kỳ', 'EVN Finance xây dựng 2 kịch bản kinh doanh cho năm 2020, trong đó có dự báo lãi 286 tỷ đồng năm 2020']\n",
      "['Muốn sở hữu lượng lớn cổ phần EVN Finance, 2 nhà đầu tư cá nhân đã chấp nhận mua cao 60% so với thị giá', '2 nhà đầu tư cá nhân đặt mua 16,25 triệu cổ phần EVN Finance mà EVN bán đấu giá', 'EVN sắp sửa thoái toàn bộ vốn tại EVN Finance, giá đấu khởi điểm cao hơn thị giá gần gấp đôi', 'Vượt kế hoạch năm 2018, EVN Finance đặt mục tiêu 280 tỷ đồng LNTT năm 2019', 'EVN Finance bước chân vào cho vay trả góp và cho vay tiêu dùng', 'EVN bán xong 2 lô cổ phần EVN Finance, thu về gần 300 tỷ đồng', 'Sau SCIC Investments, EVN Finance cũng đã kịp trở thành cổ đông lớn của Công ty chuyên cung cấp ốc vít cho Samsung Việt Nam', 'Từ khoản nợ \"khó nhai\" của Ocean Group, bán hết 19,95 triệu cổ phiếu OCH, EVN Finance lãi lớn?', 'Sau 2 năm nhận chuyển nhượng từ tay OGC, EVN Finance đã thoái sạch vốn tại OCH', 'OGC đã chuyển nhượng 19,95 triệu cổ phiếu OCH cho EVN Finance', 'EVN bán đấu giá 62,5 triệu cổ phần EVN Finance', 'TMP: REE đã nhận chuyển nhượng 16,1 triệu CP từ EVN Finance', 'TBC: EVN Finance đã bán thoả thuận toàn bộ 3,95 triệu cổ phiếu', 'TBC: EVN Finance đã bán 2 triệu cổ phiếu', 'EVN Finance muốn rút vốn hoàn toàn khỏi TBC', 'TMP mở đường cho REE nhận chuyển nhượng 16 triệu CP từ EVN Finance', 'EVN Finance: Bà Nguyễn Thị Ngọc Mai thôi là Thành viên HĐQT', 'PPC: EVN Finance thoái gần 22 triệu cổ phiếu giá sàn, thu về hơn 267 tỷ đồng', 'EVN Finance muốn bán gần 22 triệu cổ phiếu PPC', 'ĐHCĐ EVN Finance: Sẽ tăng vốn lên 3.500 tỷ trong giai đoạn 2012 - 2013']\n",
      "['PPC: EVN Finance đăng ký mua 5 triệu cổ phiếu và bán 3 triệu cổ phiếu', 'TLT: EVN Finance đã mua 601.000 cổ phiếu và trở thành cổ đông lớn', 'EVN Finance lại \"nhăm nhe\" đầu tư thêm vào PPC, TBC', 'PPC: EVN Finance đăng ký mua 5 triệu CP, bán 3 triệu CP', 'TMP: EVN Finance đã mua 16,1 triệu cổ phiếu', 'PPC: EVN Finance đăng ký mua 5 triệu CP và bán 3 triệu CP', 'PPC: EVN Finance nhận chuyển nhượng hơn 37,32 triệu cổ phiếu', 'TBC: EVN Finance đăng ký mua 2 triệu CP và bán 1,5 triệu CP', 'EVN đăng ký chuyển nhượng hơn 47,1 triệu cổ phiếu PPC cho ABBank và EVN Finance', 'EVN Finance: Đặt mục tiêu 423,3 tỷ đồng LNST, tăng 42%', 'EVN Finance sắp tới sẽ phát hành 1.200 tỷ đồng trái phiếu EVN']\n",
      "Data saved successfully!\n"
     ]
    }
   ],
   "source": [
    "df = []\n",
    "\n",
    "for i in range(1,4): # Sửa\n",
    "    driver.get(\"https://cafef.vn/tim-kiem/trang-{}.chn?keywords=EVN%20Finance\".format(i)) # Sửa\n",
    "    sleep(random.randint(5, 10))\n",
    "    \n",
    "    elems = driver.find_elements(By.CSS_SELECTOR, \"h3.titlehidden a[href]\")\n",
    "    title = [elem.text for elem in elems]\n",
    "    links = [elem.get_attribute('href') for elem in elems]\n",
    "    print(title)\n",
    "    # Append the data as tuples (index, title, link) to the dataframe list\n",
    "    for j in range(len(title)):\n",
    "        df.append([len(df) + 1, title[j], links[j]])\n",
    "    \n",
    "    # Handle the case where the last page has only 8 rows\n",
    "    if i == 3: # Sửa\n",
    "        df = df[:len(df) - (len(title) - 13)]  # Remove excess rows if any # Sửa\n",
    "\n",
    "# Convert the data to a DataFrame\n",
    "df_final = pd.DataFrame(df, columns=['index', 'title', 'link'])\n",
    "save_path = r'C:\\Users\\Admin\\OneDrive\\Documents\\Advanced Data Analytics\\2\\EVNFinance_articles.csv' # Sửa\n",
    "# Save to a CSV file\n",
    "df_final.to_csv(save_path, index=False, encoding='utf-8-sig')\n",
    "\n",
    "print(\"Data saved successfully!\")"
   ]
  },
  {
   "cell_type": "markdown",
   "metadata": {},
   "source": [
    "# 6. Công ty Tài chính Cổ phần Tín Việt (VietCredit)\n"
   ]
  },
  {
   "cell_type": "code",
   "execution_count": 8,
   "metadata": {},
   "outputs": [
    {
     "name": "stdout",
     "output_type": "stream",
     "text": [
      "['VietCredit thông báo gia hạn gói thầu', 'VietCredit thông báo mời chào giá cạnh tranh', 'VietCredit thông báo mời chào giá cạnh tranh', 'VietCredit thông báo mời chào giá cạnh tranh', 'BCTC Q1/2024: VietCredit ghi nhận lợi nhuận trước thuế đạt 8,8 tỷ đồng', 'VietCredit: Lợi nhuận trước thuế năm 2023 sau kiểm toán đạt 22,06 tỷ đồng', 'VietCredit thông báo mời chào giá cạnh tranh', 'BCTC 2023 VietCredit: Một năm khó khăn và dấu hiệu phục hồi', 'VietCredit thông báo mời chào giá cạnh tranh', 'VietCredit thông báo mời chào giá cạnh tranh', 'Vững vàng vượt sóng, VietCredit tiếp tục ghi danh “Top 100 Nơi làm việc tốt nhất Việt Nam”', 'VietCredit thông báo mời chào giá cạnh tranh', 'VietCredit thông báo mời chào giá cạnh tranh', 'VietCredit thông báo mời chào giá cạnh tranh', 'VietCredit ra mắt ứng dụng tài chính số TIN Card', 'VietCredit thông báo mời chào giá cạnh tranh', 'VietCredit thông báo mời chào giá cạnh tranh', 'VietCredit thông báo mời chào giá cạnh tranh', 'VietCredit thông báo mời chào giá cạnh tranh', 'VietCredit thông báo gia hạn thời gian mời chào giá cạnh tranh']\n",
      "['Đại hội đồng Cổ đông 2023: VietCredit nâng cao hiệu quả trong từng hành động', 'VietCredit thông báo mời chào giá cạnh tranh', 'VietCredit thông báo mời chào giá cạnh tranh', 'VietCredit được The Asian Banker vinh danh giải thưởng thẻ tín dụng nội địa tốt nhất Việt Nam', 'VietCredit gia hạn thời gian nhận hồ sơ ứng cử, đề cử nhân sự dự kiến tham gia Hội đồng quản trị và Ban kiểm soát', 'VietCredit được vinh danh hạng mục \"Ngân hàng triển khai thẻ tín dụng NAPAS hiệu quả\"', 'VietCredit tiên phong triển khai giải pháp chống giả mạo xác thực số FPT.IDCheck', 'VietCredit tổ chức đại hội đồng cổ đông bất thường năm 2022', 'VietCredit thông báo mời chào giá cạnh tranh', 'VietCredit chủ động phối hợp với công an Hà Nội chống tội phạm lừa đảo', 'VietCredit nhận giải thưởng “Nơi làm việc tốt nhất Châu Á 2022”', 'Giao tiếp thông minh qua tính năng FasConnect của VietCredit', 'VietCredit thông báo mời chào giá cạnh tranh', 'VietCredit thông báo mời chào giá cạnh tranh', 'VietCredit thông báo gia hạn thời gian mời chào giá cạnh tranh', 'VietCredit mở rộng cho vay tiêu dùng thông qua bưu điện Việt Nam', 'VietCredit ra mắt chính sách ưu đãi cho khách có lịch sử tín dụng tốt', 'VietCredit thông báo mời chào giá cạnh tranh', 'VietCredit, Hitachi và VietnamPost ký MOU hợp tác kinh doanh', 'VietCredit tổ chức thành công Đại hội đồng cổ đông thường niên năm 2022']\n",
      "['VietCredit thăng hạng vượt bậc đứng thứ 3 trong bảng FAST500', 'VietCredit đồng hành cùng giải Marathon Dalat Ultra Trail năm 2022', 'VietCredit thông báo mời chào giá cạnh tranh', 'VietCredit thông báo mời chào giá cạnh tranh', 'VietCredit ra mắt hệ thống hợp đồng điện tử và chữ ký điện tử', 'VietCredit vinh dự đạt Top 500 Doanh nghiệp lớn nhất Việt Nam 2021', 'Đã có 270 khách hàng VietCredit trúng tivi, tủ lạnh…đợt 2', 'VietCredit thêm tính năng thanh toán online cho thẻ tín dụng nội địa', 'Thẻ VietCredit tiếp sức tài chính cho khách hàng mua nhà, xe hơi', 'VietCredit thông báo gia hạn mời chào giá cạnh tranh', 'VietCredit thông báo mời chào giá cạnh tranh', 'VietCredit thông báo mời thầu', 'VietCredit được vinh danh top 10 doanh nghiệp có nguồn nhân lực hạnh phúc', 'VietCredit thông báo mời chào giá cạnh tranh', 'VietCredit thông báo mời chào giá cạnh tranh', 'VietCredit thông báo mời thầu', 'VietCredit hỗ trợ người thân của khách hàng vượt qua đại dịch', 'Trúng xe tay ga, đồ điện máy khi cà thẻ VietCredit để mua sắm', 'VietCredit hợp tác NAPAS thúc đẩy phát triển thẻ tín dụng nội địa', 'VietCredit triển khai mở thẻ tín dụng nội địa cho tài xế công nghệ']\n",
      "['Tri ân khách hàng, VietCredit giảm lãi, tặng thưởng hấp dẫn', 'Mở thẻ VietCredit, tặng voucher mua sắm, thêm miễn lãi 14 ngày', 'VietCredit đạt giải thưởng “Nơi làm việc tốt nhất châu Á” của HR Asia', 'Thẻ tín dụng nội địa VietCredit có thêm tính năng thanh toán qua POS/MPOS', 'VietCredit chia sẻ khó khăn với khách hàng bị tác động bởi Covid-19', 'VietCredit thông báo mời thầu', 'VietCredit thông báo gia hạn thời gian nộp hồ sơ dự thầu', 'VietCredit thông báo chào gói thầu dịch vụ pháp lý, xử lý nợ xấu', 'VietCredit thông báo mời chào giá cạnh tranh', 'VietCredit thông báo mời thầu', 'VietCredit hợp tác Kredivo triển khai sản phẩm mới “Mua trước Trả sau”', 'VietCredit thông báo gia hạn mời chào giá cạnh tranh', 'VietCredit thông báo mời chào giá cạnh tranh', 'VietCredit thông báo mời chào giá cạnh tranh', 'VietCredit thông báo gia hạn thời gian nộp hồ sơ dự thầu', 'VietCredit thông báo mời thầu', 'VietCredit Thông báo mời thầu', 'VietCredit thông báo gia hạn mời chào giá cạnh tranh', 'Lý do thẻ tín dụng nội địa VietCredit được giới văn phòng ưa chuộng', 'VietCredit thông báo mời chào giá cạnh tranh']\n",
      "['VietCredit quyết liệt phối hợp công an chống tội phạm lừa đảo tài chính', 'VietCredit thông báo gia hạn thời gian nộp hồ sơ dự thầu', 'VietCredit ưu đãi hè tặng vali cao cấp cho chủ thẻ vay', 'VietCredit thông báo mời thầu', 'VietCredit thông báo mời thầu', 'Thư mời hợp tác cung cấp dịch vụ pháp lý hỗ trợ công tác thu hồi nợ tại VietCredit', 'VietCredit thông báo mời chào giá cạnh tranh', 'VietCredit thông báo gia hạn thời gian nộp hồ sơ dự thầu', 'VietCredit được vinh danh trong bảng xếp hạng FAST500', 'VietCredit thông báo mời thầu', 'VietCredit thông báo mời thầu', 'VietCredit thông báo mời thầu', 'VietCredit thông báo chào gói thầu hợp tác kinh doanh theo phương thức tàu trần', 'VietCredit thông báo gia hạn chào gói thầu hợp tác kinh doanh theo phương thức tàu trần', 'VietCredit thông báo chào gói thầu hợp tác kinh doanh theo phương thức tàu trần', 'VietCredit thông báo mời chào giá cạnh tranh', 'VietCredit thông báo mời thầu', 'VietCredit thông báo mời thầu', 'VietCredit thông báo gia hạn thời gian mời chào giá cạnh tranh dự án Digital Onboarding Platform', 'VietCredit thông báo mời chào giá cạnh tranh']\n",
      "['VietCredit thông báo mời chào giá cạnh tranh', 'VietCredit thông báo mời chào giá cạnh tranh', 'VietCredit thông báo mời chào giá cạnh tranh', 'VietCredit thông báo mời chào giá cạnh tranh', 'VietCredit thông báo gia hạn thời gian mời chào giá cạnh tranh', 'VietCredit thông báo mời chào giá cạnh tranh', 'VietCredit thông báo mời chào giá cạnh tranh', 'VietCredit thông báo gia hạn thời gian mời chào giá cạnh tranh dự án giải pháp Text To Speech', 'VietCredit và Hitachi hợp tác đưa công nghệ vào mô hình đăng ký vay tiêu dùng', 'VietCredit thông báo mời chào giá cạnh tranh', 'VietCredit tri ân khách hàng thân thiết với chương trình 20 ngày vay miễn lãi suất', 'VietCredit thông báo gia hạn thời gian mời chào giá cạnh tranh', 'Nhận hàng loạt ưu đãi từ VietCredit, khách hàng \"đắc lợi\"', 'VietCredit thông báo mời chào giá cạnh tranh', 'VietCredit miễn nhiều loại phí giúp người đi vay nhẹ tài chính', 'Vietcredit thông báo mời chào giá cạnh tranh', 'VietCredit thông báo mời chào giá cạnh tranh', 'VietCredit  thông báo gia hạn thời gian mời chào giá cạnh tranh', 'VietCredit thông báo mời chào giá cạnh tranh', 'VietCredit thông báo mời chào giá cạnh tranh']\n",
      "['Vietcredit thông báo gia hạn thời gian mời chào giá cạnh tranh', 'VietCredit minh bạch phương pháp tính lãi với khách hàng', 'VietCredit thông báo mời chào giá cạnh tranh', 'VietCredit phát hành chứng chỉ tiền gửi lãi suất hấp dẫn lên đến 10%/năm', 'VietCredit thông báo thay đổi thời gian mời chào giá cạnh tranh', 'VietCredit thông báo mời chào giá cạnh tranh', 'VietCredit thông báo mời chào giá cạnh tranh', 'VietCredit thông báo mời chào giá cạnh tranh', 'VietCredit thông báo mời chào giá cạnh tranh', 'VietCredit thông báo mời chào giá cạnh tranh', 'VietCredit thông báo mời chào giá cạnh tranh', 'Vietcredit thông báo mời chào giá cạnh tranh', 'VietCredit thông báo mời chào giá cạnh tranh', 'Tài chính Xi măng đổi tên thành VietCredit, chuẩn bị cạnh tranh với Fe Credit, Home Credit']\n",
      "Data saved successfully!\n"
     ]
    }
   ],
   "source": [
    "df = []\n",
    "\n",
    "for i in range(1,8): # Sửa\n",
    "    driver.get(\"https://cafef.vn/tim-kiem/trang-{}.chn?keywords=VietCredit\".format(i)) # Sửa\n",
    "    sleep(random.randint(5, 10))\n",
    "    \n",
    "    elems = driver.find_elements(By.CSS_SELECTOR, \"h3.titlehidden a[href]\")\n",
    "    title = [elem.text for elem in elems]\n",
    "    links = [elem.get_attribute('href') for elem in elems]\n",
    "    print(title)\n",
    "    # Append the data as tuples (index, title, link) to the dataframe list\n",
    "    for j in range(len(title)):\n",
    "        df.append([len(df) + 1, title[j], links[j]])\n",
    "    \n",
    "    # Handle the case where the last page has only 8 rows\n",
    "    if i == 7: # Sửa\n",
    "        df = df[:len(df) - (len(title) - 14)]  # Remove excess rows if any # Sửa\n",
    "\n",
    "# Convert the data to a DataFrame\n",
    "df_final = pd.DataFrame(df, columns=['index', 'title', 'link'])\n",
    "save_path = r'C:\\Users\\Admin\\OneDrive\\Documents\\Advanced Data Analytics\\2\\VietCredit_articles.csv' # Sửa\n",
    "# Save to a CSV file\n",
    "df_final.to_csv(save_path, index=False, encoding='utf-8-sig')\n",
    "\n",
    "print(\"Data saved successfully!\")"
   ]
  }
 ],
 "metadata": {
  "kernelspec": {
   "display_name": "base",
   "language": "python",
   "name": "python3"
  },
  "language_info": {
   "codemirror_mode": {
    "name": "ipython",
    "version": 3
   },
   "file_extension": ".py",
   "mimetype": "text/x-python",
   "name": "python",
   "nbconvert_exporter": "python",
   "pygments_lexer": "ipython3",
   "version": "3.11.4"
  }
 },
 "nbformat": 4,
 "nbformat_minor": 2
}
